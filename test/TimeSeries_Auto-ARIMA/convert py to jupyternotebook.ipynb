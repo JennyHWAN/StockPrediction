{
 "cells": [
  {
   "cell_type": "code",
   "execution_count": 1,
   "id": "7b57c4cd",
   "metadata": {},
   "outputs": [
    {
     "name": "stdout",
     "output_type": "stream",
     "text": [
      "[jupytext] Reading TimeSeries_AutoARIMA.py in format py\r\n",
      "[jupytext] Writing TimeSeries_AutoARIMA.ipynb\r\n"
     ]
    }
   ],
   "source": [
    "!jupytext --to notebook TimeSeries_AutoARIMA.py"
   ]
  },
  {
   "cell_type": "code",
   "execution_count": null,
   "id": "54e3cfb4",
   "metadata": {},
   "outputs": [],
   "source": []
  }
 ],
 "metadata": {
  "kernelspec": {
   "display_name": "Python 3 (ipykernel)",
   "language": "python",
   "name": "python3"
  },
  "language_info": {
   "codemirror_mode": {
    "name": "ipython",
    "version": 3
   },
   "file_extension": ".py",
   "mimetype": "text/x-python",
   "name": "python",
   "nbconvert_exporter": "python",
   "pygments_lexer": "ipython3",
   "version": "3.9.13"
  }
 },
 "nbformat": 4,
 "nbformat_minor": 5
}
