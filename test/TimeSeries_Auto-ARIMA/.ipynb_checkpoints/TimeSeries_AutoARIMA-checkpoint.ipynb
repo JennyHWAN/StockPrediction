{
 "cells": [
  {
   "cell_type": "code",
   "execution_count": null,
   "id": "9054352e",
   "metadata": {},
   "outputs": [],
   "source": []
  },
  {
   "cell_type": "code",
   "execution_count": 1,
   "id": "04b9eb16",
   "metadata": {
    "lines_to_next_cell": 2
   },
   "outputs": [],
   "source": [
    "\n",
    "\n",
    "# Importing necessary libraries\n",
    "import pandas as pd\n",
    "import numpy as np\n",
    "import matplotlib.pyplot as plt\n",
    "get_ipython().run_line_magic('matplotlib', 'inline')\n",
    "import warnings\n",
    "warnings.filterwarnings('ignore')"
   ]
  },
  {
   "cell_type": "code",
   "execution_count": 2,
   "id": "7507d047",
   "metadata": {
    "lines_to_next_cell": 2
   },
   "outputs": [
    {
     "name": "stdout",
     "output_type": "stream",
     "text": [
      "Requirement already satisfied: pmdarima in /Users/jennyhuang/yes/lib/python3.9/site-packages (2.0.3)\n",
      "Requirement already satisfied: scikit-learn>=0.22 in /Users/jennyhuang/yes/lib/python3.9/site-packages (from pmdarima) (1.2.2)\n",
      "Requirement already satisfied: Cython!=0.29.18,!=0.29.31,>=0.29 in /Users/jennyhuang/yes/lib/python3.9/site-packages (from pmdarima) (0.29.34)\n",
      "Requirement already satisfied: setuptools!=50.0.0,>=38.6.0 in /Users/jennyhuang/yes/lib/python3.9/site-packages (from pmdarima) (62.3.2)\n",
      "Requirement already satisfied: numpy>=1.21.2 in /Users/jennyhuang/yes/lib/python3.9/site-packages (from pmdarima) (1.22.4)\n",
      "Requirement already satisfied: joblib>=0.11 in /Users/jennyhuang/yes/lib/python3.9/site-packages (from pmdarima) (1.2.0)\n",
      "Requirement already satisfied: pandas>=0.19 in /Users/jennyhuang/yes/lib/python3.9/site-packages (from pmdarima) (1.4.2)\n",
      "Requirement already satisfied: urllib3 in /Users/jennyhuang/yes/lib/python3.9/site-packages (from pmdarima) (1.25.11)\n",
      "Requirement already satisfied: statsmodels>=0.13.2 in /Users/jennyhuang/yes/lib/python3.9/site-packages (from pmdarima) (0.14.0)\n",
      "Requirement already satisfied: scipy>=1.3.2 in /Users/jennyhuang/yes/lib/python3.9/site-packages (from pmdarima) (1.10.1)\n",
      "Requirement already satisfied: python-dateutil>=2.8.1 in /Users/jennyhuang/yes/lib/python3.9/site-packages (from pandas>=0.19->pmdarima) (2.8.2)\n",
      "Requirement already satisfied: pytz>=2020.1 in /Users/jennyhuang/yes/lib/python3.9/site-packages (from pandas>=0.19->pmdarima) (2023.3)\n",
      "Requirement already satisfied: threadpoolctl>=2.0.0 in /Users/jennyhuang/yes/lib/python3.9/site-packages (from scikit-learn>=0.22->pmdarima) (3.1.0)\n",
      "Requirement already satisfied: patsy>=0.5.2 in /Users/jennyhuang/yes/lib/python3.9/site-packages (from statsmodels>=0.13.2->pmdarima) (0.5.3)\n",
      "Requirement already satisfied: packaging>=21.3 in /Users/jennyhuang/yes/lib/python3.9/site-packages (from statsmodels>=0.13.2->pmdarima) (21.3)\n",
      "Requirement already satisfied: pyparsing!=3.0.5,>=2.0.2 in /Users/jennyhuang/yes/lib/python3.9/site-packages (from packaging>=21.3->statsmodels>=0.13.2->pmdarima) (3.0.9)\n",
      "Requirement already satisfied: six in /Users/jennyhuang/yes/lib/python3.9/site-packages (from patsy>=0.5.2->statsmodels>=0.13.2->pmdarima) (1.16.0)\n",
      "\n",
      "\u001b[1m[\u001b[0m\u001b[34;49mnotice\u001b[0m\u001b[1;39;49m]\u001b[0m\u001b[39;49m A new release of pip is available: \u001b[0m\u001b[31;49m23.0.1\u001b[0m\u001b[39;49m -> \u001b[0m\u001b[32;49m23.1.2\u001b[0m\n",
      "\u001b[1m[\u001b[0m\u001b[34;49mnotice\u001b[0m\u001b[1;39;49m]\u001b[0m\u001b[39;49m To update, run: \u001b[0m\u001b[32;49mpip install --upgrade pip\u001b[0m\n"
     ]
    }
   ],
   "source": [
    "\n",
    "\n",
    "#Installing pmdarima package\n",
    "get_ipython().system(' pip install pmdarima')"
   ]
  },
  {
   "cell_type": "code",
   "execution_count": 3,
   "id": "8bd68cd0",
   "metadata": {
    "lines_to_next_cell": 2
   },
   "outputs": [],
   "source": [
    "\n",
    "\n",
    "# Importing auto_arima \n",
    "from pmdarima.arima import auto_arima"
   ]
  },
  {
   "cell_type": "code",
   "execution_count": 4,
   "id": "537fb462",
   "metadata": {
    "lines_to_next_cell": 2
   },
   "outputs": [],
   "source": [
    "\n",
    "\n",
    "#Read the sales dataset\n",
    "sales_data = pd.read_csv(\"Champagne Sales.csv\")"
   ]
  },
  {
   "cell_type": "code",
   "execution_count": 5,
   "id": "4aa0f3f5",
   "metadata": {
    "lines_to_next_cell": 2
   },
   "outputs": [
    {
     "data": {
      "text/html": [
       "<div>\n",
       "<style scoped>\n",
       "    .dataframe tbody tr th:only-of-type {\n",
       "        vertical-align: middle;\n",
       "    }\n",
       "\n",
       "    .dataframe tbody tr th {\n",
       "        vertical-align: top;\n",
       "    }\n",
       "\n",
       "    .dataframe thead th {\n",
       "        text-align: right;\n",
       "    }\n",
       "</style>\n",
       "<table border=\"1\" class=\"dataframe\">\n",
       "  <thead>\n",
       "    <tr style=\"text-align: right;\">\n",
       "      <th></th>\n",
       "      <th>Month</th>\n",
       "      <th>Champagne sales</th>\n",
       "    </tr>\n",
       "  </thead>\n",
       "  <tbody>\n",
       "    <tr>\n",
       "      <th>0</th>\n",
       "      <td>1964-01</td>\n",
       "      <td>2815</td>\n",
       "    </tr>\n",
       "    <tr>\n",
       "      <th>1</th>\n",
       "      <td>1964-02</td>\n",
       "      <td>2672</td>\n",
       "    </tr>\n",
       "    <tr>\n",
       "      <th>2</th>\n",
       "      <td>1964-03</td>\n",
       "      <td>2755</td>\n",
       "    </tr>\n",
       "    <tr>\n",
       "      <th>3</th>\n",
       "      <td>1964-04</td>\n",
       "      <td>2721</td>\n",
       "    </tr>\n",
       "    <tr>\n",
       "      <th>4</th>\n",
       "      <td>1964-05</td>\n",
       "      <td>2946</td>\n",
       "    </tr>\n",
       "  </tbody>\n",
       "</table>\n",
       "</div>"
      ],
      "text/plain": [
       "     Month  Champagne sales\n",
       "0  1964-01             2815\n",
       "1  1964-02             2672\n",
       "2  1964-03             2755\n",
       "3  1964-04             2721\n",
       "4  1964-05             2946"
      ]
     },
     "execution_count": 5,
     "metadata": {},
     "output_type": "execute_result"
    }
   ],
   "source": [
    "\n",
    "\n",
    "sales_data.head()"
   ]
  },
  {
   "cell_type": "code",
   "execution_count": 6,
   "id": "9abead65",
   "metadata": {
    "lines_to_next_cell": 2
   },
   "outputs": [
    {
     "data": {
      "text/html": [
       "<div>\n",
       "<style scoped>\n",
       "    .dataframe tbody tr th:only-of-type {\n",
       "        vertical-align: middle;\n",
       "    }\n",
       "\n",
       "    .dataframe tbody tr th {\n",
       "        vertical-align: top;\n",
       "    }\n",
       "\n",
       "    .dataframe thead th {\n",
       "        text-align: right;\n",
       "    }\n",
       "</style>\n",
       "<table border=\"1\" class=\"dataframe\">\n",
       "  <thead>\n",
       "    <tr style=\"text-align: right;\">\n",
       "      <th></th>\n",
       "      <th>Month</th>\n",
       "      <th>Champagne sales</th>\n",
       "    </tr>\n",
       "  </thead>\n",
       "  <tbody>\n",
       "    <tr>\n",
       "      <th>100</th>\n",
       "      <td>1972-05</td>\n",
       "      <td>4618</td>\n",
       "    </tr>\n",
       "    <tr>\n",
       "      <th>101</th>\n",
       "      <td>1972-06</td>\n",
       "      <td>5312</td>\n",
       "    </tr>\n",
       "    <tr>\n",
       "      <th>102</th>\n",
       "      <td>1972-07</td>\n",
       "      <td>4298</td>\n",
       "    </tr>\n",
       "    <tr>\n",
       "      <th>103</th>\n",
       "      <td>1972-08</td>\n",
       "      <td>1413</td>\n",
       "    </tr>\n",
       "    <tr>\n",
       "      <th>104</th>\n",
       "      <td>1972-09</td>\n",
       "      <td>5877</td>\n",
       "    </tr>\n",
       "  </tbody>\n",
       "</table>\n",
       "</div>"
      ],
      "text/plain": [
       "       Month  Champagne sales\n",
       "100  1972-05             4618\n",
       "101  1972-06             5312\n",
       "102  1972-07             4298\n",
       "103  1972-08             1413\n",
       "104  1972-09             5877"
      ]
     },
     "execution_count": 6,
     "metadata": {},
     "output_type": "execute_result"
    }
   ],
   "source": [
    "\n",
    "\n",
    "#Make sure there are no null values at the end of the dataset\n",
    "sales_data.tail()"
   ]
  },
  {
   "cell_type": "code",
   "execution_count": 7,
   "id": "cdf5630b",
   "metadata": {
    "lines_to_next_cell": 2
   },
   "outputs": [
    {
     "data": {
      "text/plain": [
       "Month              object\n",
       "Champagne sales     int64\n",
       "dtype: object"
      ]
     },
     "execution_count": 7,
     "metadata": {},
     "output_type": "execute_result"
    }
   ],
   "source": [
    "\n",
    "\n",
    "#Check the datatypes\n",
    "sales_data.dtypes"
   ]
  },
  {
   "cell_type": "code",
   "execution_count": 8,
   "id": "5ddbdbcb",
   "metadata": {
    "lines_to_next_cell": 2
   },
   "outputs": [],
   "source": [
    "\n",
    "\n",
    "#Convert the month column to datetime\n",
    "sales_data['Month']=pd.to_datetime(sales_data['Month'])"
   ]
  },
  {
   "cell_type": "code",
   "execution_count": 9,
   "id": "0765652c",
   "metadata": {
    "lines_to_next_cell": 2
   },
   "outputs": [
    {
     "data": {
      "text/plain": [
       "Month              datetime64[ns]\n",
       "Champagne sales             int64\n",
       "dtype: object"
      ]
     },
     "execution_count": 9,
     "metadata": {},
     "output_type": "execute_result"
    }
   ],
   "source": [
    "\n",
    "\n",
    "#Recheck the datatypes\n",
    "sales_data.dtypes"
   ]
  },
  {
   "cell_type": "code",
   "execution_count": 10,
   "id": "4a977ae5",
   "metadata": {
    "lines_to_next_cell": 2
   },
   "outputs": [],
   "source": [
    "\n",
    "\n",
    "#Set the index of the Month \n",
    "sales_data.set_index('Month',inplace=True)"
   ]
  },
  {
   "cell_type": "code",
   "execution_count": 11,
   "id": "a905afaf",
   "metadata": {
    "lines_to_next_cell": 2
   },
   "outputs": [
    {
     "data": {
      "text/html": [
       "<div>\n",
       "<style scoped>\n",
       "    .dataframe tbody tr th:only-of-type {\n",
       "        vertical-align: middle;\n",
       "    }\n",
       "\n",
       "    .dataframe tbody tr th {\n",
       "        vertical-align: top;\n",
       "    }\n",
       "\n",
       "    .dataframe thead th {\n",
       "        text-align: right;\n",
       "    }\n",
       "</style>\n",
       "<table border=\"1\" class=\"dataframe\">\n",
       "  <thead>\n",
       "    <tr style=\"text-align: right;\">\n",
       "      <th></th>\n",
       "      <th>Champagne sales</th>\n",
       "    </tr>\n",
       "    <tr>\n",
       "      <th>Month</th>\n",
       "      <th></th>\n",
       "    </tr>\n",
       "  </thead>\n",
       "  <tbody>\n",
       "    <tr>\n",
       "      <th>1964-01-01</th>\n",
       "      <td>2815</td>\n",
       "    </tr>\n",
       "    <tr>\n",
       "      <th>1964-02-01</th>\n",
       "      <td>2672</td>\n",
       "    </tr>\n",
       "    <tr>\n",
       "      <th>1964-03-01</th>\n",
       "      <td>2755</td>\n",
       "    </tr>\n",
       "    <tr>\n",
       "      <th>1964-04-01</th>\n",
       "      <td>2721</td>\n",
       "    </tr>\n",
       "    <tr>\n",
       "      <th>1964-05-01</th>\n",
       "      <td>2946</td>\n",
       "    </tr>\n",
       "  </tbody>\n",
       "</table>\n",
       "</div>"
      ],
      "text/plain": [
       "            Champagne sales\n",
       "Month                      \n",
       "1964-01-01             2815\n",
       "1964-02-01             2672\n",
       "1964-03-01             2755\n",
       "1964-04-01             2721\n",
       "1964-05-01             2946"
      ]
     },
     "execution_count": 11,
     "metadata": {},
     "output_type": "execute_result"
    }
   ],
   "source": [
    "\n",
    "\n",
    "sales_data.head()"
   ]
  },
  {
   "cell_type": "code",
   "execution_count": 12,
   "id": "6f5fa01d",
   "metadata": {
    "lines_to_next_cell": 2
   },
   "outputs": [
    {
     "data": {
      "text/plain": [
       "<Axes: xlabel='Month'>"
      ]
     },
     "execution_count": 12,
     "metadata": {},
     "output_type": "execute_result"
    },
    {
     "data": {
      "image/png": "[encoded data removed]",
      "text/plain": [
       "<Figure size 432x288 with 1 Axes>"
      ]
     },
     "metadata": {
      "needs_background": "light"
     },
     "output_type": "display_data"
    }
   ],
   "source": [
    "\n",
    "\n",
    "# To understand the pattern\n",
    "sales_data.plot()"
   ]
  },
  {
   "cell_type": "code",
   "execution_count": 13,
   "id": "d79779b8",
   "metadata": {
    "lines_to_next_cell": 2
   },
   "outputs": [
    {
     "data": {
      "text/plain": [
       "(0.01, False)"
      ]
     },
     "execution_count": 13,
     "metadata": {},
     "output_type": "execute_result"
    }
   ],
   "source": [
    "\n",
    "\n",
    "#Testing for stationarity\n",
    "from pmdarima.arima import ADFTest\n",
    "adf_test = ADFTest(alpha = 0.05)\n",
    "adf_test.should_diff(sales_data)"
   ]
  },
  {
   "cell_type": "code",
   "execution_count": 14,
   "id": "e20de6c7",
   "metadata": {
    "lines_to_next_cell": 2
   },
   "outputs": [],
   "source": [
    "\n",
    "\n",
    "#Spliting the dataset into train and test\n",
    "train = sales_data[:85]\n",
    "test = sales_data[-20:]"
   ]
  },
  {
   "cell_type": "code",
   "execution_count": 15,
   "id": "8ab22a56",
   "metadata": {
    "lines_to_next_cell": 2
   },
   "outputs": [
    {
     "data": {
      "text/html": [
       "<div>\n",
       "<style scoped>\n",
       "    .dataframe tbody tr th:only-of-type {\n",
       "        vertical-align: middle;\n",
       "    }\n",
       "\n",
       "    .dataframe tbody tr th {\n",
       "        vertical-align: top;\n",
       "    }\n",
       "\n",
       "    .dataframe thead th {\n",
       "        text-align: right;\n",
       "    }\n",
       "</style>\n",
       "<table border=\"1\" class=\"dataframe\">\n",
       "  <thead>\n",
       "    <tr style=\"text-align: right;\">\n",
       "      <th></th>\n",
       "      <th>Champagne sales</th>\n",
       "    </tr>\n",
       "    <tr>\n",
       "      <th>Month</th>\n",
       "      <th></th>\n",
       "    </tr>\n",
       "  </thead>\n",
       "  <tbody>\n",
       "    <tr>\n",
       "      <th>1970-09-01</th>\n",
       "      <td>5221</td>\n",
       "    </tr>\n",
       "    <tr>\n",
       "      <th>1970-10-01</th>\n",
       "      <td>6424</td>\n",
       "    </tr>\n",
       "    <tr>\n",
       "      <th>1970-11-01</th>\n",
       "      <td>9842</td>\n",
       "    </tr>\n",
       "    <tr>\n",
       "      <th>1970-12-01</th>\n",
       "      <td>13076</td>\n",
       "    </tr>\n",
       "    <tr>\n",
       "      <th>1971-01-01</th>\n",
       "      <td>3934</td>\n",
       "    </tr>\n",
       "  </tbody>\n",
       "</table>\n",
       "</div>"
      ],
      "text/plain": [
       "            Champagne sales\n",
       "Month                      \n",
       "1970-09-01             5221\n",
       "1970-10-01             6424\n",
       "1970-11-01             9842\n",
       "1970-12-01            13076\n",
       "1971-01-01             3934"
      ]
     },
     "execution_count": 15,
     "metadata": {},
     "output_type": "execute_result"
    }
   ],
   "source": [
    "\n",
    "\n",
    "train.tail()"
   ]
  },
  {
   "cell_type": "code",
   "execution_count": 16,
   "id": "475fecb4",
   "metadata": {
    "lines_to_next_cell": 2
   },
   "outputs": [
    {
     "data": {
      "text/html": [
       "<div>\n",
       "<style scoped>\n",
       "    .dataframe tbody tr th:only-of-type {\n",
       "        vertical-align: middle;\n",
       "    }\n",
       "\n",
       "    .dataframe tbody tr th {\n",
       "        vertical-align: top;\n",
       "    }\n",
       "\n",
       "    .dataframe thead th {\n",
       "        text-align: right;\n",
       "    }\n",
       "</style>\n",
       "<table border=\"1\" class=\"dataframe\">\n",
       "  <thead>\n",
       "    <tr style=\"text-align: right;\">\n",
       "      <th></th>\n",
       "      <th>Champagne sales</th>\n",
       "    </tr>\n",
       "    <tr>\n",
       "      <th>Month</th>\n",
       "      <th></th>\n",
       "    </tr>\n",
       "  </thead>\n",
       "  <tbody>\n",
       "    <tr>\n",
       "      <th>1971-02-01</th>\n",
       "      <td>3162</td>\n",
       "    </tr>\n",
       "    <tr>\n",
       "      <th>1971-03-01</th>\n",
       "      <td>4286</td>\n",
       "    </tr>\n",
       "    <tr>\n",
       "      <th>1971-04-01</th>\n",
       "      <td>4676</td>\n",
       "    </tr>\n",
       "    <tr>\n",
       "      <th>1971-05-01</th>\n",
       "      <td>5010</td>\n",
       "    </tr>\n",
       "    <tr>\n",
       "      <th>1971-06-01</th>\n",
       "      <td>4874</td>\n",
       "    </tr>\n",
       "  </tbody>\n",
       "</table>\n",
       "</div>"
      ],
      "text/plain": [
       "            Champagne sales\n",
       "Month                      \n",
       "1971-02-01             3162\n",
       "1971-03-01             4286\n",
       "1971-04-01             4676\n",
       "1971-05-01             5010\n",
       "1971-06-01             4874"
      ]
     },
     "execution_count": 16,
     "metadata": {},
     "output_type": "execute_result"
    }
   ],
   "source": [
    "\n",
    "\n",
    "test.head()"
   ]
  },
  {
   "cell_type": "code",
   "execution_count": 17,
   "id": "981ecd21",
   "metadata": {
    "lines_to_next_cell": 2
   },
   "outputs": [
    {
     "data": {
      "text/plain": [
       "[<matplotlib.lines.Line2D at 0x280b31cd0>]"
      ]
     },
     "execution_count": 17,
     "metadata": {},
     "output_type": "execute_result"
    },
    {
     "data": {
      "image/png": "[encoded data removed]",
      "text/plain": [
       "<Figure size 432x288 with 1 Axes>"
      ]
     },
     "metadata": {
      "needs_background": "light"
     },
     "output_type": "display_data"
    }
   ],
   "source": [
    "\n",
    "\n",
    "plt.plot(train)\n",
    "plt.plot(test)"
   ]
  },
  {
   "cell_type": "code",
   "execution_count": 18,
   "id": "8315768e",
   "metadata": {
    "lines_to_next_cell": 2
   },
   "outputs": [
    {
     "name": "stdout",
     "output_type": "stream",
     "text": [
      "Performing stepwise search to minimize aic\n",
      " ARIMA(0,1,0)(0,1,0)[12]             : AIC=1203.853, Time=0.04 sec\n",
      " ARIMA(1,1,0)(1,1,0)[12]             : AIC=1192.025, Time=0.07 sec\n",
      " ARIMA(0,1,1)(0,1,1)[12]             : AIC=1176.246, Time=0.18 sec\n",
      " ARIMA(0,1,1)(0,1,0)[12]             : AIC=1174.731, Time=0.06 sec\n",
      " ARIMA(0,1,1)(1,1,0)[12]             : AIC=1176.034, Time=0.14 sec\n",
      " ARIMA(0,1,1)(1,1,1)[12]             : AIC=1176.700, Time=0.26 sec\n",
      " ARIMA(1,1,1)(0,1,0)[12]             : AIC=1175.054, Time=0.07 sec\n",
      " ARIMA(0,1,2)(0,1,0)[12]             : AIC=1174.769, Time=0.04 sec\n",
      " ARIMA(1,1,0)(0,1,0)[12]             : AIC=1194.721, Time=0.02 sec\n",
      " ARIMA(1,1,2)(0,1,0)[12]             : AIC=1174.564, Time=0.14 sec\n",
      " ARIMA(1,1,2)(1,1,0)[12]             : AIC=inf, Time=0.37 sec\n",
      " ARIMA(1,1,2)(0,1,1)[12]             : AIC=inf, Time=0.45 sec\n",
      " ARIMA(1,1,2)(1,1,1)[12]             : AIC=1176.631, Time=0.64 sec\n",
      " ARIMA(2,1,2)(0,1,0)[12]             : AIC=1176.127, Time=0.18 sec\n",
      " ARIMA(1,1,3)(0,1,0)[12]             : AIC=1176.124, Time=0.15 sec\n",
      " ARIMA(0,1,3)(0,1,0)[12]             : AIC=1176.458, Time=0.06 sec\n",
      " ARIMA(2,1,1)(0,1,0)[12]             : AIC=1176.656, Time=0.06 sec\n",
      " ARIMA(2,1,3)(0,1,0)[12]             : AIC=1180.591, Time=0.18 sec\n",
      " ARIMA(1,1,2)(0,1,0)[12] intercept   : AIC=inf, Time=0.06 sec\n",
      "\n",
      "Best model:  ARIMA(1,1,2)(0,1,0)[12]          \n",
      "Total fit time: 3.188 seconds\n"
     ]
    }
   ],
   "source": [
    "\n",
    "\n",
    "arima_model =  auto_arima(train,start_p=0, d=1, start_q=0, \n",
    "                          max_p=5, max_d=5, max_q=5, start_P=0, \n",
    "                          D=1, start_Q=0, max_P=5, max_D=5,\n",
    "                          max_Q=5, m=12, seasonal=True, \n",
    "                          error_action='warn',trace = True,\n",
    "                          supress_warnings=True,stepwise = True,\n",
    "                          random_state=20,n_fits = 50 )"
   ]
  },
  {
   "cell_type": "code",
   "execution_count": 19,
   "id": "bf104ae3",
   "metadata": {
    "lines_to_next_cell": 2
   },
   "outputs": [
    {
     "data": {
      "text/html": [
       "<table class=\"simpletable\">\n",
       "<caption>SARIMAX Results</caption>\n",
       "<tr>\n",
       "  <th>Dep. Variable:</th>                  <td>y</td>                <th>  No. Observations:  </th>    <td>85</td>   \n",
       "</tr>\n",
       "<tr>\n",
       "  <th>Model:</th>           <td>SARIMAX(1, 1, 2)x(0, 1, [], 12)</td> <th>  Log Likelihood     </th> <td>-583.282</td>\n",
       "</tr>\n",
       "<tr>\n",
       "  <th>Date:</th>                   <td>Sun, 21 May 2023</td>         <th>  AIC                </th> <td>1174.564</td>\n",
       "</tr>\n",
       "<tr>\n",
       "  <th>Time:</th>                       <td>16:30:59</td>             <th>  BIC                </th> <td>1183.670</td>\n",
       "</tr>\n",
       "<tr>\n",
       "  <th>Sample:</th>                    <td>01-01-1964</td>            <th>  HQIC               </th> <td>1178.189</td>\n",
       "</tr>\n",
       "<tr>\n",
       "  <th></th>                          <td>- 01-01-1971</td>           <th>                     </th>     <td> </td>   \n",
       "</tr>\n",
       "<tr>\n",
       "  <th>Covariance Type:</th>               <td>opg</td>               <th>                     </th>     <td> </td>   \n",
       "</tr>\n",
       "</table>\n",
       "<table class=\"simpletable\">\n",
       "<tr>\n",
       "     <td></td>       <th>coef</th>     <th>std err</th>      <th>z</th>      <th>P>|z|</th>  <th>[0.025</th>    <th>0.975]</th>  \n",
       "</tr>\n",
       "<tr>\n",
       "  <th>ar.L1</th>  <td>   -0.8411</td> <td>    0.152</td> <td>   -5.542</td> <td> 0.000</td> <td>   -1.139</td> <td>   -0.544</td>\n",
       "</tr>\n",
       "<tr>\n",
       "  <th>ma.L1</th>  <td>    0.0513</td> <td>    0.167</td> <td>    0.308</td> <td> 0.758</td> <td>   -0.275</td> <td>    0.378</td>\n",
       "</tr>\n",
       "<tr>\n",
       "  <th>ma.L2</th>  <td>   -0.8673</td> <td>    0.086</td> <td>  -10.132</td> <td> 0.000</td> <td>   -1.035</td> <td>   -0.699</td>\n",
       "</tr>\n",
       "<tr>\n",
       "  <th>sigma2</th> <td> 5.863e+05</td> <td> 7.03e+04</td> <td>    8.341</td> <td> 0.000</td> <td> 4.49e+05</td> <td> 7.24e+05</td>\n",
       "</tr>\n",
       "</table>\n",
       "<table class=\"simpletable\">\n",
       "<tr>\n",
       "  <th>Ljung-Box (L1) (Q):</th>     <td>0.05</td> <th>  Jarque-Bera (JB):  </th> <td>8.55</td> \n",
       "</tr>\n",
       "<tr>\n",
       "  <th>Prob(Q):</th>                <td>0.83</td> <th>  Prob(JB):          </th> <td>0.01</td> \n",
       "</tr>\n",
       "<tr>\n",
       "  <th>Heteroskedasticity (H):</th> <td>2.61</td> <th>  Skew:              </th> <td>-0.10</td>\n",
       "</tr>\n",
       "<tr>\n",
       "  <th>Prob(H) (two-sided):</th>    <td>0.02</td> <th>  Kurtosis:          </th> <td>4.68</td> \n",
       "</tr>\n",
       "</table><br/><br/>Warnings:<br/>[1] Covariance matrix calculated using the outer product of gradients (complex-step)."
      ],
      "text/latex": [
       "\\begin{center}\n",
       "\\begin{tabular}{lclc}\n",
       "\\toprule\n",
       "\\textbf{Dep. Variable:}          &                y                & \\textbf{  No. Observations:  } &     85      \\\\\n",
       "\\textbf{Model:}                  & SARIMAX(1, 1, 2)x(0, 1, [], 12) & \\textbf{  Log Likelihood     } &  -583.282   \\\\\n",
       "\\textbf{Date:}                   &         Sun, 21 May 2023        & \\textbf{  AIC                } &  1174.564   \\\\\n",
       "\\textbf{Time:}                   &             16:30:59            & \\textbf{  BIC                } &  1183.670   \\\\\n",
       "\\textbf{Sample:}                 &            01-01-1964           & \\textbf{  HQIC               } &  1178.189   \\\\\n",
       "\\textbf{}                        &           - 01-01-1971          & \\textbf{                     } &             \\\\\n",
       "\\textbf{Covariance Type:}        &               opg               & \\textbf{                     } &             \\\\\n",
       "\\bottomrule\n",
       "\\end{tabular}\n",
       "\\begin{tabular}{lcccccc}\n",
       "                & \\textbf{coef} & \\textbf{std err} & \\textbf{z} & \\textbf{P$> |$z$|$} & \\textbf{[0.025} & \\textbf{0.975]}  \\\\\n",
       "\\midrule\n",
       "\\textbf{ar.L1}  &      -0.8411  &        0.152     &    -5.542  &         0.000        &       -1.139    &       -0.544     \\\\\n",
       "\\textbf{ma.L1}  &       0.0513  &        0.167     &     0.308  &         0.758        &       -0.275    &        0.378     \\\\\n",
       "\\textbf{ma.L2}  &      -0.8673  &        0.086     &   -10.132  &         0.000        &       -1.035    &       -0.699     \\\\\n",
       "\\textbf{sigma2} &    5.863e+05  &     7.03e+04     &     8.341  &         0.000        &     4.49e+05    &     7.24e+05     \\\\\n",
       "\\bottomrule\n",
       "\\end{tabular}\n",
       "\\begin{tabular}{lclc}\n",
       "\\textbf{Ljung-Box (L1) (Q):}     & 0.05 & \\textbf{  Jarque-Bera (JB):  } &  8.55  \\\\\n",
       "\\textbf{Prob(Q):}                & 0.83 & \\textbf{  Prob(JB):          } &  0.01  \\\\\n",
       "\\textbf{Heteroskedasticity (H):} & 2.61 & \\textbf{  Skew:              } & -0.10  \\\\\n",
       "\\textbf{Prob(H) (two-sided):}    & 0.02 & \\textbf{  Kurtosis:          } &  4.68  \\\\\n",
       "\\bottomrule\n",
       "\\end{tabular}\n",
       "%\\caption{SARIMAX Results}\n",
       "\\end{center}\n",
       "\n",
       "Warnings: \\newline\n",
       " [1] Covariance matrix calculated using the outer product of gradients (complex-step)."
      ],
      "text/plain": [
       "<class 'statsmodels.iolib.summary.Summary'>\n",
       "\"\"\"\n",
       "                                      SARIMAX Results                                      \n",
       "===========================================================================================\n",
       "Dep. Variable:                                   y   No. Observations:                   85\n",
       "Model:             SARIMAX(1, 1, 2)x(0, 1, [], 12)   Log Likelihood                -583.282\n",
       "Date:                             Sun, 21 May 2023   AIC                           1174.564\n",
       "Time:                                     16:30:59   BIC                           1183.670\n",
       "Sample:                                 01-01-1964   HQIC                          1178.189\n",
       "                                      - 01-01-1971                                         \n",
       "Covariance Type:                               opg                                         \n",
       "==============================================================================\n",
       "                 coef    std err          z      P>|z|      [0.025      0.975]\n",
       "------------------------------------------------------------------------------\n",
       "ar.L1         -0.8411      0.152     -5.542      0.000      -1.139      -0.544\n",
       "ma.L1          0.0513      0.167      0.308      0.758      -0.275       0.378\n",
       "ma.L2         -0.8673      0.086    -10.132      0.000      -1.035      -0.699\n",
       "sigma2      5.863e+05   7.03e+04      8.341      0.000    4.49e+05    7.24e+05\n",
       "===================================================================================\n",
       "Ljung-Box (L1) (Q):                   0.05   Jarque-Bera (JB):                 8.55\n",
       "Prob(Q):                              0.83   Prob(JB):                         0.01\n",
       "Heteroskedasticity (H):               2.61   Skew:                            -0.10\n",
       "Prob(H) (two-sided):                  0.02   Kurtosis:                         4.68\n",
       "===================================================================================\n",
       "\n",
       "Warnings:\n",
       "[1] Covariance matrix calculated using the outer product of gradients (complex-step).\n",
       "\"\"\""
      ]
     },
     "execution_count": 19,
     "metadata": {},
     "output_type": "execute_result"
    }
   ],
   "source": [
    "\n",
    "\n",
    "#Summary of the model\n",
    "arima_model.summary()"
   ]
  },
  {
   "cell_type": "code",
   "execution_count": 20,
   "id": "e7310e53",
   "metadata": {
    "lines_to_next_cell": 2
   },
   "outputs": [
    {
     "data": {
      "text/html": [
       "<div>\n",
       "<style scoped>\n",
       "    .dataframe tbody tr th:only-of-type {\n",
       "        vertical-align: middle;\n",
       "    }\n",
       "\n",
       "    .dataframe tbody tr th {\n",
       "        vertical-align: top;\n",
       "    }\n",
       "\n",
       "    .dataframe thead th {\n",
       "        text-align: right;\n",
       "    }\n",
       "</style>\n",
       "<table border=\"1\" class=\"dataframe\">\n",
       "  <thead>\n",
       "    <tr style=\"text-align: right;\">\n",
       "      <th></th>\n",
       "      <th>predicted_sales</th>\n",
       "    </tr>\n",
       "    <tr>\n",
       "      <th>Month</th>\n",
       "      <th></th>\n",
       "    </tr>\n",
       "  </thead>\n",
       "  <tbody>\n",
       "    <tr>\n",
       "      <th>1971-02-01</th>\n",
       "      <td>2746.780670</td>\n",
       "    </tr>\n",
       "    <tr>\n",
       "      <th>1971-03-01</th>\n",
       "      <td>3247.876654</td>\n",
       "    </tr>\n",
       "    <tr>\n",
       "      <th>1971-04-01</th>\n",
       "      <td>3592.561958</td>\n",
       "    </tr>\n",
       "    <tr>\n",
       "      <th>1971-05-01</th>\n",
       "      <td>2800.854959</td>\n",
       "    </tr>\n",
       "    <tr>\n",
       "      <th>1971-06-01</th>\n",
       "      <td>3841.944735</td>\n",
       "    </tr>\n",
       "    <tr>\n",
       "      <th>1971-07-01</th>\n",
       "      <td>4088.009598</td>\n",
       "    </tr>\n",
       "    <tr>\n",
       "      <th>1971-08-01</th>\n",
       "      <td>1596.338059</td>\n",
       "    </tr>\n",
       "    <tr>\n",
       "      <th>1971-09-01</th>\n",
       "      <td>5089.996496</td>\n",
       "    </tr>\n",
       "    <tr>\n",
       "      <th>1971-10-01</th>\n",
       "      <td>6284.031344</td>\n",
       "    </tr>\n",
       "    <tr>\n",
       "      <th>1971-11-01</th>\n",
       "      <td>9709.572220</td>\n",
       "    </tr>\n",
       "    <tr>\n",
       "      <th>1971-12-01</th>\n",
       "      <td>12937.229347</td>\n",
       "    </tr>\n",
       "    <tr>\n",
       "      <th>1972-01-01</th>\n",
       "      <td>3800.564541</td>\n",
       "    </tr>\n",
       "    <tr>\n",
       "      <th>1972-02-01</th>\n",
       "      <td>2608.857609</td>\n",
       "    </tr>\n",
       "    <tr>\n",
       "      <th>1972-03-01</th>\n",
       "      <td>3113.728258</td>\n",
       "    </tr>\n",
       "    <tr>\n",
       "      <th>1972-04-01</th>\n",
       "      <td>3455.238571</td>\n",
       "    </tr>\n",
       "    <tr>\n",
       "      <th>1972-05-01</th>\n",
       "      <td>2666.202159</td>\n",
       "    </tr>\n",
       "    <tr>\n",
       "      <th>1972-06-01</th>\n",
       "      <td>3705.045618</td>\n",
       "    </tr>\n",
       "    <tr>\n",
       "      <th>1972-07-01</th>\n",
       "      <td>3952.999929</td>\n",
       "    </tr>\n",
       "    <tr>\n",
       "      <th>1972-08-01</th>\n",
       "      <td>1459.739115</td>\n",
       "    </tr>\n",
       "    <tr>\n",
       "      <th>1972-09-01</th>\n",
       "      <td>4954.734343</td>\n",
       "    </tr>\n",
       "  </tbody>\n",
       "</table>\n",
       "</div>"
      ],
      "text/plain": [
       "            predicted_sales\n",
       "Month                      \n",
       "1971-02-01      2746.780670\n",
       "1971-03-01      3247.876654\n",
       "1971-04-01      3592.561958\n",
       "1971-05-01      2800.854959\n",
       "1971-06-01      3841.944735\n",
       "1971-07-01      4088.009598\n",
       "1971-08-01      1596.338059\n",
       "1971-09-01      5089.996496\n",
       "1971-10-01      6284.031344\n",
       "1971-11-01      9709.572220\n",
       "1971-12-01     12937.229347\n",
       "1972-01-01      3800.564541\n",
       "1972-02-01      2608.857609\n",
       "1972-03-01      3113.728258\n",
       "1972-04-01      3455.238571\n",
       "1972-05-01      2666.202159\n",
       "1972-06-01      3705.045618\n",
       "1972-07-01      3952.999929\n",
       "1972-08-01      1459.739115\n",
       "1972-09-01      4954.734343"
      ]
     },
     "execution_count": 20,
     "metadata": {},
     "output_type": "execute_result"
    }
   ],
   "source": [
    "\n",
    "\n",
    "prediction = pd.DataFrame(arima_model.predict(n_periods = 20),index=test.index)\n",
    "prediction.columns = ['predicted_sales']\n",
    "prediction"
   ]
  },
  {
   "cell_type": "code",
   "execution_count": 22,
   "id": "97f9c3ee",
   "metadata": {
    "lines_to_next_cell": 2
   },
   "outputs": [
    {
     "data": {
      "image/png": "[encoded data removed]",
      "text/plain": [
       "<Figure size 576x360 with 1 Axes>"
      ]
     },
     "metadata": {
      "needs_background": "light"
     },
     "output_type": "display_data"
    }
   ],
   "source": [
    "\n",
    "\n",
    "plt.figure(figsize=(8,5))\n",
    "plt.plot(train,label=\"Training\")\n",
    "plt.plot(test,label=\"Test\")\n",
    "plt.plot(prediction,label=\"Predicted\")\n",
    "plt.legend(loc = 'best')\n",
    "plt.show()"
   ]
  },
  {
   "cell_type": "code",
   "execution_count": null,
   "id": "a081c7f0",
   "metadata": {
    "lines_to_next_cell": 2
   },
   "outputs": [],
   "source": [
    "\n",
    "\n",
    "from sklearn.metrics import r2_score\n",
    "test['predicted_sales'] = prediction\n",
    "r2_score(test['Champagne sales'], test['predicted_sales'])"
   ]
  },
  {
   "cell_type": "code",
   "execution_count": null,
   "id": "73d137b1",
   "metadata": {
    "lines_to_next_cell": 2
   },
   "outputs": [],
   "source": [
    "\n",
    "\n"
   ]
  }
 ],
 "metadata": {
  "jupytext": {
   "cell_metadata_filter": "-all",
   "encoding": "# coding: utf-8",
   "executable": "/usr/bin/env python",
   "main_language": "python",
   "notebook_metadata_filter": "-all"
  },
  "kernelspec": {
   "display_name": "Python 3 (ipykernel)",
   "language": "python",
   "name": "python3"
  },
  "language_info": {
   "codemirror_mode": {
    "name": "ipython",
    "version": 3
   },
   "file_extension": ".py",
   "mimetype": "text/x-python",
   "name": "python",
   "nbconvert_exporter": "python",
   "pygments_lexer": "ipython3",
   "version": "3.9.13"
  }
 },
 "nbformat": 4,
 "nbformat_minor": 5
}
