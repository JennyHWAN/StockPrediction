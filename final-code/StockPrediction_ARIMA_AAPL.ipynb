{
 "cells": [
  {
   "cell_type": "code",
   "execution_count": 1,
   "id": "33c2e9b2",
   "metadata": {},
   "outputs": [],
   "source": [
    "# Importing necessary libraries\n",
    "import pandas as pd\n",
    "import numpy as np\n",
    "import matplotlib.pyplot as plt\n",
    "get_ipython().run_line_magic('matplotlib', 'inline')\n",
    "import warnings\n",
    "warnings.filterwarnings('ignore')\n",
    "import yfinance as yf\n",
    "from pandas_datareader import data as pdr\n",
    "from pmdarima.arima import auto_arima\n",
    "from pmdarima.arima import ADFTest\n",
    "import statsmodels.api as sm\n",
    "from sklearn.metrics import r2_score\n",
    "from fastai.tabular.all import add_datepart\n",
    "from sklearn.preprocessing import LabelEncoder\n",
    "from xgboost import XGBRegressor\n",
    "import math\n",
    "import time\n",
    "\n",
    "tic = time.time()"
   ]
  },
  {
   "cell_type": "code",
   "execution_count": 2,
   "id": "14897425",
   "metadata": {},
   "outputs": [],
   "source": [
    "# # read the stock data at the first run\n",
    "# # to download the data, need the vpn\n",
    "# # comment the following codes after the first run\n",
    "# yf.pdr_override()\n",
    "# data = pdr.get_data_yahoo(\"AAPL\", start=\"2022-01-01\", end=\"2023-05-30\")\n",
    "# data # there are 352 data in total using as training and validation data\n",
    "# data.to_csv('/Users/jennyhuang/Documents/jobs/DBC-AI-Launch/project1-StockPrediction/AAPL.csv')"
   ]
  },
  {
   "cell_type": "code",
   "execution_count": 3,
   "id": "cc990bba",
   "metadata": {},
   "outputs": [
    {
     "name": "stdout",
     "output_type": "stream",
     "text": [
      "<class 'pandas.core.frame.DataFrame'>\n",
      "DatetimeIndex: 352 entries, 2022-01-03 to 2023-05-26\n",
      "Data columns (total 6 columns):\n",
      " #   Column     Non-Null Count  Dtype  \n",
      "---  ------     --------------  -----  \n",
      " 0   Open       352 non-null    float64\n",
      " 1   High       352 non-null    float64\n",
      " 2   Low        352 non-null    float64\n",
      " 3   Close      352 non-null    float64\n",
      " 4   Adj Close  352 non-null    float64\n",
      " 5   Volume     352 non-null    int64  \n",
      "dtypes: float64(5), int64(1)\n",
      "memory usage: 19.2 KB\n"
     ]
    }
   ],
   "source": [
    "# uncomment this block only after the first run\n",
    "data = pd.read_csv('/Users/jennyhuang/Documents/jobs/DBC-AI-Launch/project1-StockPrediction/AAPL.csv')\n",
    "data['Date'] = pd.to_datetime(data['Date'])\n",
    "data.set_index('Date', inplace=True)\n",
    "data.info()"
   ]
  },
  {
   "cell_type": "code",
   "execution_count": 4,
   "id": "7167be4c",
   "metadata": {},
   "outputs": [
    {
     "name": "stdout",
     "output_type": "stream",
     "text": [
      "<class 'pandas.core.frame.DataFrame'>\n",
      "DatetimeIndex: 352 entries, 2022-01-03 to 2023-05-26\n",
      "Data columns (total 1 columns):\n",
      " #   Column  Non-Null Count  Dtype  \n",
      "---  ------  --------------  -----  \n",
      " 0   Close   352 non-null    float64\n",
      "dtypes: float64(1)\n",
      "memory usage: 5.5 KB\n"
     ]
    }
   ],
   "source": [
    "data_2 = pd.DataFrame({'Close':data['Close']})\n",
    "data_2.info()"
   ]
  },
  {
   "cell_type": "code",
   "execution_count": 5,
   "id": "062a6ce8",
   "metadata": {},
   "outputs": [
    {
     "data": {
      "text/html": [
       "<div>\n",
       "<style scoped>\n",
       "    .dataframe tbody tr th:only-of-type {\n",
       "        vertical-align: middle;\n",
       "    }\n",
       "\n",
       "    .dataframe tbody tr th {\n",
       "        vertical-align: top;\n",
       "    }\n",
       "\n",
       "    .dataframe thead th {\n",
       "        text-align: right;\n",
       "    }\n",
       "</style>\n",
       "<table border=\"1\" class=\"dataframe\">\n",
       "  <thead>\n",
       "    <tr style=\"text-align: right;\">\n",
       "      <th></th>\n",
       "      <th>Close</th>\n",
       "    </tr>\n",
       "    <tr>\n",
       "      <th>Date</th>\n",
       "      <th></th>\n",
       "    </tr>\n",
       "  </thead>\n",
       "  <tbody>\n",
       "    <tr>\n",
       "      <th>2022-01-03</th>\n",
       "      <td>182.009995</td>\n",
       "    </tr>\n",
       "    <tr>\n",
       "      <th>2022-01-04</th>\n",
       "      <td>179.699997</td>\n",
       "    </tr>\n",
       "    <tr>\n",
       "      <th>2022-01-05</th>\n",
       "      <td>174.919998</td>\n",
       "    </tr>\n",
       "    <tr>\n",
       "      <th>2022-01-06</th>\n",
       "      <td>172.000000</td>\n",
       "    </tr>\n",
       "    <tr>\n",
       "      <th>2022-01-07</th>\n",
       "      <td>172.169998</td>\n",
       "    </tr>\n",
       "    <tr>\n",
       "      <th>2022-01-08</th>\n",
       "      <td>NaN</td>\n",
       "    </tr>\n",
       "    <tr>\n",
       "      <th>2022-01-09</th>\n",
       "      <td>NaN</td>\n",
       "    </tr>\n",
       "    <tr>\n",
       "      <th>2022-01-10</th>\n",
       "      <td>172.190002</td>\n",
       "    </tr>\n",
       "    <tr>\n",
       "      <th>2022-01-11</th>\n",
       "      <td>175.080002</td>\n",
       "    </tr>\n",
       "    <tr>\n",
       "      <th>2022-01-12</th>\n",
       "      <td>175.529999</td>\n",
       "    </tr>\n",
       "    <tr>\n",
       "      <th>2022-01-13</th>\n",
       "      <td>172.190002</td>\n",
       "    </tr>\n",
       "    <tr>\n",
       "      <th>2022-01-14</th>\n",
       "      <td>173.070007</td>\n",
       "    </tr>\n",
       "    <tr>\n",
       "      <th>2022-01-15</th>\n",
       "      <td>NaN</td>\n",
       "    </tr>\n",
       "    <tr>\n",
       "      <th>2022-01-16</th>\n",
       "      <td>NaN</td>\n",
       "    </tr>\n",
       "    <tr>\n",
       "      <th>2022-01-17</th>\n",
       "      <td>NaN</td>\n",
       "    </tr>\n",
       "  </tbody>\n",
       "</table>\n",
       "</div>"
      ],
      "text/plain": [
       "                 Close\n",
       "Date                  \n",
       "2022-01-03  182.009995\n",
       "2022-01-04  179.699997\n",
       "2022-01-05  174.919998\n",
       "2022-01-06  172.000000\n",
       "2022-01-07  172.169998\n",
       "2022-01-08         NaN\n",
       "2022-01-09         NaN\n",
       "2022-01-10  172.190002\n",
       "2022-01-11  175.080002\n",
       "2022-01-12  175.529999\n",
       "2022-01-13  172.190002\n",
       "2022-01-14  173.070007\n",
       "2022-01-15         NaN\n",
       "2022-01-16         NaN\n",
       "2022-01-17         NaN"
      ]
     },
     "execution_count": 5,
     "metadata": {},
     "output_type": "execute_result"
    }
   ],
   "source": [
    "data_2.asfreq(\"D\")[:15]"
   ]
  },
  {
   "cell_type": "code",
   "execution_count": 6,
   "id": "61e1e8e1",
   "metadata": {},
   "outputs": [
    {
     "data": {
      "text/html": [
       "<div>\n",
       "<style scoped>\n",
       "    .dataframe tbody tr th:only-of-type {\n",
       "        vertical-align: middle;\n",
       "    }\n",
       "\n",
       "    .dataframe tbody tr th {\n",
       "        vertical-align: top;\n",
       "    }\n",
       "\n",
       "    .dataframe thead th {\n",
       "        text-align: right;\n",
       "    }\n",
       "</style>\n",
       "<table border=\"1\" class=\"dataframe\">\n",
       "  <thead>\n",
       "    <tr style=\"text-align: right;\">\n",
       "      <th></th>\n",
       "      <th>Close</th>\n",
       "    </tr>\n",
       "    <tr>\n",
       "      <th>Date</th>\n",
       "      <th></th>\n",
       "    </tr>\n",
       "  </thead>\n",
       "  <tbody>\n",
       "    <tr>\n",
       "      <th>2022-01-03</th>\n",
       "      <td>182.009995</td>\n",
       "    </tr>\n",
       "    <tr>\n",
       "      <th>2022-01-04</th>\n",
       "      <td>179.699997</td>\n",
       "    </tr>\n",
       "    <tr>\n",
       "      <th>2022-01-05</th>\n",
       "      <td>174.919998</td>\n",
       "    </tr>\n",
       "    <tr>\n",
       "      <th>2022-01-06</th>\n",
       "      <td>172.000000</td>\n",
       "    </tr>\n",
       "    <tr>\n",
       "      <th>2022-01-07</th>\n",
       "      <td>172.169998</td>\n",
       "    </tr>\n",
       "    <tr>\n",
       "      <th>2022-01-08</th>\n",
       "      <td>172.169998</td>\n",
       "    </tr>\n",
       "    <tr>\n",
       "      <th>2022-01-09</th>\n",
       "      <td>172.169998</td>\n",
       "    </tr>\n",
       "    <tr>\n",
       "      <th>2022-01-10</th>\n",
       "      <td>172.190002</td>\n",
       "    </tr>\n",
       "    <tr>\n",
       "      <th>2022-01-11</th>\n",
       "      <td>175.080002</td>\n",
       "    </tr>\n",
       "    <tr>\n",
       "      <th>2022-01-12</th>\n",
       "      <td>175.529999</td>\n",
       "    </tr>\n",
       "    <tr>\n",
       "      <th>2022-01-13</th>\n",
       "      <td>172.190002</td>\n",
       "    </tr>\n",
       "    <tr>\n",
       "      <th>2022-01-14</th>\n",
       "      <td>173.070007</td>\n",
       "    </tr>\n",
       "    <tr>\n",
       "      <th>2022-01-15</th>\n",
       "      <td>173.070007</td>\n",
       "    </tr>\n",
       "    <tr>\n",
       "      <th>2022-01-16</th>\n",
       "      <td>173.070007</td>\n",
       "    </tr>\n",
       "    <tr>\n",
       "      <th>2022-01-17</th>\n",
       "      <td>173.070007</td>\n",
       "    </tr>\n",
       "  </tbody>\n",
       "</table>\n",
       "</div>"
      ],
      "text/plain": [
       "                 Close\n",
       "Date                  \n",
       "2022-01-03  182.009995\n",
       "2022-01-04  179.699997\n",
       "2022-01-05  174.919998\n",
       "2022-01-06  172.000000\n",
       "2022-01-07  172.169998\n",
       "2022-01-08  172.169998\n",
       "2022-01-09  172.169998\n",
       "2022-01-10  172.190002\n",
       "2022-01-11  175.080002\n",
       "2022-01-12  175.529999\n",
       "2022-01-13  172.190002\n",
       "2022-01-14  173.070007\n",
       "2022-01-15  173.070007\n",
       "2022-01-16  173.070007\n",
       "2022-01-17  173.070007"
      ]
     },
     "execution_count": 6,
     "metadata": {},
     "output_type": "execute_result"
    }
   ],
   "source": [
    "data_2.asfreq(\"D\", method=\"ffill\")[:15]"
   ]
  },
  {
   "cell_type": "code",
   "execution_count": 7,
   "id": "683eca1a",
   "metadata": {},
   "outputs": [
    {
     "data": {
      "text/html": [
       "<div>\n",
       "<style scoped>\n",
       "    .dataframe tbody tr th:only-of-type {\n",
       "        vertical-align: middle;\n",
       "    }\n",
       "\n",
       "    .dataframe tbody tr th {\n",
       "        vertical-align: top;\n",
       "    }\n",
       "\n",
       "    .dataframe thead th {\n",
       "        text-align: right;\n",
       "    }\n",
       "</style>\n",
       "<table border=\"1\" class=\"dataframe\">\n",
       "  <thead>\n",
       "    <tr style=\"text-align: right;\">\n",
       "      <th></th>\n",
       "      <th>Close</th>\n",
       "    </tr>\n",
       "    <tr>\n",
       "      <th>Date</th>\n",
       "      <th></th>\n",
       "    </tr>\n",
       "  </thead>\n",
       "  <tbody>\n",
       "    <tr>\n",
       "      <th>2022-01-03</th>\n",
       "      <td>182.009995</td>\n",
       "    </tr>\n",
       "    <tr>\n",
       "      <th>2022-01-04</th>\n",
       "      <td>179.699997</td>\n",
       "    </tr>\n",
       "    <tr>\n",
       "      <th>2022-01-05</th>\n",
       "      <td>174.919998</td>\n",
       "    </tr>\n",
       "    <tr>\n",
       "      <th>2022-01-06</th>\n",
       "      <td>172.000000</td>\n",
       "    </tr>\n",
       "    <tr>\n",
       "      <th>2022-01-07</th>\n",
       "      <td>172.169998</td>\n",
       "    </tr>\n",
       "    <tr>\n",
       "      <th>...</th>\n",
       "      <td>...</td>\n",
       "    </tr>\n",
       "    <tr>\n",
       "      <th>2023-05-22</th>\n",
       "      <td>174.199997</td>\n",
       "    </tr>\n",
       "    <tr>\n",
       "      <th>2023-05-23</th>\n",
       "      <td>171.559998</td>\n",
       "    </tr>\n",
       "    <tr>\n",
       "      <th>2023-05-24</th>\n",
       "      <td>171.839996</td>\n",
       "    </tr>\n",
       "    <tr>\n",
       "      <th>2023-05-25</th>\n",
       "      <td>172.990005</td>\n",
       "    </tr>\n",
       "    <tr>\n",
       "      <th>2023-05-26</th>\n",
       "      <td>175.429993</td>\n",
       "    </tr>\n",
       "  </tbody>\n",
       "</table>\n",
       "<p>509 rows × 1 columns</p>\n",
       "</div>"
      ],
      "text/plain": [
       "                 Close\n",
       "Date                  \n",
       "2022-01-03  182.009995\n",
       "2022-01-04  179.699997\n",
       "2022-01-05  174.919998\n",
       "2022-01-06  172.000000\n",
       "2022-01-07  172.169998\n",
       "...                ...\n",
       "2023-05-22  174.199997\n",
       "2023-05-23  171.559998\n",
       "2023-05-24  171.839996\n",
       "2023-05-25  172.990005\n",
       "2023-05-26  175.429993\n",
       "\n",
       "[509 rows x 1 columns]"
      ]
     },
     "execution_count": 7,
     "metadata": {},
     "output_type": "execute_result"
    }
   ],
   "source": [
    "data_2 = data_2.asfreq(\"D\", method='ffill')\n",
    "data_2"
   ]
  },
  {
   "cell_type": "code",
   "execution_count": 8,
   "id": "bf4a028a",
   "metadata": {},
   "outputs": [
    {
     "data": {
      "text/plain": [
       "<Axes: xlabel='Date'>"
      ]
     },
     "execution_count": 8,
     "metadata": {},
     "output_type": "execute_result"
    },
    {
     "data": {
      "image/png": "[encoded data removed]",
      "text/plain": [
       "<Figure size 432x288 with 1 Axes>"
      ]
     },
     "metadata": {
      "needs_background": "light"
     },
     "output_type": "display_data"
    }
   ],
   "source": [
    "data_2.plot()"
   ]
  },
  {
   "cell_type": "code",
   "execution_count": 9,
   "id": "df373e65",
   "metadata": {},
   "outputs": [
    {
     "data": {
      "text/plain": [
       "(0.6612731932801885, True)"
      ]
     },
     "execution_count": 9,
     "metadata": {},
     "output_type": "execute_result"
    }
   ],
   "source": [
    "# Testing for stationarity\n",
    "adf_test = ADFTest(alpha = 0.05)\n",
    "adf_test.should_diff(data_2)"
   ]
  },
  {
   "cell_type": "code",
   "execution_count": 10,
   "id": "af09663a",
   "metadata": {},
   "outputs": [],
   "source": [
    "# Spliting the dataset into train and test\n",
    "train, test = data_2[:int(len(data_2)*0.9)].copy(), data_2[int(len(data_2)*0.9):].copy()"
   ]
  },
  {
   "cell_type": "code",
   "execution_count": 11,
   "id": "e5359dfa",
   "metadata": {},
   "outputs": [
    {
     "data": {
      "text/plain": [
       "51"
      ]
     },
     "execution_count": 11,
     "metadata": {},
     "output_type": "execute_result"
    }
   ],
   "source": [
    "len(test)"
   ]
  },
  {
   "cell_type": "code",
   "execution_count": 12,
   "id": "39ef46b2",
   "metadata": {},
   "outputs": [
    {
     "data": {
      "text/html": [
       "<div>\n",
       "<style scoped>\n",
       "    .dataframe tbody tr th:only-of-type {\n",
       "        vertical-align: middle;\n",
       "    }\n",
       "\n",
       "    .dataframe tbody tr th {\n",
       "        vertical-align: top;\n",
       "    }\n",
       "\n",
       "    .dataframe thead th {\n",
       "        text-align: right;\n",
       "    }\n",
       "</style>\n",
       "<table border=\"1\" class=\"dataframe\">\n",
       "  <thead>\n",
       "    <tr style=\"text-align: right;\">\n",
       "      <th></th>\n",
       "      <th>Close</th>\n",
       "    </tr>\n",
       "    <tr>\n",
       "      <th>Date</th>\n",
       "      <th></th>\n",
       "    </tr>\n",
       "  </thead>\n",
       "  <tbody>\n",
       "    <tr>\n",
       "      <th>2023-04-01</th>\n",
       "      <td>164.899994</td>\n",
       "    </tr>\n",
       "    <tr>\n",
       "      <th>2023-04-02</th>\n",
       "      <td>164.899994</td>\n",
       "    </tr>\n",
       "    <tr>\n",
       "      <th>2023-04-03</th>\n",
       "      <td>166.169998</td>\n",
       "    </tr>\n",
       "    <tr>\n",
       "      <th>2023-04-04</th>\n",
       "      <td>165.630005</td>\n",
       "    </tr>\n",
       "    <tr>\n",
       "      <th>2023-04-05</th>\n",
       "      <td>163.759995</td>\n",
       "    </tr>\n",
       "  </tbody>\n",
       "</table>\n",
       "</div>"
      ],
      "text/plain": [
       "                 Close\n",
       "Date                  \n",
       "2023-04-01  164.899994\n",
       "2023-04-02  164.899994\n",
       "2023-04-03  166.169998\n",
       "2023-04-04  165.630005\n",
       "2023-04-05  163.759995"
      ]
     },
     "execution_count": 12,
     "metadata": {},
     "output_type": "execute_result"
    }
   ],
   "source": [
    "train.tail()"
   ]
  },
  {
   "cell_type": "code",
   "execution_count": 13,
   "id": "f780e4dc",
   "metadata": {},
   "outputs": [
    {
     "data": {
      "text/html": [
       "<div>\n",
       "<style scoped>\n",
       "    .dataframe tbody tr th:only-of-type {\n",
       "        vertical-align: middle;\n",
       "    }\n",
       "\n",
       "    .dataframe tbody tr th {\n",
       "        vertical-align: top;\n",
       "    }\n",
       "\n",
       "    .dataframe thead th {\n",
       "        text-align: right;\n",
       "    }\n",
       "</style>\n",
       "<table border=\"1\" class=\"dataframe\">\n",
       "  <thead>\n",
       "    <tr style=\"text-align: right;\">\n",
       "      <th></th>\n",
       "      <th>Close</th>\n",
       "    </tr>\n",
       "    <tr>\n",
       "      <th>Date</th>\n",
       "      <th></th>\n",
       "    </tr>\n",
       "  </thead>\n",
       "  <tbody>\n",
       "    <tr>\n",
       "      <th>2023-04-06</th>\n",
       "      <td>164.660004</td>\n",
       "    </tr>\n",
       "    <tr>\n",
       "      <th>2023-04-07</th>\n",
       "      <td>164.660004</td>\n",
       "    </tr>\n",
       "    <tr>\n",
       "      <th>2023-04-08</th>\n",
       "      <td>164.660004</td>\n",
       "    </tr>\n",
       "    <tr>\n",
       "      <th>2023-04-09</th>\n",
       "      <td>164.660004</td>\n",
       "    </tr>\n",
       "    <tr>\n",
       "      <th>2023-04-10</th>\n",
       "      <td>162.029999</td>\n",
       "    </tr>\n",
       "  </tbody>\n",
       "</table>\n",
       "</div>"
      ],
      "text/plain": [
       "                 Close\n",
       "Date                  \n",
       "2023-04-06  164.660004\n",
       "2023-04-07  164.660004\n",
       "2023-04-08  164.660004\n",
       "2023-04-09  164.660004\n",
       "2023-04-10  162.029999"
      ]
     },
     "execution_count": 13,
     "metadata": {},
     "output_type": "execute_result"
    }
   ],
   "source": [
    "test.head()"
   ]
  },
  {
   "cell_type": "code",
   "execution_count": 14,
   "id": "1466abff",
   "metadata": {},
   "outputs": [
    {
     "data": {
      "text/plain": [
       "[<matplotlib.lines.Line2D at 0x280268e20>]"
      ]
     },
     "execution_count": 14,
     "metadata": {},
     "output_type": "execute_result"
    },
    {
     "data": {
      "image/png": "[encoded data removed]",
      "text/plain": [
       "<Figure size 432x288 with 1 Axes>"
      ]
     },
     "metadata": {
      "needs_background": "light"
     },
     "output_type": "display_data"
    }
   ],
   "source": [
    "plt.figure()\n",
    "plt.plot(train)\n",
    "plt.plot(test)\n",
    "# plt.savefig('/Users/jennyhuang/Documents/jobs/DBC-AI-Launch/project1-StockPrediction/train-test')"
   ]
  },
  {
   "cell_type": "code",
   "execution_count": 15,
   "id": "9bf67338",
   "metadata": {},
   "outputs": [
    {
     "name": "stdout",
     "output_type": "stream",
     "text": [
      "Performing stepwise search to minimize aic\n",
      " ARIMA(0,1,0)(0,1,0)[12]             : AIC=2444.494, Time=0.05 sec\n",
      " ARIMA(1,1,0)(1,1,0)[12]             : AIC=2322.878, Time=0.22 sec\n",
      " ARIMA(0,1,1)(0,1,1)[12]             : AIC=inf, Time=1.22 sec\n",
      " ARIMA(1,1,0)(0,1,0)[12]             : AIC=2443.002, Time=0.04 sec\n",
      " ARIMA(1,1,0)(2,1,0)[12]             : AIC=2281.658, Time=0.43 sec\n",
      " ARIMA(1,1,0)(3,1,0)[12]             : AIC=2262.384, Time=0.61 sec\n",
      " ARIMA(1,1,0)(4,1,0)[12]             : AIC=2242.787, Time=1.20 sec\n",
      " ARIMA(1,1,0)(5,1,0)[12]             : AIC=2226.807, Time=5.12 sec\n",
      " ARIMA(1,1,0)(5,1,1)[12]             : AIC=inf, Time=34.59 sec\n",
      " ARIMA(1,1,0)(4,1,1)[12]             : AIC=inf, Time=12.64 sec\n",
      " ARIMA(0,1,0)(5,1,0)[12]             : AIC=2225.608, Time=2.01 sec\n",
      " ARIMA(0,1,0)(4,1,0)[12]             : AIC=2242.063, Time=0.90 sec\n",
      " ARIMA(0,1,0)(5,1,1)[12]             : AIC=inf, Time=21.70 sec\n",
      " ARIMA(0,1,0)(4,1,1)[12]             : AIC=inf, Time=13.77 sec\n",
      " ARIMA(0,1,1)(5,1,0)[12]             : AIC=2226.806, Time=3.45 sec\n",
      " ARIMA(1,1,1)(5,1,0)[12]             : AIC=2228.805, Time=5.57 sec\n",
      " ARIMA(0,1,0)(5,1,0)[12] intercept   : AIC=2227.346, Time=11.42 sec\n",
      "\n",
      "Best model:  ARIMA(0,1,0)(5,1,0)[12]          \n",
      "Total fit time: 114.971 seconds\n"
     ]
    }
   ],
   "source": [
    "arima_model =  auto_arima(train,start_p=0, d=1, start_q=0, \n",
    "                          max_p=5, max_d=5, max_q=5, start_P=0, \n",
    "                          D=1, start_Q=0, max_P=5, max_D=5,\n",
    "                          max_Q=5, m=12, seasonal=True, \n",
    "                          error_action='warn',trace = True,\n",
    "                          supress_warnings=True,stepwise = True,\n",
    "                          random_state=20,n_fits = 50 )"
   ]
  },
  {
   "cell_type": "code",
   "execution_count": 16,
   "id": "efaea098",
   "metadata": {},
   "outputs": [],
   "source": [
    "par_map = arima_model.get_params()\n",
    "a, b, c = par_map['order'][0], par_map['order'][1], par_map['order'][2]"
   ]
  },
  {
   "cell_type": "code",
   "execution_count": 17,
   "id": "5784619d",
   "metadata": {},
   "outputs": [
    {
     "name": "stdout",
     "output_type": "stream",
     "text": [
      "                               SARIMAX Results                                \n",
      "==============================================================================\n",
      "Dep. Variable:                  Close   No. Observations:                  458\n",
      "Model:                 ARIMA(0, 1, 0)   Log Likelihood               -1095.461\n",
      "Date:                Mon, 19 Jun 2023   AIC                           2192.923\n",
      "Time:                        20:32:49   BIC                           2197.048\n",
      "Sample:                    01-03-2022   HQIC                          2194.548\n",
      "                         - 04-05-2023                                         \n",
      "Covariance Type:                  opg                                         \n",
      "==============================================================================\n",
      "                 coef    std err          z      P>|z|      [0.025      0.975]\n",
      "------------------------------------------------------------------------------\n",
      "sigma2         7.0728      0.308     22.970      0.000       6.469       7.676\n",
      "===================================================================================\n",
      "Ljung-Box (L1) (Q):                   0.70   Jarque-Bera (JB):               133.10\n",
      "Prob(Q):                              0.40   Prob(JB):                         0.00\n",
      "Heteroskedasticity (H):               0.56   Skew:                             0.15\n",
      "Prob(H) (two-sided):                  0.00   Kurtosis:                         5.63\n",
      "===================================================================================\n",
      "\n",
      "Warnings:\n",
      "[1] Covariance matrix calculated using the outer product of gradients (complex-step).\n"
     ]
    }
   ],
   "source": [
    "# check the Best model: ARIMA(1,1,1)(5,1,0)[12]\n",
    "model = sm.tsa.arima.ARIMA(train, order=(a, b, c))\n",
    "fitted = model.fit()\n",
    "print(fitted.summary())"
   ]
  },
  {
   "cell_type": "code",
   "execution_count": 18,
   "id": "0cc021af",
   "metadata": {},
   "outputs": [
    {
     "data": {
      "text/html": [
       "<table class=\"simpletable\">\n",
       "<caption>SARIMAX Results</caption>\n",
       "<tr>\n",
       "  <th>Dep. Variable:</th>                  <td>y</td>               <th>  No. Observations:  </th>    <td>458</td>   \n",
       "</tr>\n",
       "<tr>\n",
       "  <th>Model:</th>           <td>SARIMAX(0, 1, 0)x(5, 1, 0, 12)</td> <th>  Log Likelihood     </th> <td>-1106.804</td>\n",
       "</tr>\n",
       "<tr>\n",
       "  <th>Date:</th>                   <td>Mon, 19 Jun 2023</td>        <th>  AIC                </th> <td>2225.608</td> \n",
       "</tr>\n",
       "<tr>\n",
       "  <th>Time:</th>                       <td>20:32:49</td>            <th>  BIC                </th> <td>2250.197</td> \n",
       "</tr>\n",
       "<tr>\n",
       "  <th>Sample:</th>                    <td>01-03-2022</td>           <th>  HQIC               </th> <td>2235.304</td> \n",
       "</tr>\n",
       "<tr>\n",
       "  <th></th>                          <td>- 04-05-2023</td>          <th>                     </th>     <td> </td>    \n",
       "</tr>\n",
       "<tr>\n",
       "  <th>Covariance Type:</th>               <td>opg</td>              <th>                     </th>     <td> </td>    \n",
       "</tr>\n",
       "</table>\n",
       "<table class=\"simpletable\">\n",
       "<tr>\n",
       "      <td></td>        <th>coef</th>     <th>std err</th>      <th>z</th>      <th>P>|z|</th>  <th>[0.025</th>    <th>0.975]</th>  \n",
       "</tr>\n",
       "<tr>\n",
       "  <th>ar.S.L12</th> <td>   -0.8171</td> <td>    0.047</td> <td>  -17.454</td> <td> 0.000</td> <td>   -0.909</td> <td>   -0.725</td>\n",
       "</tr>\n",
       "<tr>\n",
       "  <th>ar.S.L24</th> <td>   -0.6396</td> <td>    0.054</td> <td>  -11.947</td> <td> 0.000</td> <td>   -0.745</td> <td>   -0.535</td>\n",
       "</tr>\n",
       "<tr>\n",
       "  <th>ar.S.L36</th> <td>   -0.4987</td> <td>    0.057</td> <td>   -8.776</td> <td> 0.000</td> <td>   -0.610</td> <td>   -0.387</td>\n",
       "</tr>\n",
       "<tr>\n",
       "  <th>ar.S.L48</th> <td>   -0.3839</td> <td>    0.063</td> <td>   -6.090</td> <td> 0.000</td> <td>   -0.507</td> <td>   -0.260</td>\n",
       "</tr>\n",
       "<tr>\n",
       "  <th>ar.S.L60</th> <td>   -0.2075</td> <td>    0.049</td> <td>   -4.264</td> <td> 0.000</td> <td>   -0.303</td> <td>   -0.112</td>\n",
       "</tr>\n",
       "<tr>\n",
       "  <th>sigma2</th>   <td>    8.2299</td> <td>    0.430</td> <td>   19.133</td> <td> 0.000</td> <td>    7.387</td> <td>    9.073</td>\n",
       "</tr>\n",
       "</table>\n",
       "<table class=\"simpletable\">\n",
       "<tr>\n",
       "  <th>Ljung-Box (L1) (Q):</th>     <td>0.78</td> <th>  Jarque-Bera (JB):  </th> <td>53.81</td>\n",
       "</tr>\n",
       "<tr>\n",
       "  <th>Prob(Q):</th>                <td>0.38</td> <th>  Prob(JB):          </th> <td>0.00</td> \n",
       "</tr>\n",
       "<tr>\n",
       "  <th>Heteroskedasticity (H):</th> <td>0.67</td> <th>  Skew:              </th> <td>0.03</td> \n",
       "</tr>\n",
       "<tr>\n",
       "  <th>Prob(H) (two-sided):</th>    <td>0.01</td> <th>  Kurtosis:          </th> <td>4.70</td> \n",
       "</tr>\n",
       "</table><br/><br/>Warnings:<br/>[1] Covariance matrix calculated using the outer product of gradients (complex-step)."
      ],
      "text/latex": [
       "\\begin{center}\n",
       "\\begin{tabular}{lclc}\n",
       "\\toprule\n",
       "\\textbf{Dep. Variable:}          &               y                & \\textbf{  No. Observations:  } &    458      \\\\\n",
       "\\textbf{Model:}                  & SARIMAX(0, 1, 0)x(5, 1, 0, 12) & \\textbf{  Log Likelihood     } & -1106.804   \\\\\n",
       "\\textbf{Date:}                   &        Mon, 19 Jun 2023        & \\textbf{  AIC                } &  2225.608   \\\\\n",
       "\\textbf{Time:}                   &            20:32:49            & \\textbf{  BIC                } &  2250.197   \\\\\n",
       "\\textbf{Sample:}                 &           01-03-2022           & \\textbf{  HQIC               } &  2235.304   \\\\\n",
       "\\textbf{}                        &          - 04-05-2023          & \\textbf{                     } &             \\\\\n",
       "\\textbf{Covariance Type:}        &              opg               & \\textbf{                     } &             \\\\\n",
       "\\bottomrule\n",
       "\\end{tabular}\n",
       "\\begin{tabular}{lcccccc}\n",
       "                  & \\textbf{coef} & \\textbf{std err} & \\textbf{z} & \\textbf{P$> |$z$|$} & \\textbf{[0.025} & \\textbf{0.975]}  \\\\\n",
       "\\midrule\n",
       "\\textbf{ar.S.L12} &      -0.8171  &        0.047     &   -17.454  &         0.000        &       -0.909    &       -0.725     \\\\\n",
       "\\textbf{ar.S.L24} &      -0.6396  &        0.054     &   -11.947  &         0.000        &       -0.745    &       -0.535     \\\\\n",
       "\\textbf{ar.S.L36} &      -0.4987  &        0.057     &    -8.776  &         0.000        &       -0.610    &       -0.387     \\\\\n",
       "\\textbf{ar.S.L48} &      -0.3839  &        0.063     &    -6.090  &         0.000        &       -0.507    &       -0.260     \\\\\n",
       "\\textbf{ar.S.L60} &      -0.2075  &        0.049     &    -4.264  &         0.000        &       -0.303    &       -0.112     \\\\\n",
       "\\textbf{sigma2}   &       8.2299  &        0.430     &    19.133  &         0.000        &        7.387    &        9.073     \\\\\n",
       "\\bottomrule\n",
       "\\end{tabular}\n",
       "\\begin{tabular}{lclc}\n",
       "\\textbf{Ljung-Box (L1) (Q):}     & 0.78 & \\textbf{  Jarque-Bera (JB):  } & 53.81  \\\\\n",
       "\\textbf{Prob(Q):}                & 0.38 & \\textbf{  Prob(JB):          } &  0.00  \\\\\n",
       "\\textbf{Heteroskedasticity (H):} & 0.67 & \\textbf{  Skew:              } &  0.03  \\\\\n",
       "\\textbf{Prob(H) (two-sided):}    & 0.01 & \\textbf{  Kurtosis:          } &  4.70  \\\\\n",
       "\\bottomrule\n",
       "\\end{tabular}\n",
       "%\\caption{SARIMAX Results}\n",
       "\\end{center}\n",
       "\n",
       "Warnings: \\newline\n",
       " [1] Covariance matrix calculated using the outer product of gradients (complex-step)."
      ],
      "text/plain": [
       "<class 'statsmodels.iolib.summary.Summary'>\n",
       "\"\"\"\n",
       "                                     SARIMAX Results                                      \n",
       "==========================================================================================\n",
       "Dep. Variable:                                  y   No. Observations:                  458\n",
       "Model:             SARIMAX(0, 1, 0)x(5, 1, 0, 12)   Log Likelihood               -1106.804\n",
       "Date:                            Mon, 19 Jun 2023   AIC                           2225.608\n",
       "Time:                                    20:32:49   BIC                           2250.197\n",
       "Sample:                                01-03-2022   HQIC                          2235.304\n",
       "                                     - 04-05-2023                                         \n",
       "Covariance Type:                              opg                                         \n",
       "==============================================================================\n",
       "                 coef    std err          z      P>|z|      [0.025      0.975]\n",
       "------------------------------------------------------------------------------\n",
       "ar.S.L12      -0.8171      0.047    -17.454      0.000      -0.909      -0.725\n",
       "ar.S.L24      -0.6396      0.054    -11.947      0.000      -0.745      -0.535\n",
       "ar.S.L36      -0.4987      0.057     -8.776      0.000      -0.610      -0.387\n",
       "ar.S.L48      -0.3839      0.063     -6.090      0.000      -0.507      -0.260\n",
       "ar.S.L60      -0.2075      0.049     -4.264      0.000      -0.303      -0.112\n",
       "sigma2         8.2299      0.430     19.133      0.000       7.387       9.073\n",
       "===================================================================================\n",
       "Ljung-Box (L1) (Q):                   0.78   Jarque-Bera (JB):                53.81\n",
       "Prob(Q):                              0.38   Prob(JB):                         0.00\n",
       "Heteroskedasticity (H):               0.67   Skew:                             0.03\n",
       "Prob(H) (two-sided):                  0.01   Kurtosis:                         4.70\n",
       "===================================================================================\n",
       "\n",
       "Warnings:\n",
       "[1] Covariance matrix calculated using the outer product of gradients (complex-step).\n",
       "\"\"\""
      ]
     },
     "execution_count": 18,
     "metadata": {},
     "output_type": "execute_result"
    }
   ],
   "source": [
    "# Summary of the model\n",
    "arima_model.summary()"
   ]
  },
  {
   "cell_type": "code",
   "execution_count": 19,
   "id": "830d38e7",
   "metadata": {},
   "outputs": [
    {
     "data": {
      "text/html": [
       "<div>\n",
       "<style scoped>\n",
       "    .dataframe tbody tr th:only-of-type {\n",
       "        vertical-align: middle;\n",
       "    }\n",
       "\n",
       "    .dataframe tbody tr th {\n",
       "        vertical-align: top;\n",
       "    }\n",
       "\n",
       "    .dataframe thead th {\n",
       "        text-align: right;\n",
       "    }\n",
       "</style>\n",
       "<table border=\"1\" class=\"dataframe\">\n",
       "  <thead>\n",
       "    <tr style=\"text-align: right;\">\n",
       "      <th></th>\n",
       "      <th>predicted_price</th>\n",
       "    </tr>\n",
       "    <tr>\n",
       "      <th>Date</th>\n",
       "      <th></th>\n",
       "    </tr>\n",
       "  </thead>\n",
       "  <tbody>\n",
       "    <tr>\n",
       "      <th>2023-05-22</th>\n",
       "      <td>176.837392</td>\n",
       "    </tr>\n",
       "    <tr>\n",
       "      <th>2023-05-23</th>\n",
       "      <td>176.599210</td>\n",
       "    </tr>\n",
       "    <tr>\n",
       "      <th>2023-05-24</th>\n",
       "      <td>176.921599</td>\n",
       "    </tr>\n",
       "    <tr>\n",
       "      <th>2023-05-25</th>\n",
       "      <td>177.446212</td>\n",
       "    </tr>\n",
       "    <tr>\n",
       "      <th>2023-05-26</th>\n",
       "      <td>177.979911</td>\n",
       "    </tr>\n",
       "  </tbody>\n",
       "</table>\n",
       "</div>"
      ],
      "text/plain": [
       "            predicted_price\n",
       "Date                       \n",
       "2023-05-22       176.837392\n",
       "2023-05-23       176.599210\n",
       "2023-05-24       176.921599\n",
       "2023-05-25       177.446212\n",
       "2023-05-26       177.979911"
      ]
     },
     "execution_count": 19,
     "metadata": {},
     "output_type": "execute_result"
    }
   ],
   "source": [
    "prediction = pd.DataFrame(arima_model.predict(n_periods = 51),index=test.index)\n",
    "prediction.columns = ['predicted_price']\n",
    "prediction.tail()"
   ]
  },
  {
   "cell_type": "code",
   "execution_count": 20,
   "id": "3e6bbdd3",
   "metadata": {},
   "outputs": [
    {
     "data": {
      "text/plain": [
       "<matplotlib.legend.Legend at 0x2899bb7c0>"
      ]
     },
     "execution_count": 20,
     "metadata": {},
     "output_type": "execute_result"
    },
    {
     "data": {
      "image/png": "[encoded data removed]",
      "text/plain": [
       "<Figure size 504x216 with 1 Axes>"
      ]
     },
     "metadata": {
      "needs_background": "light"
     },
     "output_type": "display_data"
    }
   ],
   "source": [
    "plt.figure(figsize=(7,3))\n",
    "plt.plot(train,label=\"Training\")\n",
    "plt.plot(test,label=\"Test\")\n",
    "plt.plot(prediction,label=\"Predicted\")\n",
    "plt.legend(loc = 'best')\n",
    "# plt.savefig('/Users/jennyhuang/Documents/jobs/DBC-AI-Launch/project1-StockPrediction/test/TimeSeries_Auto-ARIMA/prediction.png')"
   ]
  },
  {
   "cell_type": "code",
   "execution_count": 21,
   "id": "ef9154a3",
   "metadata": {},
   "outputs": [
    {
     "data": {
      "text/plain": [
       "0.5103764223378233"
      ]
     },
     "execution_count": 21,
     "metadata": {},
     "output_type": "execute_result"
    }
   ],
   "source": [
    "test['predicted_price'] = prediction\n",
    "r2_score(test['Close'], test['predicted_price'])"
   ]
  },
  {
   "cell_type": "code",
   "execution_count": 22,
   "id": "90a0f2e2",
   "metadata": {
    "scrolled": false
   },
   "outputs": [
    {
     "name": "stdout",
     "output_type": "stream",
     "text": [
      "\\begin{tabular}{lr}\n",
      "\\toprule\n",
      "{} &  predicted\\_price \\\\\n",
      "\\midrule\n",
      "2023-04-06 &       163.974933 \\\\\n",
      "2023-04-07 &       163.808071 \\\\\n",
      "2023-04-08 &       165.191158 \\\\\n",
      "2023-04-09 &       165.510559 \\\\\n",
      "2023-04-10 &       165.277876 \\\\\n",
      "2023-04-11 &       166.037471 \\\\\n",
      "2023-04-12 &       165.636118 \\\\\n",
      "\\bottomrule\n",
      "\\end{tabular}\n",
      "\n"
     ]
    },
    {
     "data": {
      "text/html": [
       "<div>\n",
       "<style scoped>\n",
       "    .dataframe tbody tr th:only-of-type {\n",
       "        vertical-align: middle;\n",
       "    }\n",
       "\n",
       "    .dataframe tbody tr th {\n",
       "        vertical-align: top;\n",
       "    }\n",
       "\n",
       "    .dataframe thead th {\n",
       "        text-align: right;\n",
       "    }\n",
       "</style>\n",
       "<table border=\"1\" class=\"dataframe\">\n",
       "  <thead>\n",
       "    <tr style=\"text-align: right;\">\n",
       "      <th></th>\n",
       "      <th>predicted_price</th>\n",
       "    </tr>\n",
       "  </thead>\n",
       "  <tbody>\n",
       "    <tr>\n",
       "      <th>2023-04-06</th>\n",
       "      <td>163.974933</td>\n",
       "    </tr>\n",
       "    <tr>\n",
       "      <th>2023-04-07</th>\n",
       "      <td>163.808071</td>\n",
       "    </tr>\n",
       "    <tr>\n",
       "      <th>2023-04-08</th>\n",
       "      <td>165.191158</td>\n",
       "    </tr>\n",
       "    <tr>\n",
       "      <th>2023-04-09</th>\n",
       "      <td>165.510559</td>\n",
       "    </tr>\n",
       "    <tr>\n",
       "      <th>2023-04-10</th>\n",
       "      <td>165.277876</td>\n",
       "    </tr>\n",
       "    <tr>\n",
       "      <th>2023-04-11</th>\n",
       "      <td>166.037471</td>\n",
       "    </tr>\n",
       "    <tr>\n",
       "      <th>2023-04-12</th>\n",
       "      <td>165.636118</td>\n",
       "    </tr>\n",
       "  </tbody>\n",
       "</table>\n",
       "</div>"
      ],
      "text/plain": [
       "            predicted_price\n",
       "2023-04-06       163.974933\n",
       "2023-04-07       163.808071\n",
       "2023-04-08       165.191158\n",
       "2023-04-09       165.510559\n",
       "2023-04-10       165.277876\n",
       "2023-04-11       166.037471\n",
       "2023-04-12       165.636118"
      ]
     },
     "execution_count": 22,
     "metadata": {},
     "output_type": "execute_result"
    }
   ],
   "source": [
    "prediction = pd.DataFrame(arima_model.predict(n_periods = 7))\n",
    "prediction.columns = ['predicted_price']\n",
    "print(prediction.to_latex())\n",
    "prediction"
   ]
  },
  {
   "cell_type": "code",
   "execution_count": 26,
   "id": "6cd9c324",
   "metadata": {},
   "outputs": [
    {
     "data": {
      "text/html": [
       "<div>\n",
       "<style scoped>\n",
       "    .dataframe tbody tr th:only-of-type {\n",
       "        vertical-align: middle;\n",
       "    }\n",
       "\n",
       "    .dataframe tbody tr th {\n",
       "        vertical-align: top;\n",
       "    }\n",
       "\n",
       "    .dataframe thead th {\n",
       "        text-align: right;\n",
       "    }\n",
       "</style>\n",
       "<table border=\"1\" class=\"dataframe\">\n",
       "  <thead>\n",
       "    <tr style=\"text-align: right;\">\n",
       "      <th></th>\n",
       "      <th>predicted_price</th>\n",
       "    </tr>\n",
       "  </thead>\n",
       "  <tbody>\n",
       "    <tr>\n",
       "      <th>2023-05-27</th>\n",
       "      <td>178.602669</td>\n",
       "    </tr>\n",
       "    <tr>\n",
       "      <th>2023-05-28</th>\n",
       "      <td>178.751987</td>\n",
       "    </tr>\n",
       "    <tr>\n",
       "      <th>2023-05-29</th>\n",
       "      <td>179.657233</td>\n",
       "    </tr>\n",
       "    <tr>\n",
       "      <th>2023-05-30</th>\n",
       "      <td>180.060537</td>\n",
       "    </tr>\n",
       "    <tr>\n",
       "      <th>2023-05-31</th>\n",
       "      <td>180.796000</td>\n",
       "    </tr>\n",
       "    <tr>\n",
       "      <th>2023-06-01</th>\n",
       "      <td>181.409009</td>\n",
       "    </tr>\n",
       "    <tr>\n",
       "      <th>2023-06-02</th>\n",
       "      <td>181.230944</td>\n",
       "    </tr>\n",
       "  </tbody>\n",
       "</table>\n",
       "</div>"
      ],
      "text/plain": [
       "            predicted_price\n",
       "2023-05-27       178.602669\n",
       "2023-05-28       178.751987\n",
       "2023-05-29       179.657233\n",
       "2023-05-30       180.060537\n",
       "2023-05-31       180.796000\n",
       "2023-06-01       181.409009\n",
       "2023-06-02       181.230944"
      ]
     },
     "execution_count": 26,
     "metadata": {},
     "output_type": "execute_result"
    }
   ],
   "source": [
    "# final result for future 7 days\n",
    "prediction = pd.DataFrame(arima_model.predict(n_periods = 58))\n",
    "prediction.columns = ['predicted_price']\n",
    "prediction.tail(7)"
   ]
  },
  {
   "cell_type": "code",
   "execution_count": 27,
   "id": "08138d08",
   "metadata": {},
   "outputs": [
    {
     "name": "stdout",
     "output_type": "stream",
     "text": [
      "The precentage of the future 7th day's price is higher than the prediction day is 3.31%\n"
     ]
    }
   ],
   "source": [
    "real = data.loc['2023-05-26', 'Close']\n",
    "pred = prediction.loc['2023-06-02', 'predicted_price']\n",
    "perc = (pred - real) / real * 100\n",
    "print(\"The precentage of the future 7th day's price is higher than the prediction day is {0:.2f}%\".format(perc))"
   ]
  },
  {
   "cell_type": "code",
   "execution_count": 24,
   "id": "4098bd35",
   "metadata": {},
   "outputs": [
    {
     "name": "stdout",
     "output_type": "stream",
     "text": [
      "Total running time is 1.94 min\n"
     ]
    }
   ],
   "source": [
    "toc = time.time()\n",
    "print(\"Total running time is {0:.2f} min\".format((toc - tic) / 60))"
   ]
  }
 ],
 "metadata": {
  "kernelspec": {
   "display_name": "Python 3 (ipykernel)",
   "language": "python",
   "name": "python3"
  },
  "language_info": {
   "codemirror_mode": {
    "name": "ipython",
    "version": 3
   },
   "file_extension": ".py",
   "mimetype": "text/x-python",
   "name": "python",
   "nbconvert_exporter": "python",
   "pygments_lexer": "ipython3",
   "version": "3.9.13"
  }
 },
 "nbformat": 4,
 "nbformat_minor": 5
}
