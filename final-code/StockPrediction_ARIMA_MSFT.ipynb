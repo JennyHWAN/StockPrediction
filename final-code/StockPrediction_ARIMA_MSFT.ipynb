{
 "cells": [
  {
   "cell_type": "code",
   "execution_count": 1,
   "id": "33c2e9b2",
   "metadata": {},
   "outputs": [],
   "source": [
    "# Importing necessary libraries\n",
    "import pandas as pd\n",
    "import numpy as np\n",
    "import matplotlib.pyplot as plt\n",
    "get_ipython().run_line_magic('matplotlib', 'inline')\n",
    "import warnings\n",
    "warnings.filterwarnings('ignore')\n",
    "import yfinance as yf\n",
    "from pandas_datareader import data as pdr\n",
    "from pmdarima.arima import auto_arima\n",
    "from pmdarima.arima import ADFTest\n",
    "import statsmodels.api as sm\n",
    "from sklearn.metrics import r2_score\n",
    "from fastai.tabular.all import add_datepart\n",
    "from sklearn.preprocessing import LabelEncoder\n",
    "from xgboost import XGBRegressor\n",
    "import math\n",
    "import time\n",
    "\n",
    "tic = time.time()"
   ]
  },
  {
   "cell_type": "code",
   "execution_count": 2,
   "id": "14897425",
   "metadata": {},
   "outputs": [],
   "source": [
    "# # read the stock data at the first run\n",
    "# # to download the data, need the vpn\n",
    "# # comment the following codes after the first run\n",
    "# yf.pdr_override()\n",
    "# data = pdr.get_data_yahoo(\"MSFT\", start=\"2022-01-01\", end=\"2023-05-30\")\n",
    "# data # there are 352 data in total using as training and validation data\n",
    "# # data.to_csv('/Users/jennyhuang/Documents/jobs/DBC-AI-Launch/project1-StockPrediction/MSFT.csv')"
   ]
  },
  {
   "cell_type": "code",
   "execution_count": 3,
   "id": "cc990bba",
   "metadata": {},
   "outputs": [
    {
     "name": "stdout",
     "output_type": "stream",
     "text": [
      "<class 'pandas.core.frame.DataFrame'>\n",
      "DatetimeIndex: 352 entries, 2022-01-03 to 2023-05-26\n",
      "Data columns (total 6 columns):\n",
      " #   Column     Non-Null Count  Dtype  \n",
      "---  ------     --------------  -----  \n",
      " 0   Open       352 non-null    float64\n",
      " 1   High       352 non-null    float64\n",
      " 2   Low        352 non-null    float64\n",
      " 3   Close      352 non-null    float64\n",
      " 4   Adj Close  352 non-null    float64\n",
      " 5   Volume     352 non-null    int64  \n",
      "dtypes: float64(5), int64(1)\n",
      "memory usage: 19.2 KB\n"
     ]
    }
   ],
   "source": [
    "data = pd.read_csv('/Users/jennyhuang/Documents/jobs/DBC-AI-Launch/project1-StockPrediction/MSFT.csv')\n",
    "data['Date'] = pd.to_datetime(data['Date'])\n",
    "data.set_index('Date', inplace=True)\n",
    "data.info()"
   ]
  },
  {
   "cell_type": "code",
   "execution_count": 4,
   "id": "7167be4c",
   "metadata": {},
   "outputs": [
    {
     "name": "stdout",
     "output_type": "stream",
     "text": [
      "<class 'pandas.core.frame.DataFrame'>\n",
      "DatetimeIndex: 352 entries, 2022-01-03 to 2023-05-26\n",
      "Data columns (total 1 columns):\n",
      " #   Column  Non-Null Count  Dtype  \n",
      "---  ------  --------------  -----  \n",
      " 0   Close   352 non-null    float64\n",
      "dtypes: float64(1)\n",
      "memory usage: 5.5 KB\n"
     ]
    }
   ],
   "source": [
    "data_2 = pd.DataFrame({'Close':data['Close']})\n",
    "data_2.info()"
   ]
  },
  {
   "cell_type": "code",
   "execution_count": 5,
   "id": "062a6ce8",
   "metadata": {},
   "outputs": [
    {
     "data": {
      "text/html": [
       "<div>\n",
       "<style scoped>\n",
       "    .dataframe tbody tr th:only-of-type {\n",
       "        vertical-align: middle;\n",
       "    }\n",
       "\n",
       "    .dataframe tbody tr th {\n",
       "        vertical-align: top;\n",
       "    }\n",
       "\n",
       "    .dataframe thead th {\n",
       "        text-align: right;\n",
       "    }\n",
       "</style>\n",
       "<table border=\"1\" class=\"dataframe\">\n",
       "  <thead>\n",
       "    <tr style=\"text-align: right;\">\n",
       "      <th></th>\n",
       "      <th>Close</th>\n",
       "    </tr>\n",
       "    <tr>\n",
       "      <th>Date</th>\n",
       "      <th></th>\n",
       "    </tr>\n",
       "  </thead>\n",
       "  <tbody>\n",
       "    <tr>\n",
       "      <th>2022-01-03</th>\n",
       "      <td>334.750000</td>\n",
       "    </tr>\n",
       "    <tr>\n",
       "      <th>2022-01-04</th>\n",
       "      <td>329.010010</td>\n",
       "    </tr>\n",
       "    <tr>\n",
       "      <th>2022-01-05</th>\n",
       "      <td>316.380005</td>\n",
       "    </tr>\n",
       "    <tr>\n",
       "      <th>2022-01-06</th>\n",
       "      <td>313.880005</td>\n",
       "    </tr>\n",
       "    <tr>\n",
       "      <th>2022-01-07</th>\n",
       "      <td>314.040009</td>\n",
       "    </tr>\n",
       "    <tr>\n",
       "      <th>2022-01-08</th>\n",
       "      <td>NaN</td>\n",
       "    </tr>\n",
       "    <tr>\n",
       "      <th>2022-01-09</th>\n",
       "      <td>NaN</td>\n",
       "    </tr>\n",
       "    <tr>\n",
       "      <th>2022-01-10</th>\n",
       "      <td>314.269989</td>\n",
       "    </tr>\n",
       "    <tr>\n",
       "      <th>2022-01-11</th>\n",
       "      <td>314.980011</td>\n",
       "    </tr>\n",
       "    <tr>\n",
       "      <th>2022-01-12</th>\n",
       "      <td>318.269989</td>\n",
       "    </tr>\n",
       "    <tr>\n",
       "      <th>2022-01-13</th>\n",
       "      <td>304.799988</td>\n",
       "    </tr>\n",
       "    <tr>\n",
       "      <th>2022-01-14</th>\n",
       "      <td>310.200012</td>\n",
       "    </tr>\n",
       "    <tr>\n",
       "      <th>2022-01-15</th>\n",
       "      <td>NaN</td>\n",
       "    </tr>\n",
       "    <tr>\n",
       "      <th>2022-01-16</th>\n",
       "      <td>NaN</td>\n",
       "    </tr>\n",
       "    <tr>\n",
       "      <th>2022-01-17</th>\n",
       "      <td>NaN</td>\n",
       "    </tr>\n",
       "  </tbody>\n",
       "</table>\n",
       "</div>"
      ],
      "text/plain": [
       "                 Close\n",
       "Date                  \n",
       "2022-01-03  334.750000\n",
       "2022-01-04  329.010010\n",
       "2022-01-05  316.380005\n",
       "2022-01-06  313.880005\n",
       "2022-01-07  314.040009\n",
       "2022-01-08         NaN\n",
       "2022-01-09         NaN\n",
       "2022-01-10  314.269989\n",
       "2022-01-11  314.980011\n",
       "2022-01-12  318.269989\n",
       "2022-01-13  304.799988\n",
       "2022-01-14  310.200012\n",
       "2022-01-15         NaN\n",
       "2022-01-16         NaN\n",
       "2022-01-17         NaN"
      ]
     },
     "execution_count": 5,
     "metadata": {},
     "output_type": "execute_result"
    }
   ],
   "source": [
    "data_2.asfreq(\"D\")[:15]"
   ]
  },
  {
   "cell_type": "code",
   "execution_count": 6,
   "id": "61e1e8e1",
   "metadata": {},
   "outputs": [
    {
     "data": {
      "text/html": [
       "<div>\n",
       "<style scoped>\n",
       "    .dataframe tbody tr th:only-of-type {\n",
       "        vertical-align: middle;\n",
       "    }\n",
       "\n",
       "    .dataframe tbody tr th {\n",
       "        vertical-align: top;\n",
       "    }\n",
       "\n",
       "    .dataframe thead th {\n",
       "        text-align: right;\n",
       "    }\n",
       "</style>\n",
       "<table border=\"1\" class=\"dataframe\">\n",
       "  <thead>\n",
       "    <tr style=\"text-align: right;\">\n",
       "      <th></th>\n",
       "      <th>Close</th>\n",
       "    </tr>\n",
       "    <tr>\n",
       "      <th>Date</th>\n",
       "      <th></th>\n",
       "    </tr>\n",
       "  </thead>\n",
       "  <tbody>\n",
       "    <tr>\n",
       "      <th>2022-01-03</th>\n",
       "      <td>334.750000</td>\n",
       "    </tr>\n",
       "    <tr>\n",
       "      <th>2022-01-04</th>\n",
       "      <td>329.010010</td>\n",
       "    </tr>\n",
       "    <tr>\n",
       "      <th>2022-01-05</th>\n",
       "      <td>316.380005</td>\n",
       "    </tr>\n",
       "    <tr>\n",
       "      <th>2022-01-06</th>\n",
       "      <td>313.880005</td>\n",
       "    </tr>\n",
       "    <tr>\n",
       "      <th>2022-01-07</th>\n",
       "      <td>314.040009</td>\n",
       "    </tr>\n",
       "    <tr>\n",
       "      <th>2022-01-08</th>\n",
       "      <td>314.040009</td>\n",
       "    </tr>\n",
       "    <tr>\n",
       "      <th>2022-01-09</th>\n",
       "      <td>314.040009</td>\n",
       "    </tr>\n",
       "    <tr>\n",
       "      <th>2022-01-10</th>\n",
       "      <td>314.269989</td>\n",
       "    </tr>\n",
       "    <tr>\n",
       "      <th>2022-01-11</th>\n",
       "      <td>314.980011</td>\n",
       "    </tr>\n",
       "    <tr>\n",
       "      <th>2022-01-12</th>\n",
       "      <td>318.269989</td>\n",
       "    </tr>\n",
       "    <tr>\n",
       "      <th>2022-01-13</th>\n",
       "      <td>304.799988</td>\n",
       "    </tr>\n",
       "    <tr>\n",
       "      <th>2022-01-14</th>\n",
       "      <td>310.200012</td>\n",
       "    </tr>\n",
       "    <tr>\n",
       "      <th>2022-01-15</th>\n",
       "      <td>310.200012</td>\n",
       "    </tr>\n",
       "    <tr>\n",
       "      <th>2022-01-16</th>\n",
       "      <td>310.200012</td>\n",
       "    </tr>\n",
       "    <tr>\n",
       "      <th>2022-01-17</th>\n",
       "      <td>310.200012</td>\n",
       "    </tr>\n",
       "  </tbody>\n",
       "</table>\n",
       "</div>"
      ],
      "text/plain": [
       "                 Close\n",
       "Date                  \n",
       "2022-01-03  334.750000\n",
       "2022-01-04  329.010010\n",
       "2022-01-05  316.380005\n",
       "2022-01-06  313.880005\n",
       "2022-01-07  314.040009\n",
       "2022-01-08  314.040009\n",
       "2022-01-09  314.040009\n",
       "2022-01-10  314.269989\n",
       "2022-01-11  314.980011\n",
       "2022-01-12  318.269989\n",
       "2022-01-13  304.799988\n",
       "2022-01-14  310.200012\n",
       "2022-01-15  310.200012\n",
       "2022-01-16  310.200012\n",
       "2022-01-17  310.200012"
      ]
     },
     "execution_count": 6,
     "metadata": {},
     "output_type": "execute_result"
    }
   ],
   "source": [
    "data_2.asfreq(\"D\", method=\"ffill\")[:15]"
   ]
  },
  {
   "cell_type": "code",
   "execution_count": 7,
   "id": "683eca1a",
   "metadata": {},
   "outputs": [
    {
     "data": {
      "text/html": [
       "<div>\n",
       "<style scoped>\n",
       "    .dataframe tbody tr th:only-of-type {\n",
       "        vertical-align: middle;\n",
       "    }\n",
       "\n",
       "    .dataframe tbody tr th {\n",
       "        vertical-align: top;\n",
       "    }\n",
       "\n",
       "    .dataframe thead th {\n",
       "        text-align: right;\n",
       "    }\n",
       "</style>\n",
       "<table border=\"1\" class=\"dataframe\">\n",
       "  <thead>\n",
       "    <tr style=\"text-align: right;\">\n",
       "      <th></th>\n",
       "      <th>Close</th>\n",
       "    </tr>\n",
       "    <tr>\n",
       "      <th>Date</th>\n",
       "      <th></th>\n",
       "    </tr>\n",
       "  </thead>\n",
       "  <tbody>\n",
       "    <tr>\n",
       "      <th>2022-01-03</th>\n",
       "      <td>334.750000</td>\n",
       "    </tr>\n",
       "    <tr>\n",
       "      <th>2022-01-04</th>\n",
       "      <td>329.010010</td>\n",
       "    </tr>\n",
       "    <tr>\n",
       "      <th>2022-01-05</th>\n",
       "      <td>316.380005</td>\n",
       "    </tr>\n",
       "    <tr>\n",
       "      <th>2022-01-06</th>\n",
       "      <td>313.880005</td>\n",
       "    </tr>\n",
       "    <tr>\n",
       "      <th>2022-01-07</th>\n",
       "      <td>314.040009</td>\n",
       "    </tr>\n",
       "    <tr>\n",
       "      <th>...</th>\n",
       "      <td>...</td>\n",
       "    </tr>\n",
       "    <tr>\n",
       "      <th>2023-05-22</th>\n",
       "      <td>321.179993</td>\n",
       "    </tr>\n",
       "    <tr>\n",
       "      <th>2023-05-23</th>\n",
       "      <td>315.260010</td>\n",
       "    </tr>\n",
       "    <tr>\n",
       "      <th>2023-05-24</th>\n",
       "      <td>313.850006</td>\n",
       "    </tr>\n",
       "    <tr>\n",
       "      <th>2023-05-25</th>\n",
       "      <td>325.920013</td>\n",
       "    </tr>\n",
       "    <tr>\n",
       "      <th>2023-05-26</th>\n",
       "      <td>332.890015</td>\n",
       "    </tr>\n",
       "  </tbody>\n",
       "</table>\n",
       "<p>509 rows × 1 columns</p>\n",
       "</div>"
      ],
      "text/plain": [
       "                 Close\n",
       "Date                  \n",
       "2022-01-03  334.750000\n",
       "2022-01-04  329.010010\n",
       "2022-01-05  316.380005\n",
       "2022-01-06  313.880005\n",
       "2022-01-07  314.040009\n",
       "...                ...\n",
       "2023-05-22  321.179993\n",
       "2023-05-23  315.260010\n",
       "2023-05-24  313.850006\n",
       "2023-05-25  325.920013\n",
       "2023-05-26  332.890015\n",
       "\n",
       "[509 rows x 1 columns]"
      ]
     },
     "execution_count": 7,
     "metadata": {},
     "output_type": "execute_result"
    }
   ],
   "source": [
    "data_2 = data_2.asfreq(\"D\", method='ffill')\n",
    "data_2"
   ]
  },
  {
   "cell_type": "code",
   "execution_count": 8,
   "id": "bf4a028a",
   "metadata": {},
   "outputs": [
    {
     "data": {
      "text/plain": [
       "<Axes: xlabel='Date'>"
      ]
     },
     "execution_count": 8,
     "metadata": {},
     "output_type": "execute_result"
    },
    {
     "data": {
      "image/png": "[encoded data removed]",
      "text/plain": [
       "<Figure size 432x288 with 1 Axes>"
      ]
     },
     "metadata": {
      "needs_background": "light"
     },
     "output_type": "display_data"
    }
   ],
   "source": [
    "data_2.plot()"
   ]
  },
  {
   "cell_type": "code",
   "execution_count": 9,
   "id": "df373e65",
   "metadata": {},
   "outputs": [
    {
     "data": {
      "text/plain": [
       "(0.9571381685274963, True)"
      ]
     },
     "execution_count": 9,
     "metadata": {},
     "output_type": "execute_result"
    }
   ],
   "source": [
    "# Testing for stationarity\n",
    "adf_test = ADFTest(alpha = 0.05)\n",
    "adf_test.should_diff(data_2)"
   ]
  },
  {
   "cell_type": "code",
   "execution_count": 10,
   "id": "af09663a",
   "metadata": {},
   "outputs": [],
   "source": [
    "# Spliting the dataset into train and test\n",
    "train, test = data_2[:int(len(data_2)*0.9)].copy(), data_2[int(len(data_2)*0.9):].copy()"
   ]
  },
  {
   "cell_type": "code",
   "execution_count": 11,
   "id": "e5359dfa",
   "metadata": {},
   "outputs": [
    {
     "data": {
      "text/plain": [
       "51"
      ]
     },
     "execution_count": 11,
     "metadata": {},
     "output_type": "execute_result"
    }
   ],
   "source": [
    "len(test)"
   ]
  },
  {
   "cell_type": "code",
   "execution_count": 12,
   "id": "39ef46b2",
   "metadata": {},
   "outputs": [
    {
     "data": {
      "text/html": [
       "<div>\n",
       "<style scoped>\n",
       "    .dataframe tbody tr th:only-of-type {\n",
       "        vertical-align: middle;\n",
       "    }\n",
       "\n",
       "    .dataframe tbody tr th {\n",
       "        vertical-align: top;\n",
       "    }\n",
       "\n",
       "    .dataframe thead th {\n",
       "        text-align: right;\n",
       "    }\n",
       "</style>\n",
       "<table border=\"1\" class=\"dataframe\">\n",
       "  <thead>\n",
       "    <tr style=\"text-align: right;\">\n",
       "      <th></th>\n",
       "      <th>Close</th>\n",
       "    </tr>\n",
       "    <tr>\n",
       "      <th>Date</th>\n",
       "      <th></th>\n",
       "    </tr>\n",
       "  </thead>\n",
       "  <tbody>\n",
       "    <tr>\n",
       "      <th>2023-04-01</th>\n",
       "      <td>288.299988</td>\n",
       "    </tr>\n",
       "    <tr>\n",
       "      <th>2023-04-02</th>\n",
       "      <td>288.299988</td>\n",
       "    </tr>\n",
       "    <tr>\n",
       "      <th>2023-04-03</th>\n",
       "      <td>287.230011</td>\n",
       "    </tr>\n",
       "    <tr>\n",
       "      <th>2023-04-04</th>\n",
       "      <td>287.179993</td>\n",
       "    </tr>\n",
       "    <tr>\n",
       "      <th>2023-04-05</th>\n",
       "      <td>284.339996</td>\n",
       "    </tr>\n",
       "  </tbody>\n",
       "</table>\n",
       "</div>"
      ],
      "text/plain": [
       "                 Close\n",
       "Date                  \n",
       "2023-04-01  288.299988\n",
       "2023-04-02  288.299988\n",
       "2023-04-03  287.230011\n",
       "2023-04-04  287.179993\n",
       "2023-04-05  284.339996"
      ]
     },
     "execution_count": 12,
     "metadata": {},
     "output_type": "execute_result"
    }
   ],
   "source": [
    "train.tail()"
   ]
  },
  {
   "cell_type": "code",
   "execution_count": 13,
   "id": "f780e4dc",
   "metadata": {},
   "outputs": [
    {
     "data": {
      "text/html": [
       "<div>\n",
       "<style scoped>\n",
       "    .dataframe tbody tr th:only-of-type {\n",
       "        vertical-align: middle;\n",
       "    }\n",
       "\n",
       "    .dataframe tbody tr th {\n",
       "        vertical-align: top;\n",
       "    }\n",
       "\n",
       "    .dataframe thead th {\n",
       "        text-align: right;\n",
       "    }\n",
       "</style>\n",
       "<table border=\"1\" class=\"dataframe\">\n",
       "  <thead>\n",
       "    <tr style=\"text-align: right;\">\n",
       "      <th></th>\n",
       "      <th>Close</th>\n",
       "    </tr>\n",
       "    <tr>\n",
       "      <th>Date</th>\n",
       "      <th></th>\n",
       "    </tr>\n",
       "  </thead>\n",
       "  <tbody>\n",
       "    <tr>\n",
       "      <th>2023-04-06</th>\n",
       "      <td>291.600006</td>\n",
       "    </tr>\n",
       "    <tr>\n",
       "      <th>2023-04-07</th>\n",
       "      <td>291.600006</td>\n",
       "    </tr>\n",
       "    <tr>\n",
       "      <th>2023-04-08</th>\n",
       "      <td>291.600006</td>\n",
       "    </tr>\n",
       "    <tr>\n",
       "      <th>2023-04-09</th>\n",
       "      <td>291.600006</td>\n",
       "    </tr>\n",
       "    <tr>\n",
       "      <th>2023-04-10</th>\n",
       "      <td>289.390015</td>\n",
       "    </tr>\n",
       "  </tbody>\n",
       "</table>\n",
       "</div>"
      ],
      "text/plain": [
       "                 Close\n",
       "Date                  \n",
       "2023-04-06  291.600006\n",
       "2023-04-07  291.600006\n",
       "2023-04-08  291.600006\n",
       "2023-04-09  291.600006\n",
       "2023-04-10  289.390015"
      ]
     },
     "execution_count": 13,
     "metadata": {},
     "output_type": "execute_result"
    }
   ],
   "source": [
    "test.head()"
   ]
  },
  {
   "cell_type": "code",
   "execution_count": 14,
   "id": "1466abff",
   "metadata": {},
   "outputs": [
    {
     "data": {
      "image/png": "[encoded data removed]",
      "text/plain": [
       "<Figure size 504x216 with 1 Axes>"
      ]
     },
     "metadata": {
      "needs_background": "light"
     },
     "output_type": "display_data"
    }
   ],
   "source": [
    "plt.figure(figsize=(7,3))\n",
    "# plt.figure()\n",
    "plt.plot(train)\n",
    "plt.plot(test)\n",
    "plt.savefig('/Users/jennyhuang/Documents/jobs/DBC-AI-Launch/project1-StockPrediction/train-test')"
   ]
  },
  {
   "cell_type": "code",
   "execution_count": 15,
   "id": "9bf67338",
   "metadata": {},
   "outputs": [
    {
     "name": "stdout",
     "output_type": "stream",
     "text": [
      "Performing stepwise search to minimize aic\n",
      " ARIMA(0,1,0)(0,1,0)[12]             : AIC=2935.096, Time=0.01 sec\n",
      " ARIMA(1,1,0)(1,1,0)[12]             : AIC=2820.311, Time=0.18 sec\n",
      " ARIMA(0,1,1)(0,1,1)[12]             : AIC=inf, Time=0.67 sec\n",
      " ARIMA(1,1,0)(0,1,0)[12]             : AIC=2935.710, Time=0.04 sec\n",
      " ARIMA(1,1,0)(2,1,0)[12]             : AIC=2782.549, Time=0.35 sec\n",
      " ARIMA(1,1,0)(3,1,0)[12]             : AIC=2764.478, Time=0.69 sec\n",
      " ARIMA(1,1,0)(4,1,0)[12]             : AIC=2740.963, Time=1.13 sec\n",
      " ARIMA(1,1,0)(5,1,0)[12]             : AIC=2735.840, Time=2.44 sec\n",
      " ARIMA(1,1,0)(5,1,1)[12]             : AIC=inf, Time=11.66 sec\n",
      " ARIMA(1,1,0)(4,1,1)[12]             : AIC=inf, Time=6.90 sec\n",
      " ARIMA(0,1,0)(5,1,0)[12]             : AIC=2733.953, Time=2.19 sec\n",
      " ARIMA(0,1,0)(4,1,0)[12]             : AIC=2739.147, Time=0.90 sec\n",
      " ARIMA(0,1,0)(5,1,1)[12]             : AIC=inf, Time=10.33 sec\n",
      " ARIMA(0,1,0)(4,1,1)[12]             : AIC=inf, Time=6.41 sec\n",
      " ARIMA(0,1,1)(5,1,0)[12]             : AIC=2735.824, Time=2.68 sec\n",
      " ARIMA(1,1,1)(5,1,0)[12]             : AIC=2733.121, Time=11.86 sec\n",
      " ARIMA(1,1,1)(4,1,0)[12]             : AIC=inf, Time=6.89 sec\n",
      " ARIMA(1,1,1)(5,1,1)[12]             : AIC=inf, Time=19.99 sec\n",
      " ARIMA(1,1,1)(4,1,1)[12]             : AIC=inf, Time=11.20 sec\n",
      " ARIMA(2,1,1)(5,1,0)[12]             : AIC=2737.934, Time=5.19 sec\n",
      " ARIMA(1,1,2)(5,1,0)[12]             : AIC=2738.137, Time=7.25 sec\n",
      " ARIMA(0,1,2)(5,1,0)[12]             : AIC=2736.205, Time=3.05 sec\n",
      " ARIMA(2,1,0)(5,1,0)[12]             : AIC=2736.133, Time=4.31 sec\n",
      " ARIMA(2,1,2)(5,1,0)[12]             : AIC=inf, Time=36.85 sec\n",
      " ARIMA(1,1,1)(5,1,0)[12] intercept   : AIC=inf, Time=28.78 sec\n",
      "\n",
      "Best model:  ARIMA(1,1,1)(5,1,0)[12]          \n",
      "Total fit time: 182.023 seconds\n"
     ]
    }
   ],
   "source": [
    "arima_model =  auto_arima(train,start_p=0, d=1, start_q=0, \n",
    "                          max_p=5, max_d=5, max_q=5, start_P=0, \n",
    "                          D=1, start_Q=0, max_P=5, max_D=5,\n",
    "                          max_Q=5, m=12, seasonal=True, \n",
    "                          error_action='warn',trace = True,\n",
    "                          supress_warnings=True,stepwise = True,\n",
    "                          random_state=20,n_fits = 50 )"
   ]
  },
  {
   "cell_type": "code",
   "execution_count": 16,
   "id": "efaea098",
   "metadata": {},
   "outputs": [],
   "source": [
    "par_map = arima_model.get_params()\n",
    "a, b, c = par_map['order'][0], par_map['order'][1], par_map['order'][2]"
   ]
  },
  {
   "cell_type": "code",
   "execution_count": 17,
   "id": "5784619d",
   "metadata": {},
   "outputs": [
    {
     "name": "stdout",
     "output_type": "stream",
     "text": [
      "                               SARIMAX Results                                \n",
      "==============================================================================\n",
      "Dep. Variable:                  Close   No. Observations:                  458\n",
      "Model:                 ARIMA(1, 1, 1)   Log Likelihood               -1358.246\n",
      "Date:                Mon, 19 Jun 2023   AIC                           2722.491\n",
      "Time:                        20:44:46   BIC                           2734.865\n",
      "Sample:                    01-03-2022   HQIC                          2727.365\n",
      "                         - 04-05-2023                                         \n",
      "Covariance Type:                  opg                                         \n",
      "==============================================================================\n",
      "                 coef    std err          z      P>|z|      [0.025      0.975]\n",
      "------------------------------------------------------------------------------\n",
      "ar.L1          0.9100      0.102      8.942      0.000       0.711       1.109\n",
      "ma.L1         -0.9407      0.082    -11.478      0.000      -1.101      -0.780\n",
      "sigma2        22.3366      1.104     20.224      0.000      20.172      24.501\n",
      "===================================================================================\n",
      "Ljung-Box (L1) (Q):                   0.03   Jarque-Bera (JB):                68.54\n",
      "Prob(Q):                              0.87   Prob(JB):                         0.00\n",
      "Heteroskedasticity (H):               0.59   Skew:                            -0.09\n",
      "Prob(H) (two-sided):                  0.00   Kurtosis:                         4.89\n",
      "===================================================================================\n",
      "\n",
      "Warnings:\n",
      "[1] Covariance matrix calculated using the outer product of gradients (complex-step).\n"
     ]
    }
   ],
   "source": [
    "# check the Best model: ARIMA(1,1,1)(5,1,0)[12]\n",
    "model = sm.tsa.arima.ARIMA(train, order=(a, b, c))\n",
    "fitted = model.fit()\n",
    "print(fitted.summary())"
   ]
  },
  {
   "cell_type": "code",
   "execution_count": 18,
   "id": "0cc021af",
   "metadata": {},
   "outputs": [
    {
     "data": {
      "text/html": [
       "<table class=\"simpletable\">\n",
       "<caption>SARIMAX Results</caption>\n",
       "<tr>\n",
       "  <th>Dep. Variable:</th>                  <td>y</td>                <th>  No. Observations:  </th>    <td>458</td>   \n",
       "</tr>\n",
       "<tr>\n",
       "  <th>Model:</th>           <td>SARIMAX(1, 1, 1)x(5, 1, [], 12)</td> <th>  Log Likelihood     </th> <td>-1358.560</td>\n",
       "</tr>\n",
       "<tr>\n",
       "  <th>Date:</th>                   <td>Mon, 19 Jun 2023</td>         <th>  AIC                </th> <td>2733.121</td> \n",
       "</tr>\n",
       "<tr>\n",
       "  <th>Time:</th>                       <td>20:44:46</td>             <th>  BIC                </th> <td>2765.905</td> \n",
       "</tr>\n",
       "<tr>\n",
       "  <th>Sample:</th>                    <td>01-03-2022</td>            <th>  HQIC               </th> <td>2746.048</td> \n",
       "</tr>\n",
       "<tr>\n",
       "  <th></th>                          <td>- 04-05-2023</td>           <th>                     </th>     <td> </td>    \n",
       "</tr>\n",
       "<tr>\n",
       "  <th>Covariance Type:</th>               <td>opg</td>               <th>                     </th>     <td> </td>    \n",
       "</tr>\n",
       "</table>\n",
       "<table class=\"simpletable\">\n",
       "<tr>\n",
       "      <td></td>        <th>coef</th>     <th>std err</th>      <th>z</th>      <th>P>|z|</th>  <th>[0.025</th>    <th>0.975]</th>  \n",
       "</tr>\n",
       "<tr>\n",
       "  <th>ar.L1</th>    <td>    0.9541</td> <td>    0.033</td> <td>   28.691</td> <td> 0.000</td> <td>    0.889</td> <td>    1.019</td>\n",
       "</tr>\n",
       "<tr>\n",
       "  <th>ma.L1</th>    <td>   -0.9897</td> <td>    0.021</td> <td>  -46.292</td> <td> 0.000</td> <td>   -1.032</td> <td>   -0.948</td>\n",
       "</tr>\n",
       "<tr>\n",
       "  <th>ar.S.L12</th> <td>   -0.7778</td> <td>    0.050</td> <td>  -15.553</td> <td> 0.000</td> <td>   -0.876</td> <td>   -0.680</td>\n",
       "</tr>\n",
       "<tr>\n",
       "  <th>ar.S.L24</th> <td>   -0.5913</td> <td>    0.059</td> <td>   -9.985</td> <td> 0.000</td> <td>   -0.707</td> <td>   -0.475</td>\n",
       "</tr>\n",
       "<tr>\n",
       "  <th>ar.S.L36</th> <td>   -0.4543</td> <td>    0.062</td> <td>   -7.367</td> <td> 0.000</td> <td>   -0.575</td> <td>   -0.333</td>\n",
       "</tr>\n",
       "<tr>\n",
       "  <th>ar.S.L48</th> <td>   -0.3400</td> <td>    0.067</td> <td>   -5.099</td> <td> 0.000</td> <td>   -0.471</td> <td>   -0.209</td>\n",
       "</tr>\n",
       "<tr>\n",
       "  <th>ar.S.L60</th> <td>   -0.1288</td> <td>    0.052</td> <td>   -2.477</td> <td> 0.013</td> <td>   -0.231</td> <td>   -0.027</td>\n",
       "</tr>\n",
       "<tr>\n",
       "  <th>sigma2</th>   <td>   25.5300</td> <td>    1.548</td> <td>   16.492</td> <td> 0.000</td> <td>   22.496</td> <td>   28.564</td>\n",
       "</tr>\n",
       "</table>\n",
       "<table class=\"simpletable\">\n",
       "<tr>\n",
       "  <th>Ljung-Box (L1) (Q):</th>     <td>0.00</td> <th>  Jarque-Bera (JB):  </th> <td>9.78</td> \n",
       "</tr>\n",
       "<tr>\n",
       "  <th>Prob(Q):</th>                <td>0.97</td> <th>  Prob(JB):          </th> <td>0.01</td> \n",
       "</tr>\n",
       "<tr>\n",
       "  <th>Heteroskedasticity (H):</th> <td>0.68</td> <th>  Skew:              </th> <td>-0.04</td>\n",
       "</tr>\n",
       "<tr>\n",
       "  <th>Prob(H) (two-sided):</th>    <td>0.02</td> <th>  Kurtosis:          </th> <td>3.72</td> \n",
       "</tr>\n",
       "</table><br/><br/>Warnings:<br/>[1] Covariance matrix calculated using the outer product of gradients (complex-step)."
      ],
      "text/latex": [
       "\\begin{center}\n",
       "\\begin{tabular}{lclc}\n",
       "\\toprule\n",
       "\\textbf{Dep. Variable:}          &                y                & \\textbf{  No. Observations:  } &    458      \\\\\n",
       "\\textbf{Model:}                  & SARIMAX(1, 1, 1)x(5, 1, [], 12) & \\textbf{  Log Likelihood     } & -1358.560   \\\\\n",
       "\\textbf{Date:}                   &         Mon, 19 Jun 2023        & \\textbf{  AIC                } &  2733.121   \\\\\n",
       "\\textbf{Time:}                   &             20:44:46            & \\textbf{  BIC                } &  2765.905   \\\\\n",
       "\\textbf{Sample:}                 &            01-03-2022           & \\textbf{  HQIC               } &  2746.048   \\\\\n",
       "\\textbf{}                        &           - 04-05-2023          & \\textbf{                     } &             \\\\\n",
       "\\textbf{Covariance Type:}        &               opg               & \\textbf{                     } &             \\\\\n",
       "\\bottomrule\n",
       "\\end{tabular}\n",
       "\\begin{tabular}{lcccccc}\n",
       "                  & \\textbf{coef} & \\textbf{std err} & \\textbf{z} & \\textbf{P$> |$z$|$} & \\textbf{[0.025} & \\textbf{0.975]}  \\\\\n",
       "\\midrule\n",
       "\\textbf{ar.L1}    &       0.9541  &        0.033     &    28.691  &         0.000        &        0.889    &        1.019     \\\\\n",
       "\\textbf{ma.L1}    &      -0.9897  &        0.021     &   -46.292  &         0.000        &       -1.032    &       -0.948     \\\\\n",
       "\\textbf{ar.S.L12} &      -0.7778  &        0.050     &   -15.553  &         0.000        &       -0.876    &       -0.680     \\\\\n",
       "\\textbf{ar.S.L24} &      -0.5913  &        0.059     &    -9.985  &         0.000        &       -0.707    &       -0.475     \\\\\n",
       "\\textbf{ar.S.L36} &      -0.4543  &        0.062     &    -7.367  &         0.000        &       -0.575    &       -0.333     \\\\\n",
       "\\textbf{ar.S.L48} &      -0.3400  &        0.067     &    -5.099  &         0.000        &       -0.471    &       -0.209     \\\\\n",
       "\\textbf{ar.S.L60} &      -0.1288  &        0.052     &    -2.477  &         0.013        &       -0.231    &       -0.027     \\\\\n",
       "\\textbf{sigma2}   &      25.5300  &        1.548     &    16.492  &         0.000        &       22.496    &       28.564     \\\\\n",
       "\\bottomrule\n",
       "\\end{tabular}\n",
       "\\begin{tabular}{lclc}\n",
       "\\textbf{Ljung-Box (L1) (Q):}     & 0.00 & \\textbf{  Jarque-Bera (JB):  } &  9.78  \\\\\n",
       "\\textbf{Prob(Q):}                & 0.97 & \\textbf{  Prob(JB):          } &  0.01  \\\\\n",
       "\\textbf{Heteroskedasticity (H):} & 0.68 & \\textbf{  Skew:              } & -0.04  \\\\\n",
       "\\textbf{Prob(H) (two-sided):}    & 0.02 & \\textbf{  Kurtosis:          } &  3.72  \\\\\n",
       "\\bottomrule\n",
       "\\end{tabular}\n",
       "%\\caption{SARIMAX Results}\n",
       "\\end{center}\n",
       "\n",
       "Warnings: \\newline\n",
       " [1] Covariance matrix calculated using the outer product of gradients (complex-step)."
      ],
      "text/plain": [
       "<class 'statsmodels.iolib.summary.Summary'>\n",
       "\"\"\"\n",
       "                                      SARIMAX Results                                      \n",
       "===========================================================================================\n",
       "Dep. Variable:                                   y   No. Observations:                  458\n",
       "Model:             SARIMAX(1, 1, 1)x(5, 1, [], 12)   Log Likelihood               -1358.560\n",
       "Date:                             Mon, 19 Jun 2023   AIC                           2733.121\n",
       "Time:                                     20:44:46   BIC                           2765.905\n",
       "Sample:                                 01-03-2022   HQIC                          2746.048\n",
       "                                      - 04-05-2023                                         \n",
       "Covariance Type:                               opg                                         \n",
       "==============================================================================\n",
       "                 coef    std err          z      P>|z|      [0.025      0.975]\n",
       "------------------------------------------------------------------------------\n",
       "ar.L1          0.9541      0.033     28.691      0.000       0.889       1.019\n",
       "ma.L1         -0.9897      0.021    -46.292      0.000      -1.032      -0.948\n",
       "ar.S.L12      -0.7778      0.050    -15.553      0.000      -0.876      -0.680\n",
       "ar.S.L24      -0.5913      0.059     -9.985      0.000      -0.707      -0.475\n",
       "ar.S.L36      -0.4543      0.062     -7.367      0.000      -0.575      -0.333\n",
       "ar.S.L48      -0.3400      0.067     -5.099      0.000      -0.471      -0.209\n",
       "ar.S.L60      -0.1288      0.052     -2.477      0.013      -0.231      -0.027\n",
       "sigma2        25.5300      1.548     16.492      0.000      22.496      28.564\n",
       "===================================================================================\n",
       "Ljung-Box (L1) (Q):                   0.00   Jarque-Bera (JB):                 9.78\n",
       "Prob(Q):                              0.97   Prob(JB):                         0.01\n",
       "Heteroskedasticity (H):               0.68   Skew:                            -0.04\n",
       "Prob(H) (two-sided):                  0.02   Kurtosis:                         3.72\n",
       "===================================================================================\n",
       "\n",
       "Warnings:\n",
       "[1] Covariance matrix calculated using the outer product of gradients (complex-step).\n",
       "\"\"\""
      ]
     },
     "execution_count": 18,
     "metadata": {},
     "output_type": "execute_result"
    }
   ],
   "source": [
    "# Summary of the model\n",
    "arima_model.summary()"
   ]
  },
  {
   "cell_type": "code",
   "execution_count": 19,
   "id": "830d38e7",
   "metadata": {},
   "outputs": [
    {
     "data": {
      "text/html": [
       "<div>\n",
       "<style scoped>\n",
       "    .dataframe tbody tr th:only-of-type {\n",
       "        vertical-align: middle;\n",
       "    }\n",
       "\n",
       "    .dataframe tbody tr th {\n",
       "        vertical-align: top;\n",
       "    }\n",
       "\n",
       "    .dataframe thead th {\n",
       "        text-align: right;\n",
       "    }\n",
       "</style>\n",
       "<table border=\"1\" class=\"dataframe\">\n",
       "  <thead>\n",
       "    <tr style=\"text-align: right;\">\n",
       "      <th></th>\n",
       "      <th>predicted_price</th>\n",
       "    </tr>\n",
       "    <tr>\n",
       "      <th>Date</th>\n",
       "      <th></th>\n",
       "    </tr>\n",
       "  </thead>\n",
       "  <tbody>\n",
       "    <tr>\n",
       "      <th>2023-05-22</th>\n",
       "      <td>292.182701</td>\n",
       "    </tr>\n",
       "    <tr>\n",
       "      <th>2023-05-23</th>\n",
       "      <td>291.503017</td>\n",
       "    </tr>\n",
       "    <tr>\n",
       "      <th>2023-05-24</th>\n",
       "      <td>291.686450</td>\n",
       "    </tr>\n",
       "    <tr>\n",
       "      <th>2023-05-25</th>\n",
       "      <td>293.700427</td>\n",
       "    </tr>\n",
       "    <tr>\n",
       "      <th>2023-05-26</th>\n",
       "      <td>294.759342</td>\n",
       "    </tr>\n",
       "  </tbody>\n",
       "</table>\n",
       "</div>"
      ],
      "text/plain": [
       "            predicted_price\n",
       "Date                       \n",
       "2023-05-22       292.182701\n",
       "2023-05-23       291.503017\n",
       "2023-05-24       291.686450\n",
       "2023-05-25       293.700427\n",
       "2023-05-26       294.759342"
      ]
     },
     "execution_count": 19,
     "metadata": {},
     "output_type": "execute_result"
    }
   ],
   "source": [
    "prediction = pd.DataFrame(arima_model.predict(n_periods = 51),index=test.index)\n",
    "prediction.columns = ['predicted_price']\n",
    "prediction.tail()"
   ]
  },
  {
   "cell_type": "code",
   "execution_count": 20,
   "id": "3e6bbdd3",
   "metadata": {},
   "outputs": [
    {
     "data": {
      "text/plain": [
       "<matplotlib.legend.Legend at 0x177ca50a0>"
      ]
     },
     "execution_count": 20,
     "metadata": {},
     "output_type": "execute_result"
    },
    {
     "data": {
      "image/png": "[encoded data removed]",
      "text/plain": [
       "<Figure size 504x216 with 1 Axes>"
      ]
     },
     "metadata": {
      "needs_background": "light"
     },
     "output_type": "display_data"
    }
   ],
   "source": [
    "plt.figure(figsize=(7,3))\n",
    "plt.plot(train,label=\"Training\")\n",
    "plt.plot(test,label=\"Test\")\n",
    "plt.plot(prediction,label=\"Predicted\")\n",
    "plt.legend(loc = 'best')\n",
    "# plt.savefig('/Users/jennyhuang/Documents/jobs/DBC-AI-Launch/project1-StockPrediction/test/TimeSeries_Auto-ARIMA/prediction.png')"
   ]
  },
  {
   "cell_type": "code",
   "execution_count": 21,
   "id": "ef9154a3",
   "metadata": {},
   "outputs": [
    {
     "data": {
      "text/plain": [
       "-0.768179282040655"
      ]
     },
     "execution_count": 21,
     "metadata": {},
     "output_type": "execute_result"
    }
   ],
   "source": [
    "test['predicted_price'] = prediction\n",
    "r2_score(test['Close'], test['predicted_price'])"
   ]
  },
  {
   "cell_type": "code",
   "execution_count": 22,
   "id": "90a0f2e2",
   "metadata": {
    "scrolled": false
   },
   "outputs": [
    {
     "name": "stdout",
     "output_type": "stream",
     "text": [
      "\\begin{tabular}{lr}\n",
      "\\toprule\n",
      "{} &  predicted\\_price \\\\\n",
      "\\midrule\n",
      "2023-04-06 &       283.661155 \\\\\n",
      "2023-04-07 &       284.415385 \\\\\n",
      "2023-04-08 &       287.513460 \\\\\n",
      "2023-04-09 &       288.498542 \\\\\n",
      "2023-04-10 &       288.417741 \\\\\n",
      "2023-04-11 &       288.621336 \\\\\n",
      "2023-04-12 &       288.332138 \\\\\n",
      "\\bottomrule\n",
      "\\end{tabular}\n",
      "\n"
     ]
    },
    {
     "data": {
      "text/html": [
       "<div>\n",
       "<style scoped>\n",
       "    .dataframe tbody tr th:only-of-type {\n",
       "        vertical-align: middle;\n",
       "    }\n",
       "\n",
       "    .dataframe tbody tr th {\n",
       "        vertical-align: top;\n",
       "    }\n",
       "\n",
       "    .dataframe thead th {\n",
       "        text-align: right;\n",
       "    }\n",
       "</style>\n",
       "<table border=\"1\" class=\"dataframe\">\n",
       "  <thead>\n",
       "    <tr style=\"text-align: right;\">\n",
       "      <th></th>\n",
       "      <th>predicted_price</th>\n",
       "    </tr>\n",
       "  </thead>\n",
       "  <tbody>\n",
       "    <tr>\n",
       "      <th>2023-04-06</th>\n",
       "      <td>283.661155</td>\n",
       "    </tr>\n",
       "    <tr>\n",
       "      <th>2023-04-07</th>\n",
       "      <td>284.415385</td>\n",
       "    </tr>\n",
       "    <tr>\n",
       "      <th>2023-04-08</th>\n",
       "      <td>287.513460</td>\n",
       "    </tr>\n",
       "    <tr>\n",
       "      <th>2023-04-09</th>\n",
       "      <td>288.498542</td>\n",
       "    </tr>\n",
       "    <tr>\n",
       "      <th>2023-04-10</th>\n",
       "      <td>288.417741</td>\n",
       "    </tr>\n",
       "    <tr>\n",
       "      <th>2023-04-11</th>\n",
       "      <td>288.621336</td>\n",
       "    </tr>\n",
       "    <tr>\n",
       "      <th>2023-04-12</th>\n",
       "      <td>288.332138</td>\n",
       "    </tr>\n",
       "  </tbody>\n",
       "</table>\n",
       "</div>"
      ],
      "text/plain": [
       "            predicted_price\n",
       "2023-04-06       283.661155\n",
       "2023-04-07       284.415385\n",
       "2023-04-08       287.513460\n",
       "2023-04-09       288.498542\n",
       "2023-04-10       288.417741\n",
       "2023-04-11       288.621336\n",
       "2023-04-12       288.332138"
      ]
     },
     "execution_count": 22,
     "metadata": {},
     "output_type": "execute_result"
    }
   ],
   "source": [
    "prediction = pd.DataFrame(arima_model.predict(n_periods = 7))\n",
    "prediction.columns = ['predicted_price']\n",
    "print(prediction.to_latex())\n",
    "prediction"
   ]
  },
  {
   "cell_type": "code",
   "execution_count": 23,
   "id": "531ff4ca",
   "metadata": {},
   "outputs": [
    {
     "data": {
      "text/html": [
       "<div>\n",
       "<style scoped>\n",
       "    .dataframe tbody tr th:only-of-type {\n",
       "        vertical-align: middle;\n",
       "    }\n",
       "\n",
       "    .dataframe tbody tr th {\n",
       "        vertical-align: top;\n",
       "    }\n",
       "\n",
       "    .dataframe thead th {\n",
       "        text-align: right;\n",
       "    }\n",
       "</style>\n",
       "<table border=\"1\" class=\"dataframe\">\n",
       "  <thead>\n",
       "    <tr style=\"text-align: right;\">\n",
       "      <th></th>\n",
       "      <th>predicted_price</th>\n",
       "    </tr>\n",
       "  </thead>\n",
       "  <tbody>\n",
       "    <tr>\n",
       "      <th>2023-05-27</th>\n",
       "      <td>296.917834</td>\n",
       "    </tr>\n",
       "    <tr>\n",
       "      <th>2023-05-28</th>\n",
       "      <td>298.577198</td>\n",
       "    </tr>\n",
       "    <tr>\n",
       "      <th>2023-05-29</th>\n",
       "      <td>299.592031</td>\n",
       "    </tr>\n",
       "    <tr>\n",
       "      <th>2023-05-30</th>\n",
       "      <td>300.633603</td>\n",
       "    </tr>\n",
       "    <tr>\n",
       "      <th>2023-05-31</th>\n",
       "      <td>297.827603</td>\n",
       "    </tr>\n",
       "    <tr>\n",
       "      <th>2023-06-01</th>\n",
       "      <td>298.597201</td>\n",
       "    </tr>\n",
       "    <tr>\n",
       "      <th>2023-06-02</th>\n",
       "      <td>297.438011</td>\n",
       "    </tr>\n",
       "  </tbody>\n",
       "</table>\n",
       "</div>"
      ],
      "text/plain": [
       "            predicted_price\n",
       "2023-05-27       296.917834\n",
       "2023-05-28       298.577198\n",
       "2023-05-29       299.592031\n",
       "2023-05-30       300.633603\n",
       "2023-05-31       297.827603\n",
       "2023-06-01       298.597201\n",
       "2023-06-02       297.438011"
      ]
     },
     "execution_count": 23,
     "metadata": {},
     "output_type": "execute_result"
    }
   ],
   "source": [
    "# final result for future 7 days\n",
    "prediction = pd.DataFrame(arima_model.predict(n_periods = 58))\n",
    "prediction.columns = ['predicted_price']\n",
    "prediction.tail(7)"
   ]
  },
  {
   "cell_type": "code",
   "execution_count": 24,
   "id": "782dfbd8",
   "metadata": {},
   "outputs": [
    {
     "name": "stdout",
     "output_type": "stream",
     "text": [
      "The precentage of the future 7th day's price is higher than the prediction day is -10.65%\n"
     ]
    }
   ],
   "source": [
    "real = data.loc['2023-05-26', 'Close']\n",
    "pred = prediction.loc['2023-06-02', 'predicted_price']\n",
    "perc = (pred - real) / real * 100\n",
    "print(\"The precentage of the future 7th day's price is higher than the prediction day is {0:.2f}%\".format(perc))"
   ]
  },
  {
   "cell_type": "code",
   "execution_count": 25,
   "id": "4098bd35",
   "metadata": {},
   "outputs": [
    {
     "name": "stdout",
     "output_type": "stream",
     "text": [
      "Total running time is 3.07 min\n"
     ]
    }
   ],
   "source": [
    "toc = time.time()\n",
    "print(\"Total running time is {0:.2f} min\".format((toc - tic) / 60))"
   ]
  }
 ],
 "metadata": {
  "kernelspec": {
   "display_name": "Python 3 (ipykernel)",
   "language": "python",
   "name": "python3"
  },
  "language_info": {
   "codemirror_mode": {
    "name": "ipython",
    "version": 3
   },
   "file_extension": ".py",
   "mimetype": "text/x-python",
   "name": "python",
   "nbconvert_exporter": "python",
   "pygments_lexer": "ipython3",
   "version": "3.9.13"
  }
 },
 "nbformat": 4,
 "nbformat_minor": 5
}
