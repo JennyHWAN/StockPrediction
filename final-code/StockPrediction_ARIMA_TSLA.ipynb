{
 "cells": [
  {
   "cell_type": "code",
   "execution_count": 1,
   "id": "33c2e9b2",
   "metadata": {},
   "outputs": [],
   "source": [
    "# Importing necessary libraries\n",
    "import pandas as pd\n",
    "import numpy as np\n",
    "import matplotlib.pyplot as plt\n",
    "get_ipython().run_line_magic('matplotlib', 'inline')\n",
    "import warnings\n",
    "warnings.filterwarnings('ignore')\n",
    "import yfinance as yf\n",
    "from pandas_datareader import data as pdr\n",
    "from pmdarima.arima import auto_arima\n",
    "from pmdarima.arima import ADFTest\n",
    "import statsmodels.api as sm\n",
    "from sklearn.metrics import r2_score\n",
    "from fastai.tabular.all import add_datepart\n",
    "from sklearn.preprocessing import LabelEncoder\n",
    "from xgboost import XGBRegressor\n",
    "import math\n",
    "import time\n",
    "\n",
    "tic = time.time()"
   ]
  },
  {
   "cell_type": "code",
   "execution_count": 2,
   "id": "14897425",
   "metadata": {},
   "outputs": [
    {
     "name": "stdout",
     "output_type": "stream",
     "text": [
      "[*********************100%***********************]  1 of 1 completed\n"
     ]
    }
   ],
   "source": [
    "# read the stock data at the first run\n",
    "# to download the data, need the vpn\n",
    "# comment the following codes after the first run\n",
    "yf.pdr_override()\n",
    "data = pdr.get_data_yahoo(\"TSLA\", start=\"2022-01-01\", end=\"2023-05-30\")\n",
    "data # there are 352 data in total using as training and validation data\n",
    "data.to_csv('/Users/jennyhuang/Documents/jobs/DBC-AI-Launch/project1-StockPrediction/TSLA.csv')"
   ]
  },
  {
   "cell_type": "code",
   "execution_count": 3,
   "id": "cc990bba",
   "metadata": {},
   "outputs": [],
   "source": [
    "# data = pd.read_csv('/Users/jennyhuang/Documents/jobs/DBC-AI-Launch/project1-StockPrediction/MSFT.csv')\n",
    "# data['Date'] = pd.to_datetime(data['Date'])\n",
    "# data.set_index('Date', inplace=True)\n",
    "# data.info()"
   ]
  },
  {
   "cell_type": "code",
   "execution_count": 4,
   "id": "7167be4c",
   "metadata": {},
   "outputs": [
    {
     "name": "stdout",
     "output_type": "stream",
     "text": [
      "<class 'pandas.core.frame.DataFrame'>\n",
      "DatetimeIndex: 352 entries, 2022-01-03 to 2023-05-26\n",
      "Data columns (total 1 columns):\n",
      " #   Column  Non-Null Count  Dtype  \n",
      "---  ------  --------------  -----  \n",
      " 0   Close   352 non-null    float64\n",
      "dtypes: float64(1)\n",
      "memory usage: 5.5 KB\n"
     ]
    }
   ],
   "source": [
    "data_2 = pd.DataFrame({'Close':data['Close']})\n",
    "data_2.info()"
   ]
  },
  {
   "cell_type": "code",
   "execution_count": 5,
   "id": "062a6ce8",
   "metadata": {},
   "outputs": [
    {
     "data": {
      "text/html": [
       "<div>\n",
       "<style scoped>\n",
       "    .dataframe tbody tr th:only-of-type {\n",
       "        vertical-align: middle;\n",
       "    }\n",
       "\n",
       "    .dataframe tbody tr th {\n",
       "        vertical-align: top;\n",
       "    }\n",
       "\n",
       "    .dataframe thead th {\n",
       "        text-align: right;\n",
       "    }\n",
       "</style>\n",
       "<table border=\"1\" class=\"dataframe\">\n",
       "  <thead>\n",
       "    <tr style=\"text-align: right;\">\n",
       "      <th></th>\n",
       "      <th>Close</th>\n",
       "    </tr>\n",
       "    <tr>\n",
       "      <th>Date</th>\n",
       "      <th></th>\n",
       "    </tr>\n",
       "  </thead>\n",
       "  <tbody>\n",
       "    <tr>\n",
       "      <th>2022-01-03</th>\n",
       "      <td>399.926666</td>\n",
       "    </tr>\n",
       "    <tr>\n",
       "      <th>2022-01-04</th>\n",
       "      <td>383.196655</td>\n",
       "    </tr>\n",
       "    <tr>\n",
       "      <th>2022-01-05</th>\n",
       "      <td>362.706665</td>\n",
       "    </tr>\n",
       "    <tr>\n",
       "      <th>2022-01-06</th>\n",
       "      <td>354.899994</td>\n",
       "    </tr>\n",
       "    <tr>\n",
       "      <th>2022-01-07</th>\n",
       "      <td>342.320007</td>\n",
       "    </tr>\n",
       "    <tr>\n",
       "      <th>2022-01-08</th>\n",
       "      <td>NaN</td>\n",
       "    </tr>\n",
       "    <tr>\n",
       "      <th>2022-01-09</th>\n",
       "      <td>NaN</td>\n",
       "    </tr>\n",
       "    <tr>\n",
       "      <th>2022-01-10</th>\n",
       "      <td>352.706665</td>\n",
       "    </tr>\n",
       "    <tr>\n",
       "      <th>2022-01-11</th>\n",
       "      <td>354.799988</td>\n",
       "    </tr>\n",
       "    <tr>\n",
       "      <th>2022-01-12</th>\n",
       "      <td>368.739990</td>\n",
       "    </tr>\n",
       "    <tr>\n",
       "      <th>2022-01-13</th>\n",
       "      <td>343.853333</td>\n",
       "    </tr>\n",
       "    <tr>\n",
       "      <th>2022-01-14</th>\n",
       "      <td>349.869995</td>\n",
       "    </tr>\n",
       "    <tr>\n",
       "      <th>2022-01-15</th>\n",
       "      <td>NaN</td>\n",
       "    </tr>\n",
       "    <tr>\n",
       "      <th>2022-01-16</th>\n",
       "      <td>NaN</td>\n",
       "    </tr>\n",
       "    <tr>\n",
       "      <th>2022-01-17</th>\n",
       "      <td>NaN</td>\n",
       "    </tr>\n",
       "  </tbody>\n",
       "</table>\n",
       "</div>"
      ],
      "text/plain": [
       "                 Close\n",
       "Date                  \n",
       "2022-01-03  399.926666\n",
       "2022-01-04  383.196655\n",
       "2022-01-05  362.706665\n",
       "2022-01-06  354.899994\n",
       "2022-01-07  342.320007\n",
       "2022-01-08         NaN\n",
       "2022-01-09         NaN\n",
       "2022-01-10  352.706665\n",
       "2022-01-11  354.799988\n",
       "2022-01-12  368.739990\n",
       "2022-01-13  343.853333\n",
       "2022-01-14  349.869995\n",
       "2022-01-15         NaN\n",
       "2022-01-16         NaN\n",
       "2022-01-17         NaN"
      ]
     },
     "execution_count": 5,
     "metadata": {},
     "output_type": "execute_result"
    }
   ],
   "source": [
    "data_2.asfreq(\"D\")[:15]"
   ]
  },
  {
   "cell_type": "code",
   "execution_count": 6,
   "id": "61e1e8e1",
   "metadata": {},
   "outputs": [
    {
     "data": {
      "text/html": [
       "<div>\n",
       "<style scoped>\n",
       "    .dataframe tbody tr th:only-of-type {\n",
       "        vertical-align: middle;\n",
       "    }\n",
       "\n",
       "    .dataframe tbody tr th {\n",
       "        vertical-align: top;\n",
       "    }\n",
       "\n",
       "    .dataframe thead th {\n",
       "        text-align: right;\n",
       "    }\n",
       "</style>\n",
       "<table border=\"1\" class=\"dataframe\">\n",
       "  <thead>\n",
       "    <tr style=\"text-align: right;\">\n",
       "      <th></th>\n",
       "      <th>Close</th>\n",
       "    </tr>\n",
       "    <tr>\n",
       "      <th>Date</th>\n",
       "      <th></th>\n",
       "    </tr>\n",
       "  </thead>\n",
       "  <tbody>\n",
       "    <tr>\n",
       "      <th>2022-01-03</th>\n",
       "      <td>399.926666</td>\n",
       "    </tr>\n",
       "    <tr>\n",
       "      <th>2022-01-04</th>\n",
       "      <td>383.196655</td>\n",
       "    </tr>\n",
       "    <tr>\n",
       "      <th>2022-01-05</th>\n",
       "      <td>362.706665</td>\n",
       "    </tr>\n",
       "    <tr>\n",
       "      <th>2022-01-06</th>\n",
       "      <td>354.899994</td>\n",
       "    </tr>\n",
       "    <tr>\n",
       "      <th>2022-01-07</th>\n",
       "      <td>342.320007</td>\n",
       "    </tr>\n",
       "    <tr>\n",
       "      <th>2022-01-08</th>\n",
       "      <td>342.320007</td>\n",
       "    </tr>\n",
       "    <tr>\n",
       "      <th>2022-01-09</th>\n",
       "      <td>342.320007</td>\n",
       "    </tr>\n",
       "    <tr>\n",
       "      <th>2022-01-10</th>\n",
       "      <td>352.706665</td>\n",
       "    </tr>\n",
       "    <tr>\n",
       "      <th>2022-01-11</th>\n",
       "      <td>354.799988</td>\n",
       "    </tr>\n",
       "    <tr>\n",
       "      <th>2022-01-12</th>\n",
       "      <td>368.739990</td>\n",
       "    </tr>\n",
       "    <tr>\n",
       "      <th>2022-01-13</th>\n",
       "      <td>343.853333</td>\n",
       "    </tr>\n",
       "    <tr>\n",
       "      <th>2022-01-14</th>\n",
       "      <td>349.869995</td>\n",
       "    </tr>\n",
       "    <tr>\n",
       "      <th>2022-01-15</th>\n",
       "      <td>349.869995</td>\n",
       "    </tr>\n",
       "    <tr>\n",
       "      <th>2022-01-16</th>\n",
       "      <td>349.869995</td>\n",
       "    </tr>\n",
       "    <tr>\n",
       "      <th>2022-01-17</th>\n",
       "      <td>349.869995</td>\n",
       "    </tr>\n",
       "  </tbody>\n",
       "</table>\n",
       "</div>"
      ],
      "text/plain": [
       "                 Close\n",
       "Date                  \n",
       "2022-01-03  399.926666\n",
       "2022-01-04  383.196655\n",
       "2022-01-05  362.706665\n",
       "2022-01-06  354.899994\n",
       "2022-01-07  342.320007\n",
       "2022-01-08  342.320007\n",
       "2022-01-09  342.320007\n",
       "2022-01-10  352.706665\n",
       "2022-01-11  354.799988\n",
       "2022-01-12  368.739990\n",
       "2022-01-13  343.853333\n",
       "2022-01-14  349.869995\n",
       "2022-01-15  349.869995\n",
       "2022-01-16  349.869995\n",
       "2022-01-17  349.869995"
      ]
     },
     "execution_count": 6,
     "metadata": {},
     "output_type": "execute_result"
    }
   ],
   "source": [
    "data_2.asfreq(\"D\", method=\"ffill\")[:15]"
   ]
  },
  {
   "cell_type": "code",
   "execution_count": 7,
   "id": "683eca1a",
   "metadata": {},
   "outputs": [
    {
     "data": {
      "text/html": [
       "<div>\n",
       "<style scoped>\n",
       "    .dataframe tbody tr th:only-of-type {\n",
       "        vertical-align: middle;\n",
       "    }\n",
       "\n",
       "    .dataframe tbody tr th {\n",
       "        vertical-align: top;\n",
       "    }\n",
       "\n",
       "    .dataframe thead th {\n",
       "        text-align: right;\n",
       "    }\n",
       "</style>\n",
       "<table border=\"1\" class=\"dataframe\">\n",
       "  <thead>\n",
       "    <tr style=\"text-align: right;\">\n",
       "      <th></th>\n",
       "      <th>Close</th>\n",
       "    </tr>\n",
       "    <tr>\n",
       "      <th>Date</th>\n",
       "      <th></th>\n",
       "    </tr>\n",
       "  </thead>\n",
       "  <tbody>\n",
       "    <tr>\n",
       "      <th>2022-01-03</th>\n",
       "      <td>399.926666</td>\n",
       "    </tr>\n",
       "    <tr>\n",
       "      <th>2022-01-04</th>\n",
       "      <td>383.196655</td>\n",
       "    </tr>\n",
       "    <tr>\n",
       "      <th>2022-01-05</th>\n",
       "      <td>362.706665</td>\n",
       "    </tr>\n",
       "    <tr>\n",
       "      <th>2022-01-06</th>\n",
       "      <td>354.899994</td>\n",
       "    </tr>\n",
       "    <tr>\n",
       "      <th>2022-01-07</th>\n",
       "      <td>342.320007</td>\n",
       "    </tr>\n",
       "    <tr>\n",
       "      <th>...</th>\n",
       "      <td>...</td>\n",
       "    </tr>\n",
       "    <tr>\n",
       "      <th>2023-05-22</th>\n",
       "      <td>188.869995</td>\n",
       "    </tr>\n",
       "    <tr>\n",
       "      <th>2023-05-23</th>\n",
       "      <td>185.770004</td>\n",
       "    </tr>\n",
       "    <tr>\n",
       "      <th>2023-05-24</th>\n",
       "      <td>182.899994</td>\n",
       "    </tr>\n",
       "    <tr>\n",
       "      <th>2023-05-25</th>\n",
       "      <td>184.470001</td>\n",
       "    </tr>\n",
       "    <tr>\n",
       "      <th>2023-05-26</th>\n",
       "      <td>193.169998</td>\n",
       "    </tr>\n",
       "  </tbody>\n",
       "</table>\n",
       "<p>509 rows × 1 columns</p>\n",
       "</div>"
      ],
      "text/plain": [
       "                 Close\n",
       "Date                  \n",
       "2022-01-03  399.926666\n",
       "2022-01-04  383.196655\n",
       "2022-01-05  362.706665\n",
       "2022-01-06  354.899994\n",
       "2022-01-07  342.320007\n",
       "...                ...\n",
       "2023-05-22  188.869995\n",
       "2023-05-23  185.770004\n",
       "2023-05-24  182.899994\n",
       "2023-05-25  184.470001\n",
       "2023-05-26  193.169998\n",
       "\n",
       "[509 rows x 1 columns]"
      ]
     },
     "execution_count": 7,
     "metadata": {},
     "output_type": "execute_result"
    }
   ],
   "source": [
    "data_2 = data_2.asfreq(\"D\", method='ffill')\n",
    "data_2"
   ]
  },
  {
   "cell_type": "code",
   "execution_count": 8,
   "id": "bf4a028a",
   "metadata": {},
   "outputs": [
    {
     "data": {
      "text/plain": [
       "<Axes: xlabel='Date'>"
      ]
     },
     "execution_count": 8,
     "metadata": {},
     "output_type": "execute_result"
    },
    {
     "data": {
      "image/png": "[encoded data removed]",
      "text/plain": [
       "<Figure size 432x288 with 1 Axes>"
      ]
     },
     "metadata": {
      "needs_background": "light"
     },
     "output_type": "display_data"
    }
   ],
   "source": [
    "data_2.plot()"
   ]
  },
  {
   "cell_type": "code",
   "execution_count": 9,
   "id": "df373e65",
   "metadata": {},
   "outputs": [
    {
     "data": {
      "text/plain": [
       "(0.40731484645789706, True)"
      ]
     },
     "execution_count": 9,
     "metadata": {},
     "output_type": "execute_result"
    }
   ],
   "source": [
    "# Testing for stationarity\n",
    "adf_test = ADFTest(alpha = 0.05)\n",
    "adf_test.should_diff(data_2)"
   ]
  },
  {
   "cell_type": "code",
   "execution_count": 10,
   "id": "af09663a",
   "metadata": {},
   "outputs": [],
   "source": [
    "# Spliting the dataset into train and test\n",
    "train, test = data_2[:int(len(data_2)*0.9)].copy(), data_2[int(len(data_2)*0.9):].copy()"
   ]
  },
  {
   "cell_type": "code",
   "execution_count": 11,
   "id": "e5359dfa",
   "metadata": {},
   "outputs": [
    {
     "data": {
      "text/plain": [
       "51"
      ]
     },
     "execution_count": 11,
     "metadata": {},
     "output_type": "execute_result"
    }
   ],
   "source": [
    "len(test)"
   ]
  },
  {
   "cell_type": "code",
   "execution_count": 12,
   "id": "39ef46b2",
   "metadata": {},
   "outputs": [
    {
     "data": {
      "text/html": [
       "<div>\n",
       "<style scoped>\n",
       "    .dataframe tbody tr th:only-of-type {\n",
       "        vertical-align: middle;\n",
       "    }\n",
       "\n",
       "    .dataframe tbody tr th {\n",
       "        vertical-align: top;\n",
       "    }\n",
       "\n",
       "    .dataframe thead th {\n",
       "        text-align: right;\n",
       "    }\n",
       "</style>\n",
       "<table border=\"1\" class=\"dataframe\">\n",
       "  <thead>\n",
       "    <tr style=\"text-align: right;\">\n",
       "      <th></th>\n",
       "      <th>Close</th>\n",
       "    </tr>\n",
       "    <tr>\n",
       "      <th>Date</th>\n",
       "      <th></th>\n",
       "    </tr>\n",
       "  </thead>\n",
       "  <tbody>\n",
       "    <tr>\n",
       "      <th>2023-04-01</th>\n",
       "      <td>207.460007</td>\n",
       "    </tr>\n",
       "    <tr>\n",
       "      <th>2023-04-02</th>\n",
       "      <td>207.460007</td>\n",
       "    </tr>\n",
       "    <tr>\n",
       "      <th>2023-04-03</th>\n",
       "      <td>194.770004</td>\n",
       "    </tr>\n",
       "    <tr>\n",
       "      <th>2023-04-04</th>\n",
       "      <td>192.580002</td>\n",
       "    </tr>\n",
       "    <tr>\n",
       "      <th>2023-04-05</th>\n",
       "      <td>185.520004</td>\n",
       "    </tr>\n",
       "  </tbody>\n",
       "</table>\n",
       "</div>"
      ],
      "text/plain": [
       "                 Close\n",
       "Date                  \n",
       "2023-04-01  207.460007\n",
       "2023-04-02  207.460007\n",
       "2023-04-03  194.770004\n",
       "2023-04-04  192.580002\n",
       "2023-04-05  185.520004"
      ]
     },
     "execution_count": 12,
     "metadata": {},
     "output_type": "execute_result"
    }
   ],
   "source": [
    "train.tail()"
   ]
  },
  {
   "cell_type": "code",
   "execution_count": 13,
   "id": "f780e4dc",
   "metadata": {},
   "outputs": [
    {
     "data": {
      "text/html": [
       "<div>\n",
       "<style scoped>\n",
       "    .dataframe tbody tr th:only-of-type {\n",
       "        vertical-align: middle;\n",
       "    }\n",
       "\n",
       "    .dataframe tbody tr th {\n",
       "        vertical-align: top;\n",
       "    }\n",
       "\n",
       "    .dataframe thead th {\n",
       "        text-align: right;\n",
       "    }\n",
       "</style>\n",
       "<table border=\"1\" class=\"dataframe\">\n",
       "  <thead>\n",
       "    <tr style=\"text-align: right;\">\n",
       "      <th></th>\n",
       "      <th>Close</th>\n",
       "    </tr>\n",
       "    <tr>\n",
       "      <th>Date</th>\n",
       "      <th></th>\n",
       "    </tr>\n",
       "  </thead>\n",
       "  <tbody>\n",
       "    <tr>\n",
       "      <th>2023-04-06</th>\n",
       "      <td>185.059998</td>\n",
       "    </tr>\n",
       "    <tr>\n",
       "      <th>2023-04-07</th>\n",
       "      <td>185.059998</td>\n",
       "    </tr>\n",
       "    <tr>\n",
       "      <th>2023-04-08</th>\n",
       "      <td>185.059998</td>\n",
       "    </tr>\n",
       "    <tr>\n",
       "      <th>2023-04-09</th>\n",
       "      <td>185.059998</td>\n",
       "    </tr>\n",
       "    <tr>\n",
       "      <th>2023-04-10</th>\n",
       "      <td>184.509995</td>\n",
       "    </tr>\n",
       "  </tbody>\n",
       "</table>\n",
       "</div>"
      ],
      "text/plain": [
       "                 Close\n",
       "Date                  \n",
       "2023-04-06  185.059998\n",
       "2023-04-07  185.059998\n",
       "2023-04-08  185.059998\n",
       "2023-04-09  185.059998\n",
       "2023-04-10  184.509995"
      ]
     },
     "execution_count": 13,
     "metadata": {},
     "output_type": "execute_result"
    }
   ],
   "source": [
    "test.head()"
   ]
  },
  {
   "cell_type": "code",
   "execution_count": 14,
   "id": "1466abff",
   "metadata": {},
   "outputs": [
    {
     "data": {
      "text/plain": [
       "[<matplotlib.lines.Line2D at 0x2800a5190>]"
      ]
     },
     "execution_count": 14,
     "metadata": {},
     "output_type": "execute_result"
    },
    {
     "data": {
      "image/png": "[encoded data removed]",
      "text/plain": [
       "<Figure size 504x216 with 1 Axes>"
      ]
     },
     "metadata": {
      "needs_background": "light"
     },
     "output_type": "display_data"
    }
   ],
   "source": [
    "plt.figure(figsize=(7,3))\n",
    "# plt.figure()\n",
    "plt.plot(train)\n",
    "plt.plot(test)\n",
    "# plt.savefig('/Users/jennyhuang/Documents/jobs/DBC-AI-Launch/project1-StockPrediction/train-test')"
   ]
  },
  {
   "cell_type": "code",
   "execution_count": 15,
   "id": "9bf67338",
   "metadata": {},
   "outputs": [
    {
     "name": "stdout",
     "output_type": "stream",
     "text": [
      "Performing stepwise search to minimize aic\n",
      " ARIMA(0,1,0)(0,1,0)[12]             : AIC=3449.852, Time=0.01 sec\n",
      " ARIMA(1,1,0)(1,1,0)[12]             : AIC=3335.302, Time=0.28 sec\n",
      " ARIMA(0,1,1)(0,1,1)[12]             : AIC=inf, Time=0.70 sec\n",
      " ARIMA(1,1,0)(0,1,0)[12]             : AIC=3446.115, Time=0.04 sec\n",
      " ARIMA(1,1,0)(2,1,0)[12]             : AIC=3281.331, Time=0.33 sec\n",
      " ARIMA(1,1,0)(3,1,0)[12]             : AIC=3258.856, Time=0.72 sec\n",
      " ARIMA(1,1,0)(4,1,0)[12]             : AIC=3258.470, Time=1.38 sec\n",
      " ARIMA(1,1,0)(5,1,0)[12]             : AIC=3248.441, Time=2.98 sec\n",
      " ARIMA(1,1,0)(5,1,1)[12]             : AIC=inf, Time=33.49 sec\n",
      " ARIMA(1,1,0)(4,1,1)[12]             : AIC=inf, Time=12.86 sec\n",
      " ARIMA(0,1,0)(5,1,0)[12]             : AIC=3247.167, Time=2.29 sec\n",
      " ARIMA(0,1,0)(4,1,0)[12]             : AIC=3257.651, Time=1.03 sec\n",
      " ARIMA(0,1,0)(5,1,1)[12]             : AIC=inf, Time=21.51 sec\n",
      " ARIMA(0,1,0)(4,1,1)[12]             : AIC=inf, Time=11.39 sec\n",
      " ARIMA(0,1,1)(5,1,0)[12]             : AIC=3248.530, Time=2.64 sec\n",
      " ARIMA(1,1,1)(5,1,0)[12]             : AIC=3245.840, Time=5.83 sec\n",
      " ARIMA(1,1,1)(4,1,0)[12]             : AIC=3256.916, Time=2.72 sec\n",
      " ARIMA(1,1,1)(5,1,1)[12]             : AIC=inf, Time=32.99 sec\n",
      " ARIMA(1,1,1)(4,1,1)[12]             : AIC=inf, Time=14.50 sec\n",
      " ARIMA(2,1,1)(5,1,0)[12]             : AIC=3246.822, Time=10.45 sec\n",
      " ARIMA(1,1,2)(5,1,0)[12]             : AIC=3246.772, Time=6.76 sec\n",
      " ARIMA(0,1,2)(5,1,0)[12]             : AIC=3248.531, Time=4.47 sec\n",
      " ARIMA(2,1,0)(5,1,0)[12]             : AIC=3248.275, Time=4.99 sec\n",
      " ARIMA(2,1,2)(5,1,0)[12]             : AIC=3248.057, Time=20.30 sec\n",
      " ARIMA(1,1,1)(5,1,0)[12] intercept   : AIC=3247.515, Time=24.62 sec\n",
      "\n",
      "Best model:  ARIMA(1,1,1)(5,1,0)[12]          \n",
      "Total fit time: 219.302 seconds\n"
     ]
    }
   ],
   "source": [
    "arima_model =  auto_arima(train,start_p=0, d=1, start_q=0, \n",
    "                          max_p=5, max_d=5, max_q=5, start_P=0, \n",
    "                          D=1, start_Q=0, max_P=5, max_D=5,\n",
    "                          max_Q=5, m=12, seasonal=True, \n",
    "                          error_action='warn',trace = True,\n",
    "                          supress_warnings=True,stepwise = True,\n",
    "                          random_state=20,n_fits = 50 )"
   ]
  },
  {
   "cell_type": "code",
   "execution_count": 16,
   "id": "efaea098",
   "metadata": {},
   "outputs": [],
   "source": [
    "par_map = arima_model.get_params()\n",
    "a, b, c = par_map['order'][0], par_map['order'][1], par_map['order'][2]"
   ]
  },
  {
   "cell_type": "code",
   "execution_count": 17,
   "id": "5784619d",
   "metadata": {},
   "outputs": [
    {
     "name": "stdout",
     "output_type": "stream",
     "text": [
      "                               SARIMAX Results                                \n",
      "==============================================================================\n",
      "Dep. Variable:                  Close   No. Observations:                  458\n",
      "Model:                 ARIMA(1, 1, 1)   Log Likelihood               -1621.270\n",
      "Date:                Mon, 19 Jun 2023   AIC                           3248.540\n",
      "Time:                        20:55:05   BIC                           3260.914\n",
      "Sample:                    01-03-2022   HQIC                          3253.413\n",
      "                         - 04-05-2023                                         \n",
      "Covariance Type:                  opg                                         \n",
      "==============================================================================\n",
      "                 coef    std err          z      P>|z|      [0.025      0.975]\n",
      "------------------------------------------------------------------------------\n",
      "ar.L1         -0.8305      0.164     -5.064      0.000      -1.152      -0.509\n",
      "ma.L1          0.7812      0.186      4.191      0.000       0.416       1.147\n",
      "sigma2        70.6215      3.134     22.536      0.000      64.480      76.763\n",
      "===================================================================================\n",
      "Ljung-Box (L1) (Q):                   0.05   Jarque-Bera (JB):               137.25\n",
      "Prob(Q):                              0.82   Prob(JB):                         0.00\n",
      "Heteroskedasticity (H):               0.31   Skew:                            -0.40\n",
      "Prob(H) (two-sided):                  0.00   Kurtosis:                         5.56\n",
      "===================================================================================\n",
      "\n",
      "Warnings:\n",
      "[1] Covariance matrix calculated using the outer product of gradients (complex-step).\n"
     ]
    }
   ],
   "source": [
    "# check the Best model: ARIMA(1,1,1)(5,1,0)[12]\n",
    "model = sm.tsa.arima.ARIMA(train, order=(a, b, c))\n",
    "fitted = model.fit()\n",
    "print(fitted.summary())"
   ]
  },
  {
   "cell_type": "code",
   "execution_count": 18,
   "id": "0cc021af",
   "metadata": {},
   "outputs": [
    {
     "data": {
      "text/html": [
       "<table class=\"simpletable\">\n",
       "<caption>SARIMAX Results</caption>\n",
       "<tr>\n",
       "  <th>Dep. Variable:</th>                  <td>y</td>                <th>  No. Observations:  </th>    <td>458</td>   \n",
       "</tr>\n",
       "<tr>\n",
       "  <th>Model:</th>           <td>SARIMAX(1, 1, 1)x(5, 1, [], 12)</td> <th>  Log Likelihood     </th> <td>-1614.920</td>\n",
       "</tr>\n",
       "<tr>\n",
       "  <th>Date:</th>                   <td>Mon, 19 Jun 2023</td>         <th>  AIC                </th> <td>3245.840</td> \n",
       "</tr>\n",
       "<tr>\n",
       "  <th>Time:</th>                       <td>20:55:05</td>             <th>  BIC                </th> <td>3278.625</td> \n",
       "</tr>\n",
       "<tr>\n",
       "  <th>Sample:</th>                    <td>01-03-2022</td>            <th>  HQIC               </th> <td>3258.767</td> \n",
       "</tr>\n",
       "<tr>\n",
       "  <th></th>                          <td>- 04-05-2023</td>           <th>                     </th>     <td> </td>    \n",
       "</tr>\n",
       "<tr>\n",
       "  <th>Covariance Type:</th>               <td>opg</td>               <th>                     </th>     <td> </td>    \n",
       "</tr>\n",
       "</table>\n",
       "<table class=\"simpletable\">\n",
       "<tr>\n",
       "      <td></td>        <th>coef</th>     <th>std err</th>      <th>z</th>      <th>P>|z|</th>  <th>[0.025</th>    <th>0.975]</th>  \n",
       "</tr>\n",
       "<tr>\n",
       "  <th>ar.L1</th>    <td>   -0.8328</td> <td>    0.159</td> <td>   -5.246</td> <td> 0.000</td> <td>   -1.144</td> <td>   -0.522</td>\n",
       "</tr>\n",
       "<tr>\n",
       "  <th>ma.L1</th>    <td>    0.7714</td> <td>    0.179</td> <td>    4.316</td> <td> 0.000</td> <td>    0.421</td> <td>    1.122</td>\n",
       "</tr>\n",
       "<tr>\n",
       "  <th>ar.S.L12</th> <td>   -0.7818</td> <td>    0.050</td> <td>  -15.485</td> <td> 0.000</td> <td>   -0.881</td> <td>   -0.683</td>\n",
       "</tr>\n",
       "<tr>\n",
       "  <th>ar.S.L24</th> <td>   -0.6304</td> <td>    0.062</td> <td>  -10.102</td> <td> 0.000</td> <td>   -0.753</td> <td>   -0.508</td>\n",
       "</tr>\n",
       "<tr>\n",
       "  <th>ar.S.L36</th> <td>   -0.4151</td> <td>    0.067</td> <td>   -6.207</td> <td> 0.000</td> <td>   -0.546</td> <td>   -0.284</td>\n",
       "</tr>\n",
       "<tr>\n",
       "  <th>ar.S.L48</th> <td>   -0.2270</td> <td>    0.065</td> <td>   -3.475</td> <td> 0.001</td> <td>   -0.355</td> <td>   -0.099</td>\n",
       "</tr>\n",
       "<tr>\n",
       "  <th>ar.S.L60</th> <td>   -0.1851</td> <td>    0.052</td> <td>   -3.572</td> <td> 0.000</td> <td>   -0.287</td> <td>   -0.084</td>\n",
       "</tr>\n",
       "<tr>\n",
       "  <th>sigma2</th>   <td>   81.0485</td> <td>    3.973</td> <td>   20.401</td> <td> 0.000</td> <td>   73.262</td> <td>   88.835</td>\n",
       "</tr>\n",
       "</table>\n",
       "<table class=\"simpletable\">\n",
       "<tr>\n",
       "  <th>Ljung-Box (L1) (Q):</th>     <td>0.51</td> <th>  Jarque-Bera (JB):  </th> <td>84.24</td>\n",
       "</tr>\n",
       "<tr>\n",
       "  <th>Prob(Q):</th>                <td>0.47</td> <th>  Prob(JB):          </th> <td>0.00</td> \n",
       "</tr>\n",
       "<tr>\n",
       "  <th>Heteroskedasticity (H):</th> <td>0.35</td> <th>  Skew:              </th> <td>-0.14</td>\n",
       "</tr>\n",
       "<tr>\n",
       "  <th>Prob(H) (two-sided):</th>    <td>0.00</td> <th>  Kurtosis:          </th> <td>5.11</td> \n",
       "</tr>\n",
       "</table><br/><br/>Warnings:<br/>[1] Covariance matrix calculated using the outer product of gradients (complex-step)."
      ],
      "text/latex": [
       "\\begin{center}\n",
       "\\begin{tabular}{lclc}\n",
       "\\toprule\n",
       "\\textbf{Dep. Variable:}          &                y                & \\textbf{  No. Observations:  } &    458      \\\\\n",
       "\\textbf{Model:}                  & SARIMAX(1, 1, 1)x(5, 1, [], 12) & \\textbf{  Log Likelihood     } & -1614.920   \\\\\n",
       "\\textbf{Date:}                   &         Mon, 19 Jun 2023        & \\textbf{  AIC                } &  3245.840   \\\\\n",
       "\\textbf{Time:}                   &             20:55:05            & \\textbf{  BIC                } &  3278.625   \\\\\n",
       "\\textbf{Sample:}                 &            01-03-2022           & \\textbf{  HQIC               } &  3258.767   \\\\\n",
       "\\textbf{}                        &           - 04-05-2023          & \\textbf{                     } &             \\\\\n",
       "\\textbf{Covariance Type:}        &               opg               & \\textbf{                     } &             \\\\\n",
       "\\bottomrule\n",
       "\\end{tabular}\n",
       "\\begin{tabular}{lcccccc}\n",
       "                  & \\textbf{coef} & \\textbf{std err} & \\textbf{z} & \\textbf{P$> |$z$|$} & \\textbf{[0.025} & \\textbf{0.975]}  \\\\\n",
       "\\midrule\n",
       "\\textbf{ar.L1}    &      -0.8328  &        0.159     &    -5.246  &         0.000        &       -1.144    &       -0.522     \\\\\n",
       "\\textbf{ma.L1}    &       0.7714  &        0.179     &     4.316  &         0.000        &        0.421    &        1.122     \\\\\n",
       "\\textbf{ar.S.L12} &      -0.7818  &        0.050     &   -15.485  &         0.000        &       -0.881    &       -0.683     \\\\\n",
       "\\textbf{ar.S.L24} &      -0.6304  &        0.062     &   -10.102  &         0.000        &       -0.753    &       -0.508     \\\\\n",
       "\\textbf{ar.S.L36} &      -0.4151  &        0.067     &    -6.207  &         0.000        &       -0.546    &       -0.284     \\\\\n",
       "\\textbf{ar.S.L48} &      -0.2270  &        0.065     &    -3.475  &         0.001        &       -0.355    &       -0.099     \\\\\n",
       "\\textbf{ar.S.L60} &      -0.1851  &        0.052     &    -3.572  &         0.000        &       -0.287    &       -0.084     \\\\\n",
       "\\textbf{sigma2}   &      81.0485  &        3.973     &    20.401  &         0.000        &       73.262    &       88.835     \\\\\n",
       "\\bottomrule\n",
       "\\end{tabular}\n",
       "\\begin{tabular}{lclc}\n",
       "\\textbf{Ljung-Box (L1) (Q):}     & 0.51 & \\textbf{  Jarque-Bera (JB):  } & 84.24  \\\\\n",
       "\\textbf{Prob(Q):}                & 0.47 & \\textbf{  Prob(JB):          } &  0.00  \\\\\n",
       "\\textbf{Heteroskedasticity (H):} & 0.35 & \\textbf{  Skew:              } & -0.14  \\\\\n",
       "\\textbf{Prob(H) (two-sided):}    & 0.00 & \\textbf{  Kurtosis:          } &  5.11  \\\\\n",
       "\\bottomrule\n",
       "\\end{tabular}\n",
       "%\\caption{SARIMAX Results}\n",
       "\\end{center}\n",
       "\n",
       "Warnings: \\newline\n",
       " [1] Covariance matrix calculated using the outer product of gradients (complex-step)."
      ],
      "text/plain": [
       "<class 'statsmodels.iolib.summary.Summary'>\n",
       "\"\"\"\n",
       "                                      SARIMAX Results                                      \n",
       "===========================================================================================\n",
       "Dep. Variable:                                   y   No. Observations:                  458\n",
       "Model:             SARIMAX(1, 1, 1)x(5, 1, [], 12)   Log Likelihood               -1614.920\n",
       "Date:                             Mon, 19 Jun 2023   AIC                           3245.840\n",
       "Time:                                     20:55:05   BIC                           3278.625\n",
       "Sample:                                 01-03-2022   HQIC                          3258.767\n",
       "                                      - 04-05-2023                                         \n",
       "Covariance Type:                               opg                                         \n",
       "==============================================================================\n",
       "                 coef    std err          z      P>|z|      [0.025      0.975]\n",
       "------------------------------------------------------------------------------\n",
       "ar.L1         -0.8328      0.159     -5.246      0.000      -1.144      -0.522\n",
       "ma.L1          0.7714      0.179      4.316      0.000       0.421       1.122\n",
       "ar.S.L12      -0.7818      0.050    -15.485      0.000      -0.881      -0.683\n",
       "ar.S.L24      -0.6304      0.062    -10.102      0.000      -0.753      -0.508\n",
       "ar.S.L36      -0.4151      0.067     -6.207      0.000      -0.546      -0.284\n",
       "ar.S.L48      -0.2270      0.065     -3.475      0.001      -0.355      -0.099\n",
       "ar.S.L60      -0.1851      0.052     -3.572      0.000      -0.287      -0.084\n",
       "sigma2        81.0485      3.973     20.401      0.000      73.262      88.835\n",
       "===================================================================================\n",
       "Ljung-Box (L1) (Q):                   0.51   Jarque-Bera (JB):                84.24\n",
       "Prob(Q):                              0.47   Prob(JB):                         0.00\n",
       "Heteroskedasticity (H):               0.35   Skew:                            -0.14\n",
       "Prob(H) (two-sided):                  0.00   Kurtosis:                         5.11\n",
       "===================================================================================\n",
       "\n",
       "Warnings:\n",
       "[1] Covariance matrix calculated using the outer product of gradients (complex-step).\n",
       "\"\"\""
      ]
     },
     "execution_count": 18,
     "metadata": {},
     "output_type": "execute_result"
    }
   ],
   "source": [
    "# Summary of the model\n",
    "arima_model.summary()"
   ]
  },
  {
   "cell_type": "code",
   "execution_count": 19,
   "id": "830d38e7",
   "metadata": {},
   "outputs": [
    {
     "data": {
      "text/html": [
       "<div>\n",
       "<style scoped>\n",
       "    .dataframe tbody tr th:only-of-type {\n",
       "        vertical-align: middle;\n",
       "    }\n",
       "\n",
       "    .dataframe tbody tr th {\n",
       "        vertical-align: top;\n",
       "    }\n",
       "\n",
       "    .dataframe thead th {\n",
       "        text-align: right;\n",
       "    }\n",
       "</style>\n",
       "<table border=\"1\" class=\"dataframe\">\n",
       "  <thead>\n",
       "    <tr style=\"text-align: right;\">\n",
       "      <th></th>\n",
       "      <th>predicted_price</th>\n",
       "    </tr>\n",
       "    <tr>\n",
       "      <th>Date</th>\n",
       "      <th></th>\n",
       "    </tr>\n",
       "  </thead>\n",
       "  <tbody>\n",
       "    <tr>\n",
       "      <th>2023-05-22</th>\n",
       "      <td>191.634810</td>\n",
       "    </tr>\n",
       "    <tr>\n",
       "      <th>2023-05-23</th>\n",
       "      <td>188.171895</td>\n",
       "    </tr>\n",
       "    <tr>\n",
       "      <th>2023-05-24</th>\n",
       "      <td>189.029964</td>\n",
       "    </tr>\n",
       "    <tr>\n",
       "      <th>2023-05-25</th>\n",
       "      <td>190.082654</td>\n",
       "    </tr>\n",
       "    <tr>\n",
       "      <th>2023-05-26</th>\n",
       "      <td>191.972595</td>\n",
       "    </tr>\n",
       "  </tbody>\n",
       "</table>\n",
       "</div>"
      ],
      "text/plain": [
       "            predicted_price\n",
       "Date                       \n",
       "2023-05-22       191.634810\n",
       "2023-05-23       188.171895\n",
       "2023-05-24       189.029964\n",
       "2023-05-25       190.082654\n",
       "2023-05-26       191.972595"
      ]
     },
     "execution_count": 19,
     "metadata": {},
     "output_type": "execute_result"
    }
   ],
   "source": [
    "prediction = pd.DataFrame(arima_model.predict(n_periods = 51),index=test.index)\n",
    "prediction.columns = ['predicted_price']\n",
    "prediction.tail()"
   ]
  },
  {
   "cell_type": "code",
   "execution_count": 20,
   "id": "3e6bbdd3",
   "metadata": {},
   "outputs": [
    {
     "data": {
      "text/plain": [
       "<matplotlib.legend.Legend at 0x289eb54f0>"
      ]
     },
     "execution_count": 20,
     "metadata": {},
     "output_type": "execute_result"
    },
    {
     "data": {
      "image/png": "[encoded data removed]",
      "text/plain": [
       "<Figure size 504x216 with 1 Axes>"
      ]
     },
     "metadata": {
      "needs_background": "light"
     },
     "output_type": "display_data"
    }
   ],
   "source": [
    "plt.figure(figsize=(7,3))\n",
    "plt.plot(train,label=\"Training\")\n",
    "plt.plot(test,label=\"Test\")\n",
    "plt.plot(prediction,label=\"Predicted\")\n",
    "plt.legend(loc = 'best')\n",
    "# plt.savefig('/Users/jennyhuang/Documents/jobs/DBC-AI-Launch/project1-StockPrediction/test/TimeSeries_Auto-ARIMA/prediction.png')"
   ]
  },
  {
   "cell_type": "code",
   "execution_count": 21,
   "id": "ef9154a3",
   "metadata": {},
   "outputs": [
    {
     "data": {
      "text/plain": [
       "-3.765485733338573"
      ]
     },
     "execution_count": 21,
     "metadata": {},
     "output_type": "execute_result"
    }
   ],
   "source": [
    "test['predicted_price'] = prediction\n",
    "r2_score(test['Close'], test['predicted_price'])"
   ]
  },
  {
   "cell_type": "code",
   "execution_count": 22,
   "id": "90a0f2e2",
   "metadata": {
    "scrolled": false
   },
   "outputs": [
    {
     "name": "stdout",
     "output_type": "stream",
     "text": [
      "\\begin{tabular}{lr}\n",
      "\\toprule\n",
      "{} &  predicted\\_price \\\\\n",
      "\\midrule\n",
      "2023-04-06 &       187.097413 \\\\\n",
      "2023-04-07 &       185.466159 \\\\\n",
      "2023-04-08 &       190.435496 \\\\\n",
      "2023-04-09 &       193.383077 \\\\\n",
      "2023-04-10 &       192.403380 \\\\\n",
      "2023-04-11 &       191.732201 \\\\\n",
      "2023-04-12 &       191.506402 \\\\\n",
      "\\bottomrule\n",
      "\\end{tabular}\n",
      "\n"
     ]
    },
    {
     "data": {
      "text/html": [
       "<div>\n",
       "<style scoped>\n",
       "    .dataframe tbody tr th:only-of-type {\n",
       "        vertical-align: middle;\n",
       "    }\n",
       "\n",
       "    .dataframe tbody tr th {\n",
       "        vertical-align: top;\n",
       "    }\n",
       "\n",
       "    .dataframe thead th {\n",
       "        text-align: right;\n",
       "    }\n",
       "</style>\n",
       "<table border=\"1\" class=\"dataframe\">\n",
       "  <thead>\n",
       "    <tr style=\"text-align: right;\">\n",
       "      <th></th>\n",
       "      <th>predicted_price</th>\n",
       "    </tr>\n",
       "  </thead>\n",
       "  <tbody>\n",
       "    <tr>\n",
       "      <th>2023-04-06</th>\n",
       "      <td>187.097413</td>\n",
       "    </tr>\n",
       "    <tr>\n",
       "      <th>2023-04-07</th>\n",
       "      <td>185.466159</td>\n",
       "    </tr>\n",
       "    <tr>\n",
       "      <th>2023-04-08</th>\n",
       "      <td>190.435496</td>\n",
       "    </tr>\n",
       "    <tr>\n",
       "      <th>2023-04-09</th>\n",
       "      <td>193.383077</td>\n",
       "    </tr>\n",
       "    <tr>\n",
       "      <th>2023-04-10</th>\n",
       "      <td>192.403380</td>\n",
       "    </tr>\n",
       "    <tr>\n",
       "      <th>2023-04-11</th>\n",
       "      <td>191.732201</td>\n",
       "    </tr>\n",
       "    <tr>\n",
       "      <th>2023-04-12</th>\n",
       "      <td>191.506402</td>\n",
       "    </tr>\n",
       "  </tbody>\n",
       "</table>\n",
       "</div>"
      ],
      "text/plain": [
       "            predicted_price\n",
       "2023-04-06       187.097413\n",
       "2023-04-07       185.466159\n",
       "2023-04-08       190.435496\n",
       "2023-04-09       193.383077\n",
       "2023-04-10       192.403380\n",
       "2023-04-11       191.732201\n",
       "2023-04-12       191.506402"
      ]
     },
     "execution_count": 22,
     "metadata": {},
     "output_type": "execute_result"
    }
   ],
   "source": [
    "prediction = pd.DataFrame(arima_model.predict(n_periods = 7))\n",
    "prediction.columns = ['predicted_price']\n",
    "print(prediction.to_latex())\n",
    "prediction"
   ]
  },
  {
   "cell_type": "code",
   "execution_count": 23,
   "id": "62267d47",
   "metadata": {},
   "outputs": [
    {
     "data": {
      "text/html": [
       "<div>\n",
       "<style scoped>\n",
       "    .dataframe tbody tr th:only-of-type {\n",
       "        vertical-align: middle;\n",
       "    }\n",
       "\n",
       "    .dataframe tbody tr th {\n",
       "        vertical-align: top;\n",
       "    }\n",
       "\n",
       "    .dataframe thead th {\n",
       "        text-align: right;\n",
       "    }\n",
       "</style>\n",
       "<table border=\"1\" class=\"dataframe\">\n",
       "  <thead>\n",
       "    <tr style=\"text-align: right;\">\n",
       "      <th></th>\n",
       "      <th>predicted_price</th>\n",
       "    </tr>\n",
       "  </thead>\n",
       "  <tbody>\n",
       "    <tr>\n",
       "      <th>2023-05-27</th>\n",
       "      <td>193.805098</td>\n",
       "    </tr>\n",
       "    <tr>\n",
       "      <th>2023-05-28</th>\n",
       "      <td>192.905234</td>\n",
       "    </tr>\n",
       "    <tr>\n",
       "      <th>2023-05-29</th>\n",
       "      <td>192.106004</td>\n",
       "    </tr>\n",
       "    <tr>\n",
       "      <th>2023-05-30</th>\n",
       "      <td>193.539095</td>\n",
       "    </tr>\n",
       "    <tr>\n",
       "      <th>2023-05-31</th>\n",
       "      <td>193.355452</td>\n",
       "    </tr>\n",
       "    <tr>\n",
       "      <th>2023-06-01</th>\n",
       "      <td>197.123319</td>\n",
       "    </tr>\n",
       "    <tr>\n",
       "      <th>2023-06-02</th>\n",
       "      <td>193.281356</td>\n",
       "    </tr>\n",
       "  </tbody>\n",
       "</table>\n",
       "</div>"
      ],
      "text/plain": [
       "            predicted_price\n",
       "2023-05-27       193.805098\n",
       "2023-05-28       192.905234\n",
       "2023-05-29       192.106004\n",
       "2023-05-30       193.539095\n",
       "2023-05-31       193.355452\n",
       "2023-06-01       197.123319\n",
       "2023-06-02       193.281356"
      ]
     },
     "execution_count": 23,
     "metadata": {},
     "output_type": "execute_result"
    }
   ],
   "source": [
    "# final result for future 7 days\n",
    "prediction = pd.DataFrame(arima_model.predict(n_periods = 58))\n",
    "prediction.columns = ['predicted_price']\n",
    "prediction.tail(7)"
   ]
  },
  {
   "cell_type": "code",
   "execution_count": 24,
   "id": "782dfbd8",
   "metadata": {},
   "outputs": [
    {
     "name": "stdout",
     "output_type": "stream",
     "text": [
      "The precentage of the future 7th day's price is higher than the prediction day is 0.06%\n"
     ]
    }
   ],
   "source": [
    "real = data.loc['2023-05-26', 'Close']\n",
    "pred = prediction.loc['2023-06-02', 'predicted_price']\n",
    "perc = (pred - real) / real * 100\n",
    "print(\"The precentage of the future 7th day's price is higher than the prediction day is {0:.2f}%\".format(perc))"
   ]
  },
  {
   "cell_type": "code",
   "execution_count": 25,
   "id": "4098bd35",
   "metadata": {},
   "outputs": [
    {
     "name": "stdout",
     "output_type": "stream",
     "text": [
      "Total running time is 3.83 min\n"
     ]
    }
   ],
   "source": [
    "toc = time.time()\n",
    "print(\"Total running time is {0:.2f} min\".format((toc - tic) / 60))"
   ]
  }
 ],
 "metadata": {
  "kernelspec": {
   "display_name": "Python 3 (ipykernel)",
   "language": "python",
   "name": "python3"
  },
  "language_info": {
   "codemirror_mode": {
    "name": "ipython",
    "version": 3
   },
   "file_extension": ".py",
   "mimetype": "text/x-python",
   "name": "python",
   "nbconvert_exporter": "python",
   "pygments_lexer": "ipython3",
   "version": "3.9.13"
  }
 },
 "nbformat": 4,
 "nbformat_minor": 5
}
