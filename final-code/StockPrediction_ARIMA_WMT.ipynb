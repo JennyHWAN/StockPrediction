{
 "cells": [
  {
   "cell_type": "code",
   "execution_count": 1,
   "id": "33c2e9b2",
   "metadata": {},
   "outputs": [],
   "source": [
    "# Importing necessary libraries\n",
    "import pandas as pd\n",
    "import numpy as np\n",
    "import matplotlib.pyplot as plt\n",
    "get_ipython().run_line_magic('matplotlib', 'inline')\n",
    "import warnings\n",
    "warnings.filterwarnings('ignore')\n",
    "import yfinance as yf\n",
    "from pandas_datareader import data as pdr\n",
    "from pmdarima.arima import auto_arima\n",
    "from pmdarima.arima import ADFTest\n",
    "import statsmodels.api as sm\n",
    "from sklearn.metrics import r2_score\n",
    "from fastai.tabular.all import add_datepart\n",
    "from sklearn.preprocessing import LabelEncoder\n",
    "from xgboost import XGBRegressor\n",
    "import math\n",
    "import time\n",
    "\n",
    "tic = time.time()"
   ]
  },
  {
   "cell_type": "code",
   "execution_count": 2,
   "id": "14897425",
   "metadata": {},
   "outputs": [
    {
     "name": "stdout",
     "output_type": "stream",
     "text": [
      "[*********************100%***********************]  1 of 1 completed\n"
     ]
    }
   ],
   "source": [
    "# read the stock data at the first run\n",
    "# to download the data, need the vpn\n",
    "# comment the following codes after the first run\n",
    "yf.pdr_override()\n",
    "data = pdr.get_data_yahoo(\"WMT\", start=\"2022-01-01\", end=\"2023-05-30\")\n",
    "data # there are 352 data in total using as training and validation data\n",
    "data.to_csv('/Users/jennyhuang/Documents/jobs/DBC-AI-Launch/project1-StockPrediction/WMT.csv')"
   ]
  },
  {
   "cell_type": "code",
   "execution_count": 3,
   "id": "cc990bba",
   "metadata": {},
   "outputs": [],
   "source": [
    "# # uncomment this block only after the first run\n",
    "# data = pd.read_csv('/Users/jennyhuang/Documents/jobs/DBC-AI-Launch/project1-StockPrediction/WMT.csv')\n",
    "# data['Date'] = pd.to_datetime(data['Date'])\n",
    "# data.set_index('Date', inplace=True)\n",
    "# data.info()"
   ]
  },
  {
   "cell_type": "code",
   "execution_count": 4,
   "id": "7167be4c",
   "metadata": {},
   "outputs": [
    {
     "name": "stdout",
     "output_type": "stream",
     "text": [
      "<class 'pandas.core.frame.DataFrame'>\n",
      "DatetimeIndex: 352 entries, 2022-01-03 to 2023-05-26\n",
      "Data columns (total 1 columns):\n",
      " #   Column  Non-Null Count  Dtype  \n",
      "---  ------  --------------  -----  \n",
      " 0   Close   352 non-null    float64\n",
      "dtypes: float64(1)\n",
      "memory usage: 5.5 KB\n"
     ]
    }
   ],
   "source": [
    "data_2 = pd.DataFrame({'Close':data['Close']})\n",
    "data_2.info()"
   ]
  },
  {
   "cell_type": "code",
   "execution_count": 5,
   "id": "062a6ce8",
   "metadata": {},
   "outputs": [
    {
     "data": {
      "text/html": [
       "<div>\n",
       "<style scoped>\n",
       "    .dataframe tbody tr th:only-of-type {\n",
       "        vertical-align: middle;\n",
       "    }\n",
       "\n",
       "    .dataframe tbody tr th {\n",
       "        vertical-align: top;\n",
       "    }\n",
       "\n",
       "    .dataframe thead th {\n",
       "        text-align: right;\n",
       "    }\n",
       "</style>\n",
       "<table border=\"1\" class=\"dataframe\">\n",
       "  <thead>\n",
       "    <tr style=\"text-align: right;\">\n",
       "      <th></th>\n",
       "      <th>Close</th>\n",
       "    </tr>\n",
       "    <tr>\n",
       "      <th>Date</th>\n",
       "      <th></th>\n",
       "    </tr>\n",
       "  </thead>\n",
       "  <tbody>\n",
       "    <tr>\n",
       "      <th>2022-01-03</th>\n",
       "      <td>144.649994</td>\n",
       "    </tr>\n",
       "    <tr>\n",
       "      <th>2022-01-04</th>\n",
       "      <td>142.000000</td>\n",
       "    </tr>\n",
       "    <tr>\n",
       "      <th>2022-01-05</th>\n",
       "      <td>143.919998</td>\n",
       "    </tr>\n",
       "    <tr>\n",
       "      <th>2022-01-06</th>\n",
       "      <td>143.520004</td>\n",
       "    </tr>\n",
       "    <tr>\n",
       "      <th>2022-01-07</th>\n",
       "      <td>144.889999</td>\n",
       "    </tr>\n",
       "    <tr>\n",
       "      <th>2022-01-08</th>\n",
       "      <td>NaN</td>\n",
       "    </tr>\n",
       "    <tr>\n",
       "      <th>2022-01-09</th>\n",
       "      <td>NaN</td>\n",
       "    </tr>\n",
       "    <tr>\n",
       "      <th>2022-01-10</th>\n",
       "      <td>144.610001</td>\n",
       "    </tr>\n",
       "    <tr>\n",
       "      <th>2022-01-11</th>\n",
       "      <td>144.199997</td>\n",
       "    </tr>\n",
       "    <tr>\n",
       "      <th>2022-01-12</th>\n",
       "      <td>143.440002</td>\n",
       "    </tr>\n",
       "    <tr>\n",
       "      <th>2022-01-13</th>\n",
       "      <td>145.470001</td>\n",
       "    </tr>\n",
       "    <tr>\n",
       "      <th>2022-01-14</th>\n",
       "      <td>145.059998</td>\n",
       "    </tr>\n",
       "    <tr>\n",
       "      <th>2022-01-15</th>\n",
       "      <td>NaN</td>\n",
       "    </tr>\n",
       "    <tr>\n",
       "      <th>2022-01-16</th>\n",
       "      <td>NaN</td>\n",
       "    </tr>\n",
       "    <tr>\n",
       "      <th>2022-01-17</th>\n",
       "      <td>NaN</td>\n",
       "    </tr>\n",
       "  </tbody>\n",
       "</table>\n",
       "</div>"
      ],
      "text/plain": [
       "                 Close\n",
       "Date                  \n",
       "2022-01-03  144.649994\n",
       "2022-01-04  142.000000\n",
       "2022-01-05  143.919998\n",
       "2022-01-06  143.520004\n",
       "2022-01-07  144.889999\n",
       "2022-01-08         NaN\n",
       "2022-01-09         NaN\n",
       "2022-01-10  144.610001\n",
       "2022-01-11  144.199997\n",
       "2022-01-12  143.440002\n",
       "2022-01-13  145.470001\n",
       "2022-01-14  145.059998\n",
       "2022-01-15         NaN\n",
       "2022-01-16         NaN\n",
       "2022-01-17         NaN"
      ]
     },
     "execution_count": 5,
     "metadata": {},
     "output_type": "execute_result"
    }
   ],
   "source": [
    "data_2.asfreq(\"D\")[:15]"
   ]
  },
  {
   "cell_type": "code",
   "execution_count": 6,
   "id": "61e1e8e1",
   "metadata": {},
   "outputs": [
    {
     "data": {
      "text/html": [
       "<div>\n",
       "<style scoped>\n",
       "    .dataframe tbody tr th:only-of-type {\n",
       "        vertical-align: middle;\n",
       "    }\n",
       "\n",
       "    .dataframe tbody tr th {\n",
       "        vertical-align: top;\n",
       "    }\n",
       "\n",
       "    .dataframe thead th {\n",
       "        text-align: right;\n",
       "    }\n",
       "</style>\n",
       "<table border=\"1\" class=\"dataframe\">\n",
       "  <thead>\n",
       "    <tr style=\"text-align: right;\">\n",
       "      <th></th>\n",
       "      <th>Close</th>\n",
       "    </tr>\n",
       "    <tr>\n",
       "      <th>Date</th>\n",
       "      <th></th>\n",
       "    </tr>\n",
       "  </thead>\n",
       "  <tbody>\n",
       "    <tr>\n",
       "      <th>2022-01-03</th>\n",
       "      <td>144.649994</td>\n",
       "    </tr>\n",
       "    <tr>\n",
       "      <th>2022-01-04</th>\n",
       "      <td>142.000000</td>\n",
       "    </tr>\n",
       "    <tr>\n",
       "      <th>2022-01-05</th>\n",
       "      <td>143.919998</td>\n",
       "    </tr>\n",
       "    <tr>\n",
       "      <th>2022-01-06</th>\n",
       "      <td>143.520004</td>\n",
       "    </tr>\n",
       "    <tr>\n",
       "      <th>2022-01-07</th>\n",
       "      <td>144.889999</td>\n",
       "    </tr>\n",
       "    <tr>\n",
       "      <th>2022-01-08</th>\n",
       "      <td>144.889999</td>\n",
       "    </tr>\n",
       "    <tr>\n",
       "      <th>2022-01-09</th>\n",
       "      <td>144.889999</td>\n",
       "    </tr>\n",
       "    <tr>\n",
       "      <th>2022-01-10</th>\n",
       "      <td>144.610001</td>\n",
       "    </tr>\n",
       "    <tr>\n",
       "      <th>2022-01-11</th>\n",
       "      <td>144.199997</td>\n",
       "    </tr>\n",
       "    <tr>\n",
       "      <th>2022-01-12</th>\n",
       "      <td>143.440002</td>\n",
       "    </tr>\n",
       "    <tr>\n",
       "      <th>2022-01-13</th>\n",
       "      <td>145.470001</td>\n",
       "    </tr>\n",
       "    <tr>\n",
       "      <th>2022-01-14</th>\n",
       "      <td>145.059998</td>\n",
       "    </tr>\n",
       "    <tr>\n",
       "      <th>2022-01-15</th>\n",
       "      <td>145.059998</td>\n",
       "    </tr>\n",
       "    <tr>\n",
       "      <th>2022-01-16</th>\n",
       "      <td>145.059998</td>\n",
       "    </tr>\n",
       "    <tr>\n",
       "      <th>2022-01-17</th>\n",
       "      <td>145.059998</td>\n",
       "    </tr>\n",
       "  </tbody>\n",
       "</table>\n",
       "</div>"
      ],
      "text/plain": [
       "                 Close\n",
       "Date                  \n",
       "2022-01-03  144.649994\n",
       "2022-01-04  142.000000\n",
       "2022-01-05  143.919998\n",
       "2022-01-06  143.520004\n",
       "2022-01-07  144.889999\n",
       "2022-01-08  144.889999\n",
       "2022-01-09  144.889999\n",
       "2022-01-10  144.610001\n",
       "2022-01-11  144.199997\n",
       "2022-01-12  143.440002\n",
       "2022-01-13  145.470001\n",
       "2022-01-14  145.059998\n",
       "2022-01-15  145.059998\n",
       "2022-01-16  145.059998\n",
       "2022-01-17  145.059998"
      ]
     },
     "execution_count": 6,
     "metadata": {},
     "output_type": "execute_result"
    }
   ],
   "source": [
    "data_2.asfreq(\"D\", method=\"ffill\")[:15]"
   ]
  },
  {
   "cell_type": "code",
   "execution_count": 7,
   "id": "683eca1a",
   "metadata": {},
   "outputs": [
    {
     "data": {
      "text/html": [
       "<div>\n",
       "<style scoped>\n",
       "    .dataframe tbody tr th:only-of-type {\n",
       "        vertical-align: middle;\n",
       "    }\n",
       "\n",
       "    .dataframe tbody tr th {\n",
       "        vertical-align: top;\n",
       "    }\n",
       "\n",
       "    .dataframe thead th {\n",
       "        text-align: right;\n",
       "    }\n",
       "</style>\n",
       "<table border=\"1\" class=\"dataframe\">\n",
       "  <thead>\n",
       "    <tr style=\"text-align: right;\">\n",
       "      <th></th>\n",
       "      <th>Close</th>\n",
       "    </tr>\n",
       "    <tr>\n",
       "      <th>Date</th>\n",
       "      <th></th>\n",
       "    </tr>\n",
       "  </thead>\n",
       "  <tbody>\n",
       "    <tr>\n",
       "      <th>2022-01-03</th>\n",
       "      <td>144.649994</td>\n",
       "    </tr>\n",
       "    <tr>\n",
       "      <th>2022-01-04</th>\n",
       "      <td>142.000000</td>\n",
       "    </tr>\n",
       "    <tr>\n",
       "      <th>2022-01-05</th>\n",
       "      <td>143.919998</td>\n",
       "    </tr>\n",
       "    <tr>\n",
       "      <th>2022-01-06</th>\n",
       "      <td>143.520004</td>\n",
       "    </tr>\n",
       "    <tr>\n",
       "      <th>2022-01-07</th>\n",
       "      <td>144.889999</td>\n",
       "    </tr>\n",
       "    <tr>\n",
       "      <th>...</th>\n",
       "      <td>...</td>\n",
       "    </tr>\n",
       "    <tr>\n",
       "      <th>2023-05-22</th>\n",
       "      <td>148.589996</td>\n",
       "    </tr>\n",
       "    <tr>\n",
       "      <th>2023-05-23</th>\n",
       "      <td>148.309998</td>\n",
       "    </tr>\n",
       "    <tr>\n",
       "      <th>2023-05-24</th>\n",
       "      <td>147.630005</td>\n",
       "    </tr>\n",
       "    <tr>\n",
       "      <th>2023-05-25</th>\n",
       "      <td>146.160004</td>\n",
       "    </tr>\n",
       "    <tr>\n",
       "      <th>2023-05-26</th>\n",
       "      <td>146.419998</td>\n",
       "    </tr>\n",
       "  </tbody>\n",
       "</table>\n",
       "<p>509 rows × 1 columns</p>\n",
       "</div>"
      ],
      "text/plain": [
       "                 Close\n",
       "Date                  \n",
       "2022-01-03  144.649994\n",
       "2022-01-04  142.000000\n",
       "2022-01-05  143.919998\n",
       "2022-01-06  143.520004\n",
       "2022-01-07  144.889999\n",
       "...                ...\n",
       "2023-05-22  148.589996\n",
       "2023-05-23  148.309998\n",
       "2023-05-24  147.630005\n",
       "2023-05-25  146.160004\n",
       "2023-05-26  146.419998\n",
       "\n",
       "[509 rows x 1 columns]"
      ]
     },
     "execution_count": 7,
     "metadata": {},
     "output_type": "execute_result"
    }
   ],
   "source": [
    "data_2 = data_2.asfreq(\"D\", method='ffill')\n",
    "data_2"
   ]
  },
  {
   "cell_type": "code",
   "execution_count": 8,
   "id": "bf4a028a",
   "metadata": {},
   "outputs": [
    {
     "data": {
      "text/plain": [
       "<Axes: xlabel='Date'>"
      ]
     },
     "execution_count": 8,
     "metadata": {},
     "output_type": "execute_result"
    },
    {
     "data": {
      "image/png": "[encoded data removed]",
      "text/plain": [
       "<Figure size 432x288 with 1 Axes>"
      ]
     },
     "metadata": {
      "needs_background": "light"
     },
     "output_type": "display_data"
    }
   ],
   "source": [
    "data_2.plot()"
   ]
  },
  {
   "cell_type": "code",
   "execution_count": 9,
   "id": "df373e65",
   "metadata": {},
   "outputs": [
    {
     "data": {
      "text/plain": [
       "(0.4047493869643195, True)"
      ]
     },
     "execution_count": 9,
     "metadata": {},
     "output_type": "execute_result"
    }
   ],
   "source": [
    "# Testing for stationarity\n",
    "adf_test = ADFTest(alpha = 0.05)\n",
    "adf_test.should_diff(data_2)"
   ]
  },
  {
   "cell_type": "code",
   "execution_count": 10,
   "id": "af09663a",
   "metadata": {},
   "outputs": [],
   "source": [
    "# Spliting the dataset into train and test\n",
    "train, test = data_2[:int(len(data_2)*0.9)].copy(), data_2[int(len(data_2)*0.9):].copy()"
   ]
  },
  {
   "cell_type": "code",
   "execution_count": 11,
   "id": "e5359dfa",
   "metadata": {},
   "outputs": [
    {
     "data": {
      "text/plain": [
       "51"
      ]
     },
     "execution_count": 11,
     "metadata": {},
     "output_type": "execute_result"
    }
   ],
   "source": [
    "len(test)"
   ]
  },
  {
   "cell_type": "code",
   "execution_count": 12,
   "id": "39ef46b2",
   "metadata": {},
   "outputs": [
    {
     "data": {
      "text/html": [
       "<div>\n",
       "<style scoped>\n",
       "    .dataframe tbody tr th:only-of-type {\n",
       "        vertical-align: middle;\n",
       "    }\n",
       "\n",
       "    .dataframe tbody tr th {\n",
       "        vertical-align: top;\n",
       "    }\n",
       "\n",
       "    .dataframe thead th {\n",
       "        text-align: right;\n",
       "    }\n",
       "</style>\n",
       "<table border=\"1\" class=\"dataframe\">\n",
       "  <thead>\n",
       "    <tr style=\"text-align: right;\">\n",
       "      <th></th>\n",
       "      <th>Close</th>\n",
       "    </tr>\n",
       "    <tr>\n",
       "      <th>Date</th>\n",
       "      <th></th>\n",
       "    </tr>\n",
       "  </thead>\n",
       "  <tbody>\n",
       "    <tr>\n",
       "      <th>2023-04-01</th>\n",
       "      <td>147.449997</td>\n",
       "    </tr>\n",
       "    <tr>\n",
       "      <th>2023-04-02</th>\n",
       "      <td>147.449997</td>\n",
       "    </tr>\n",
       "    <tr>\n",
       "      <th>2023-04-03</th>\n",
       "      <td>148.690002</td>\n",
       "    </tr>\n",
       "    <tr>\n",
       "      <th>2023-04-04</th>\n",
       "      <td>147.229996</td>\n",
       "    </tr>\n",
       "    <tr>\n",
       "      <th>2023-04-05</th>\n",
       "      <td>149.669998</td>\n",
       "    </tr>\n",
       "  </tbody>\n",
       "</table>\n",
       "</div>"
      ],
      "text/plain": [
       "                 Close\n",
       "Date                  \n",
       "2023-04-01  147.449997\n",
       "2023-04-02  147.449997\n",
       "2023-04-03  148.690002\n",
       "2023-04-04  147.229996\n",
       "2023-04-05  149.669998"
      ]
     },
     "execution_count": 12,
     "metadata": {},
     "output_type": "execute_result"
    }
   ],
   "source": [
    "train.tail()"
   ]
  },
  {
   "cell_type": "code",
   "execution_count": 13,
   "id": "f780e4dc",
   "metadata": {},
   "outputs": [
    {
     "data": {
      "text/html": [
       "<div>\n",
       "<style scoped>\n",
       "    .dataframe tbody tr th:only-of-type {\n",
       "        vertical-align: middle;\n",
       "    }\n",
       "\n",
       "    .dataframe tbody tr th {\n",
       "        vertical-align: top;\n",
       "    }\n",
       "\n",
       "    .dataframe thead th {\n",
       "        text-align: right;\n",
       "    }\n",
       "</style>\n",
       "<table border=\"1\" class=\"dataframe\">\n",
       "  <thead>\n",
       "    <tr style=\"text-align: right;\">\n",
       "      <th></th>\n",
       "      <th>Close</th>\n",
       "    </tr>\n",
       "    <tr>\n",
       "      <th>Date</th>\n",
       "      <th></th>\n",
       "    </tr>\n",
       "  </thead>\n",
       "  <tbody>\n",
       "    <tr>\n",
       "      <th>2023-04-06</th>\n",
       "      <td>150.800003</td>\n",
       "    </tr>\n",
       "    <tr>\n",
       "      <th>2023-04-07</th>\n",
       "      <td>150.800003</td>\n",
       "    </tr>\n",
       "    <tr>\n",
       "      <th>2023-04-08</th>\n",
       "      <td>150.800003</td>\n",
       "    </tr>\n",
       "    <tr>\n",
       "      <th>2023-04-09</th>\n",
       "      <td>150.800003</td>\n",
       "    </tr>\n",
       "    <tr>\n",
       "      <th>2023-04-10</th>\n",
       "      <td>150.509995</td>\n",
       "    </tr>\n",
       "  </tbody>\n",
       "</table>\n",
       "</div>"
      ],
      "text/plain": [
       "                 Close\n",
       "Date                  \n",
       "2023-04-06  150.800003\n",
       "2023-04-07  150.800003\n",
       "2023-04-08  150.800003\n",
       "2023-04-09  150.800003\n",
       "2023-04-10  150.509995"
      ]
     },
     "execution_count": 13,
     "metadata": {},
     "output_type": "execute_result"
    }
   ],
   "source": [
    "test.head()"
   ]
  },
  {
   "cell_type": "code",
   "execution_count": 14,
   "id": "1466abff",
   "metadata": {},
   "outputs": [
    {
     "data": {
      "text/plain": [
       "[<matplotlib.lines.Line2D at 0x28a917ca0>]"
      ]
     },
     "execution_count": 14,
     "metadata": {},
     "output_type": "execute_result"
    },
    {
     "data": {
      "image/png": "[encoded data removed]",
      "text/plain": [
       "<Figure size 432x288 with 1 Axes>"
      ]
     },
     "metadata": {
      "needs_background": "light"
     },
     "output_type": "display_data"
    }
   ],
   "source": [
    "plt.figure()\n",
    "plt.plot(train)\n",
    "plt.plot(test)\n",
    "# plt.savefig('/Users/jennyhuang/Documents/jobs/DBC-AI-Launch/project1-StockPrediction/train-test')"
   ]
  },
  {
   "cell_type": "code",
   "execution_count": 15,
   "id": "9bf67338",
   "metadata": {},
   "outputs": [
    {
     "name": "stdout",
     "output_type": "stream",
     "text": [
      "Performing stepwise search to minimize aic\n",
      " ARIMA(0,1,0)(0,1,0)[12]             : AIC=2108.107, Time=0.03 sec\n",
      " ARIMA(1,1,0)(1,1,0)[12]             : AIC=1985.537, Time=0.23 sec\n",
      " ARIMA(0,1,1)(0,1,1)[12]             : AIC=inf, Time=0.86 sec\n",
      " ARIMA(1,1,0)(0,1,0)[12]             : AIC=2106.430, Time=0.04 sec\n",
      " ARIMA(1,1,0)(2,1,0)[12]             : AIC=1929.128, Time=0.34 sec\n",
      " ARIMA(1,1,0)(3,1,0)[12]             : AIC=1911.361, Time=0.53 sec\n",
      " ARIMA(1,1,0)(4,1,0)[12]             : AIC=1900.087, Time=1.03 sec\n",
      " ARIMA(1,1,0)(5,1,0)[12]             : AIC=1894.322, Time=1.97 sec\n",
      " ARIMA(1,1,0)(5,1,1)[12]             : AIC=inf, Time=nan sec\n",
      " ARIMA(1,1,0)(4,1,1)[12]             : AIC=inf, Time=11.69 sec\n",
      " ARIMA(0,1,0)(5,1,0)[12]             : AIC=1897.604, Time=1.59 sec\n",
      " ARIMA(2,1,0)(5,1,0)[12]             : AIC=1896.314, Time=2.50 sec\n",
      " ARIMA(1,1,1)(5,1,0)[12]             : AIC=1896.315, Time=3.55 sec\n",
      " ARIMA(0,1,1)(5,1,0)[12]             : AIC=1894.444, Time=2.28 sec\n",
      " ARIMA(2,1,1)(5,1,0)[12]             : AIC=1898.310, Time=2.82 sec\n",
      " ARIMA(1,1,0)(5,1,0)[12] intercept   : AIC=1896.240, Time=5.65 sec\n",
      "\n",
      "Best model:  ARIMA(1,1,0)(5,1,0)[12]          \n",
      "Total fit time: 41.939 seconds\n"
     ]
    }
   ],
   "source": [
    "arima_model =  auto_arima(train,start_p=0, d=1, start_q=0, \n",
    "                          max_p=5, max_d=5, max_q=5, start_P=0, \n",
    "                          D=1, start_Q=0, max_P=5, max_D=5,\n",
    "                          max_Q=5, m=12, seasonal=True, \n",
    "                          error_action='warn',trace = True,\n",
    "                          supress_warnings=True,stepwise = True,\n",
    "                          random_state=20,n_fits = 50 )"
   ]
  },
  {
   "cell_type": "code",
   "execution_count": 16,
   "id": "efaea098",
   "metadata": {},
   "outputs": [],
   "source": [
    "par_map = arima_model.get_params()\n",
    "a, b, c = par_map['order'][0], par_map['order'][1], par_map['order'][2]"
   ]
  },
  {
   "cell_type": "code",
   "execution_count": 17,
   "id": "5784619d",
   "metadata": {},
   "outputs": [
    {
     "name": "stdout",
     "output_type": "stream",
     "text": [
      "                               SARIMAX Results                                \n",
      "==============================================================================\n",
      "Dep. Variable:                  Close   No. Observations:                  458\n",
      "Model:                 ARIMA(1, 1, 0)   Log Likelihood                -916.226\n",
      "Date:                Tue, 20 Jun 2023   AIC                           1836.452\n",
      "Time:                        19:02:46   BIC                           1844.702\n",
      "Sample:                    01-03-2022   HQIC                          1839.702\n",
      "                         - 04-05-2023                                         \n",
      "Covariance Type:                  opg                                         \n",
      "==============================================================================\n",
      "                 coef    std err          z      P>|z|      [0.025      0.975]\n",
      "------------------------------------------------------------------------------\n",
      "ar.L1          0.0879      0.021      4.092      0.000       0.046       0.130\n",
      "sigma2         3.2279      0.064     50.769      0.000       3.103       3.353\n",
      "===================================================================================\n",
      "Ljung-Box (L1) (Q):                   0.00   Jarque-Bera (JB):              8353.69\n",
      "Prob(Q):                              0.99   Prob(JB):                         0.00\n",
      "Heteroskedasticity (H):               0.48   Skew:                            -1.84\n",
      "Prob(H) (two-sided):                  0.00   Kurtosis:                        23.62\n",
      "===================================================================================\n",
      "\n",
      "Warnings:\n",
      "[1] Covariance matrix calculated using the outer product of gradients (complex-step).\n"
     ]
    }
   ],
   "source": [
    "# check the Best model: ARIMA(1,1,1)(5,1,0)[12]\n",
    "model = sm.tsa.arima.ARIMA(train, order=(a, b, c))\n",
    "fitted = model.fit()\n",
    "print(fitted.summary())"
   ]
  },
  {
   "cell_type": "code",
   "execution_count": 18,
   "id": "0cc021af",
   "metadata": {},
   "outputs": [
    {
     "data": {
      "text/html": [
       "<table class=\"simpletable\">\n",
       "<caption>SARIMAX Results</caption>\n",
       "<tr>\n",
       "  <th>Dep. Variable:</th>                  <td>y</td>               <th>  No. Observations:  </th>    <td>458</td>  \n",
       "</tr>\n",
       "<tr>\n",
       "  <th>Model:</th>           <td>SARIMAX(1, 1, 0)x(5, 1, 0, 12)</td> <th>  Log Likelihood     </th> <td>-940.161</td>\n",
       "</tr>\n",
       "<tr>\n",
       "  <th>Date:</th>                   <td>Tue, 20 Jun 2023</td>        <th>  AIC                </th> <td>1894.322</td>\n",
       "</tr>\n",
       "<tr>\n",
       "  <th>Time:</th>                       <td>19:02:46</td>            <th>  BIC                </th> <td>1923.008</td>\n",
       "</tr>\n",
       "<tr>\n",
       "  <th>Sample:</th>                    <td>01-03-2022</td>           <th>  HQIC               </th> <td>1905.633</td>\n",
       "</tr>\n",
       "<tr>\n",
       "  <th></th>                          <td>- 04-05-2023</td>          <th>                     </th>     <td> </td>   \n",
       "</tr>\n",
       "<tr>\n",
       "  <th>Covariance Type:</th>               <td>opg</td>              <th>                     </th>     <td> </td>   \n",
       "</tr>\n",
       "</table>\n",
       "<table class=\"simpletable\">\n",
       "<tr>\n",
       "      <td></td>        <th>coef</th>     <th>std err</th>      <th>z</th>      <th>P>|z|</th>  <th>[0.025</th>    <th>0.975]</th>  \n",
       "</tr>\n",
       "<tr>\n",
       "  <th>ar.L1</th>    <td>    0.1098</td> <td>    0.030</td> <td>    3.636</td> <td> 0.000</td> <td>    0.051</td> <td>    0.169</td>\n",
       "</tr>\n",
       "<tr>\n",
       "  <th>ar.S.L12</th> <td>   -0.8099</td> <td>    0.039</td> <td>  -20.731</td> <td> 0.000</td> <td>   -0.886</td> <td>   -0.733</td>\n",
       "</tr>\n",
       "<tr>\n",
       "  <th>ar.S.L24</th> <td>   -0.6375</td> <td>    0.052</td> <td>  -12.292</td> <td> 0.000</td> <td>   -0.739</td> <td>   -0.536</td>\n",
       "</tr>\n",
       "<tr>\n",
       "  <th>ar.S.L36</th> <td>   -0.4269</td> <td>    0.055</td> <td>   -7.722</td> <td> 0.000</td> <td>   -0.535</td> <td>   -0.319</td>\n",
       "</tr>\n",
       "<tr>\n",
       "  <th>ar.S.L48</th> <td>   -0.2817</td> <td>    0.054</td> <td>   -5.176</td> <td> 0.000</td> <td>   -0.388</td> <td>   -0.175</td>\n",
       "</tr>\n",
       "<tr>\n",
       "  <th>ar.S.L60</th> <td>   -0.1330</td> <td>    0.036</td> <td>   -3.669</td> <td> 0.000</td> <td>   -0.204</td> <td>   -0.062</td>\n",
       "</tr>\n",
       "<tr>\n",
       "  <th>sigma2</th>   <td>    3.9075</td> <td>    0.115</td> <td>   33.852</td> <td> 0.000</td> <td>    3.681</td> <td>    4.134</td>\n",
       "</tr>\n",
       "</table>\n",
       "<table class=\"simpletable\">\n",
       "<tr>\n",
       "  <th>Ljung-Box (L1) (Q):</th>     <td>0.00</td> <th>  Jarque-Bera (JB):  </th> <td>3289.73</td>\n",
       "</tr>\n",
       "<tr>\n",
       "  <th>Prob(Q):</th>                <td>1.00</td> <th>  Prob(JB):          </th>  <td>0.00</td>  \n",
       "</tr>\n",
       "<tr>\n",
       "  <th>Heteroskedasticity (H):</th> <td>0.55</td> <th>  Skew:              </th>  <td>-1.25</td> \n",
       "</tr>\n",
       "<tr>\n",
       "  <th>Prob(H) (two-sided):</th>    <td>0.00</td> <th>  Kurtosis:          </th>  <td>16.08</td> \n",
       "</tr>\n",
       "</table><br/><br/>Warnings:<br/>[1] Covariance matrix calculated using the outer product of gradients (complex-step)."
      ],
      "text/latex": [
       "\\begin{center}\n",
       "\\begin{tabular}{lclc}\n",
       "\\toprule\n",
       "\\textbf{Dep. Variable:}          &               y                & \\textbf{  No. Observations:  } &    458      \\\\\n",
       "\\textbf{Model:}                  & SARIMAX(1, 1, 0)x(5, 1, 0, 12) & \\textbf{  Log Likelihood     } &  -940.161   \\\\\n",
       "\\textbf{Date:}                   &        Tue, 20 Jun 2023        & \\textbf{  AIC                } &  1894.322   \\\\\n",
       "\\textbf{Time:}                   &            19:02:46            & \\textbf{  BIC                } &  1923.008   \\\\\n",
       "\\textbf{Sample:}                 &           01-03-2022           & \\textbf{  HQIC               } &  1905.633   \\\\\n",
       "\\textbf{}                        &          - 04-05-2023          & \\textbf{                     } &             \\\\\n",
       "\\textbf{Covariance Type:}        &              opg               & \\textbf{                     } &             \\\\\n",
       "\\bottomrule\n",
       "\\end{tabular}\n",
       "\\begin{tabular}{lcccccc}\n",
       "                  & \\textbf{coef} & \\textbf{std err} & \\textbf{z} & \\textbf{P$> |$z$|$} & \\textbf{[0.025} & \\textbf{0.975]}  \\\\\n",
       "\\midrule\n",
       "\\textbf{ar.L1}    &       0.1098  &        0.030     &     3.636  &         0.000        &        0.051    &        0.169     \\\\\n",
       "\\textbf{ar.S.L12} &      -0.8099  &        0.039     &   -20.731  &         0.000        &       -0.886    &       -0.733     \\\\\n",
       "\\textbf{ar.S.L24} &      -0.6375  &        0.052     &   -12.292  &         0.000        &       -0.739    &       -0.536     \\\\\n",
       "\\textbf{ar.S.L36} &      -0.4269  &        0.055     &    -7.722  &         0.000        &       -0.535    &       -0.319     \\\\\n",
       "\\textbf{ar.S.L48} &      -0.2817  &        0.054     &    -5.176  &         0.000        &       -0.388    &       -0.175     \\\\\n",
       "\\textbf{ar.S.L60} &      -0.1330  &        0.036     &    -3.669  &         0.000        &       -0.204    &       -0.062     \\\\\n",
       "\\textbf{sigma2}   &       3.9075  &        0.115     &    33.852  &         0.000        &        3.681    &        4.134     \\\\\n",
       "\\bottomrule\n",
       "\\end{tabular}\n",
       "\\begin{tabular}{lclc}\n",
       "\\textbf{Ljung-Box (L1) (Q):}     & 0.00 & \\textbf{  Jarque-Bera (JB):  } & 3289.73  \\\\\n",
       "\\textbf{Prob(Q):}                & 1.00 & \\textbf{  Prob(JB):          } &   0.00   \\\\\n",
       "\\textbf{Heteroskedasticity (H):} & 0.55 & \\textbf{  Skew:              } &  -1.25   \\\\\n",
       "\\textbf{Prob(H) (two-sided):}    & 0.00 & \\textbf{  Kurtosis:          } &  16.08   \\\\\n",
       "\\bottomrule\n",
       "\\end{tabular}\n",
       "%\\caption{SARIMAX Results}\n",
       "\\end{center}\n",
       "\n",
       "Warnings: \\newline\n",
       " [1] Covariance matrix calculated using the outer product of gradients (complex-step)."
      ],
      "text/plain": [
       "<class 'statsmodels.iolib.summary.Summary'>\n",
       "\"\"\"\n",
       "                                     SARIMAX Results                                      \n",
       "==========================================================================================\n",
       "Dep. Variable:                                  y   No. Observations:                  458\n",
       "Model:             SARIMAX(1, 1, 0)x(5, 1, 0, 12)   Log Likelihood                -940.161\n",
       "Date:                            Tue, 20 Jun 2023   AIC                           1894.322\n",
       "Time:                                    19:02:46   BIC                           1923.008\n",
       "Sample:                                01-03-2022   HQIC                          1905.633\n",
       "                                     - 04-05-2023                                         \n",
       "Covariance Type:                              opg                                         \n",
       "==============================================================================\n",
       "                 coef    std err          z      P>|z|      [0.025      0.975]\n",
       "------------------------------------------------------------------------------\n",
       "ar.L1          0.1098      0.030      3.636      0.000       0.051       0.169\n",
       "ar.S.L12      -0.8099      0.039    -20.731      0.000      -0.886      -0.733\n",
       "ar.S.L24      -0.6375      0.052    -12.292      0.000      -0.739      -0.536\n",
       "ar.S.L36      -0.4269      0.055     -7.722      0.000      -0.535      -0.319\n",
       "ar.S.L48      -0.2817      0.054     -5.176      0.000      -0.388      -0.175\n",
       "ar.S.L60      -0.1330      0.036     -3.669      0.000      -0.204      -0.062\n",
       "sigma2         3.9075      0.115     33.852      0.000       3.681       4.134\n",
       "===================================================================================\n",
       "Ljung-Box (L1) (Q):                   0.00   Jarque-Bera (JB):              3289.73\n",
       "Prob(Q):                              1.00   Prob(JB):                         0.00\n",
       "Heteroskedasticity (H):               0.55   Skew:                            -1.25\n",
       "Prob(H) (two-sided):                  0.00   Kurtosis:                        16.08\n",
       "===================================================================================\n",
       "\n",
       "Warnings:\n",
       "[1] Covariance matrix calculated using the outer product of gradients (complex-step).\n",
       "\"\"\""
      ]
     },
     "execution_count": 18,
     "metadata": {},
     "output_type": "execute_result"
    }
   ],
   "source": [
    "# Summary of the model\n",
    "arima_model.summary()"
   ]
  },
  {
   "cell_type": "code",
   "execution_count": 19,
   "id": "830d38e7",
   "metadata": {},
   "outputs": [
    {
     "data": {
      "text/html": [
       "<div>\n",
       "<style scoped>\n",
       "    .dataframe tbody tr th:only-of-type {\n",
       "        vertical-align: middle;\n",
       "    }\n",
       "\n",
       "    .dataframe tbody tr th {\n",
       "        vertical-align: top;\n",
       "    }\n",
       "\n",
       "    .dataframe thead th {\n",
       "        text-align: right;\n",
       "    }\n",
       "</style>\n",
       "<table border=\"1\" class=\"dataframe\">\n",
       "  <thead>\n",
       "    <tr style=\"text-align: right;\">\n",
       "      <th></th>\n",
       "      <th>predicted_price</th>\n",
       "    </tr>\n",
       "    <tr>\n",
       "      <th>Date</th>\n",
       "      <th></th>\n",
       "    </tr>\n",
       "  </thead>\n",
       "  <tbody>\n",
       "    <tr>\n",
       "      <th>2023-05-22</th>\n",
       "      <td>156.256115</td>\n",
       "    </tr>\n",
       "    <tr>\n",
       "      <th>2023-05-23</th>\n",
       "      <td>157.143166</td>\n",
       "    </tr>\n",
       "    <tr>\n",
       "      <th>2023-05-24</th>\n",
       "      <td>157.271460</td>\n",
       "    </tr>\n",
       "    <tr>\n",
       "      <th>2023-05-25</th>\n",
       "      <td>157.445066</td>\n",
       "    </tr>\n",
       "    <tr>\n",
       "      <th>2023-05-26</th>\n",
       "      <td>158.712229</td>\n",
       "    </tr>\n",
       "  </tbody>\n",
       "</table>\n",
       "</div>"
      ],
      "text/plain": [
       "            predicted_price\n",
       "Date                       \n",
       "2023-05-22       156.256115\n",
       "2023-05-23       157.143166\n",
       "2023-05-24       157.271460\n",
       "2023-05-25       157.445066\n",
       "2023-05-26       158.712229"
      ]
     },
     "execution_count": 19,
     "metadata": {},
     "output_type": "execute_result"
    }
   ],
   "source": [
    "prediction = pd.DataFrame(arima_model.predict(n_periods = 51),index=test.index)\n",
    "prediction.columns = ['predicted_price']\n",
    "prediction.tail()"
   ]
  },
  {
   "cell_type": "code",
   "execution_count": 20,
   "id": "3e6bbdd3",
   "metadata": {},
   "outputs": [
    {
     "data": {
      "text/plain": [
       "<matplotlib.legend.Legend at 0x28a198850>"
      ]
     },
     "execution_count": 20,
     "metadata": {},
     "output_type": "execute_result"
    },
    {
     "data": {
      "image/png": "[encoded data removed]",
      "text/plain": [
       "<Figure size 504x216 with 1 Axes>"
      ]
     },
     "metadata": {
      "needs_background": "light"
     },
     "output_type": "display_data"
    }
   ],
   "source": [
    "plt.figure(figsize=(7,3))\n",
    "plt.plot(train,label=\"Training\")\n",
    "plt.plot(test,label=\"Test\")\n",
    "plt.plot(prediction,label=\"Predicted\")\n",
    "plt.legend(loc = 'best')\n",
    "# plt.savefig('/Users/jennyhuang/Documents/jobs/DBC-AI-Launch/project1-StockPrediction/test/TimeSeries_Auto-ARIMA/prediction.png')"
   ]
  },
  {
   "cell_type": "code",
   "execution_count": 21,
   "id": "ef9154a3",
   "metadata": {},
   "outputs": [
    {
     "data": {
      "text/plain": [
       "-5.791602859211287"
      ]
     },
     "execution_count": 21,
     "metadata": {},
     "output_type": "execute_result"
    }
   ],
   "source": [
    "test['predicted_price'] = prediction\n",
    "r2_score(test['Close'], test['predicted_price'])"
   ]
  },
  {
   "cell_type": "code",
   "execution_count": 22,
   "id": "90a0f2e2",
   "metadata": {
    "scrolled": false
   },
   "outputs": [
    {
     "name": "stdout",
     "output_type": "stream",
     "text": [
      "\\begin{tabular}{lr}\n",
      "\\toprule\n",
      "{} &  predicted\\_price \\\\\n",
      "\\midrule\n",
      "2023-04-06 &       149.921579 \\\\\n",
      "2023-04-07 &       149.903199 \\\\\n",
      "2023-04-08 &       150.685145 \\\\\n",
      "2023-04-09 &       150.376560 \\\\\n",
      "2023-04-10 &       151.010058 \\\\\n",
      "2023-04-11 &       151.157910 \\\\\n",
      "2023-04-12 &       150.736259 \\\\\n",
      "\\bottomrule\n",
      "\\end{tabular}\n",
      "\n"
     ]
    },
    {
     "data": {
      "text/html": [
       "<div>\n",
       "<style scoped>\n",
       "    .dataframe tbody tr th:only-of-type {\n",
       "        vertical-align: middle;\n",
       "    }\n",
       "\n",
       "    .dataframe tbody tr th {\n",
       "        vertical-align: top;\n",
       "    }\n",
       "\n",
       "    .dataframe thead th {\n",
       "        text-align: right;\n",
       "    }\n",
       "</style>\n",
       "<table border=\"1\" class=\"dataframe\">\n",
       "  <thead>\n",
       "    <tr style=\"text-align: right;\">\n",
       "      <th></th>\n",
       "      <th>predicted_price</th>\n",
       "    </tr>\n",
       "  </thead>\n",
       "  <tbody>\n",
       "    <tr>\n",
       "      <th>2023-04-06</th>\n",
       "      <td>149.921579</td>\n",
       "    </tr>\n",
       "    <tr>\n",
       "      <th>2023-04-07</th>\n",
       "      <td>149.903199</td>\n",
       "    </tr>\n",
       "    <tr>\n",
       "      <th>2023-04-08</th>\n",
       "      <td>150.685145</td>\n",
       "    </tr>\n",
       "    <tr>\n",
       "      <th>2023-04-09</th>\n",
       "      <td>150.376560</td>\n",
       "    </tr>\n",
       "    <tr>\n",
       "      <th>2023-04-10</th>\n",
       "      <td>151.010058</td>\n",
       "    </tr>\n",
       "    <tr>\n",
       "      <th>2023-04-11</th>\n",
       "      <td>151.157910</td>\n",
       "    </tr>\n",
       "    <tr>\n",
       "      <th>2023-04-12</th>\n",
       "      <td>150.736259</td>\n",
       "    </tr>\n",
       "  </tbody>\n",
       "</table>\n",
       "</div>"
      ],
      "text/plain": [
       "            predicted_price\n",
       "2023-04-06       149.921579\n",
       "2023-04-07       149.903199\n",
       "2023-04-08       150.685145\n",
       "2023-04-09       150.376560\n",
       "2023-04-10       151.010058\n",
       "2023-04-11       151.157910\n",
       "2023-04-12       150.736259"
      ]
     },
     "execution_count": 22,
     "metadata": {},
     "output_type": "execute_result"
    }
   ],
   "source": [
    "prediction = pd.DataFrame(arima_model.predict(n_periods = 7))\n",
    "prediction.columns = ['predicted_price']\n",
    "print(prediction.to_latex())\n",
    "prediction"
   ]
  },
  {
   "cell_type": "code",
   "execution_count": 23,
   "id": "6cd9c324",
   "metadata": {},
   "outputs": [
    {
     "data": {
      "text/html": [
       "<div>\n",
       "<style scoped>\n",
       "    .dataframe tbody tr th:only-of-type {\n",
       "        vertical-align: middle;\n",
       "    }\n",
       "\n",
       "    .dataframe tbody tr th {\n",
       "        vertical-align: top;\n",
       "    }\n",
       "\n",
       "    .dataframe thead th {\n",
       "        text-align: right;\n",
       "    }\n",
       "</style>\n",
       "<table border=\"1\" class=\"dataframe\">\n",
       "  <thead>\n",
       "    <tr style=\"text-align: right;\">\n",
       "      <th></th>\n",
       "      <th>predicted_price</th>\n",
       "    </tr>\n",
       "  </thead>\n",
       "  <tbody>\n",
       "    <tr>\n",
       "      <th>2023-05-27</th>\n",
       "      <td>158.106561</td>\n",
       "    </tr>\n",
       "    <tr>\n",
       "      <th>2023-05-28</th>\n",
       "      <td>158.839904</td>\n",
       "    </tr>\n",
       "    <tr>\n",
       "      <th>2023-05-29</th>\n",
       "      <td>159.133057</td>\n",
       "    </tr>\n",
       "    <tr>\n",
       "      <th>2023-05-30</th>\n",
       "      <td>159.209445</td>\n",
       "    </tr>\n",
       "    <tr>\n",
       "      <th>2023-05-31</th>\n",
       "      <td>159.583281</td>\n",
       "    </tr>\n",
       "    <tr>\n",
       "      <th>2023-06-01</th>\n",
       "      <td>159.496781</td>\n",
       "    </tr>\n",
       "    <tr>\n",
       "      <th>2023-06-02</th>\n",
       "      <td>159.524016</td>\n",
       "    </tr>\n",
       "  </tbody>\n",
       "</table>\n",
       "</div>"
      ],
      "text/plain": [
       "            predicted_price\n",
       "2023-05-27       158.106561\n",
       "2023-05-28       158.839904\n",
       "2023-05-29       159.133057\n",
       "2023-05-30       159.209445\n",
       "2023-05-31       159.583281\n",
       "2023-06-01       159.496781\n",
       "2023-06-02       159.524016"
      ]
     },
     "execution_count": 23,
     "metadata": {},
     "output_type": "execute_result"
    }
   ],
   "source": [
    "# final result for future 7 days\n",
    "prediction = pd.DataFrame(arima_model.predict(n_periods = 58))\n",
    "prediction.columns = ['predicted_price']\n",
    "prediction.tail(7)"
   ]
  },
  {
   "cell_type": "code",
   "execution_count": 24,
   "id": "08138d08",
   "metadata": {},
   "outputs": [
    {
     "name": "stdout",
     "output_type": "stream",
     "text": [
      "The precentage of the future 7th day's price is higher than the prediction day is 8.95%\n"
     ]
    }
   ],
   "source": [
    "real = data.loc['2023-05-26', 'Close']\n",
    "pred = prediction.loc['2023-06-02', 'predicted_price']\n",
    "perc = (pred - real) / real * 100\n",
    "print(\"The precentage of the future 7th day's price is higher than the prediction day is {0:.2f}%\".format(perc))"
   ]
  },
  {
   "cell_type": "code",
   "execution_count": 25,
   "id": "4098bd35",
   "metadata": {},
   "outputs": [
    {
     "name": "stdout",
     "output_type": "stream",
     "text": [
      "Total running time is 0.76 min\n"
     ]
    }
   ],
   "source": [
    "toc = time.time()\n",
    "print(\"Total running time is {0:.2f} min\".format((toc - tic) / 60))"
   ]
  }
 ],
 "metadata": {
  "kernelspec": {
   "display_name": "Python 3 (ipykernel)",
   "language": "python",
   "name": "python3"
  },
  "language_info": {
   "codemirror_mode": {
    "name": "ipython",
    "version": 3
   },
   "file_extension": ".py",
   "mimetype": "text/x-python",
   "name": "python",
   "nbconvert_exporter": "python",
   "pygments_lexer": "ipython3",
   "version": "3.9.13"
  }
 },
 "nbformat": 4,
 "nbformat_minor": 5
}
